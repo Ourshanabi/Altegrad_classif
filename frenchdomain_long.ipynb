{
 "cells": [
  {
   "cell_type": "markdown",
   "metadata": {
    "colab_type": "text",
    "id": "view-in-github"
   },
   "source": [
    "<a href=\"https://colab.research.google.com/github/ArmandDS/bert_for_long_text/blob/master/final_bert_long_docs.ipynb\" target=\"_parent\"><img src=\"https://colab.research.google.com/assets/colab-badge.svg\" alt=\"Open In Colab\"/></a>"
   ]
  },
  {
   "cell_type": "markdown",
   "metadata": {
    "colab_type": "text",
    "id": "_ojSZ5hvYnvV"
   },
   "source": [
    "# Importing Necessary Libraries"
   ]
  },
  {
   "cell_type": "code",
   "execution_count": 1,
   "metadata": {
    "colab": {
     "base_uri": "https://localhost:8080/",
     "height": 80
    },
    "colab_type": "code",
    "id": "SlW7YHjGz0o5",
    "outputId": "1120051f-c792-4568-ac1f-f469bf4e4044"
   },
   "outputs": [
    {
     "name": "stderr",
     "output_type": "stream",
     "text": [
      "Using TensorFlow backend.\n"
     ]
    }
   ],
   "source": [
    "import pandas as pd\n",
    "import numpy as np\n",
    "np.random.seed(1337)\n",
    "from keras import Sequential\n",
    "from keras.utils import Sequence\n",
    "from keras.layers import LSTM, Dense, Masking\n",
    "import numpy as np\n",
    "import keras\n",
    "from keras.utils import np_utils\n",
    "from keras import optimizers\n",
    "from keras.models import Sequential, Model\n",
    "from keras.layers import Embedding, Dense, Input, concatenate, Layer, Lambda, Dropout, Activation\n",
    "import datetime\n",
    "from datetime import datetime\n",
    "from keras.callbacks import ModelCheckpoint, EarlyStopping, Callback, TensorBoard\n",
    "import tensorflow as tf\n",
    "import tensorflow_hub as hub\n",
    "\n",
    "from cleantext import clean\n",
    "import pickle\n",
    "import string"
   ]
  },
  {
   "cell_type": "markdown",
   "metadata": {
    "colab_type": "text",
    "heading_collapsed": true,
    "id": "3JEJQ70-Ze4X"
   },
   "source": [
    "# Loading The Data"
   ]
  },
  {
   "cell_type": "code",
   "execution_count": 2,
   "metadata": {
    "colab": {
     "base_uri": "https://localhost:8080/",
     "height": 428
    },
    "colab_type": "code",
    "hidden": true,
    "id": "82TK3tDYzpqm",
    "outputId": "af1cc890-7712-44ed-be0d-b30a10b4b081"
   },
   "outputs": [
    {
     "data": {
      "text/html": [
       "<div>\n",
       "<style scoped>\n",
       "    .dataframe tbody tr th:only-of-type {\n",
       "        vertical-align: middle;\n",
       "    }\n",
       "\n",
       "    .dataframe tbody tr th {\n",
       "        vertical-align: top;\n",
       "    }\n",
       "\n",
       "    .dataframe thead th {\n",
       "        text-align: right;\n",
       "    }\n",
       "</style>\n",
       "<table border=\"1\" class=\"dataframe\">\n",
       "  <thead>\n",
       "    <tr style=\"text-align: right;\">\n",
       "      <th></th>\n",
       "      <th>host</th>\n",
       "      <th>text</th>\n",
       "      <th>label_text</th>\n",
       "      <th>label_num</th>\n",
       "    </tr>\n",
       "  </thead>\n",
       "  <tbody>\n",
       "    <tr>\n",
       "      <th>0</th>\n",
       "      <td>9032</td>\n",
       "      <td>#polepharma » flux polepharma » flux des co...</td>\n",
       "      <td>health/medical</td>\n",
       "      <td>3</td>\n",
       "    </tr>\n",
       "    <tr>\n",
       "      <th>1</th>\n",
       "      <td>5346</td>\n",
       "      <td>301 moved permanen...</td>\n",
       "      <td>entertainment</td>\n",
       "      <td>2</td>\n",
       "    </tr>\n",
       "    <tr>\n",
       "      <th>2</th>\n",
       "      <td>18778</td>\n",
       "      <td>(button) fermer   en poursuivant votre navi...</td>\n",
       "      <td>entertainment</td>\n",
       "      <td>2</td>\n",
       "    </tr>\n",
       "    <tr>\n",
       "      <th>3</th>\n",
       "      <td>11939</td>\n",
       "      <td>#hal   (button) toggle navigation   ccsd   ...</td>\n",
       "      <td>education/research</td>\n",
       "      <td>1</td>\n",
       "    </tr>\n",
       "    <tr>\n",
       "      <th>4</th>\n",
       "      <td>17502</td>\n",
       "      <td>user-agent: * disallow: disallow: /publishe...</td>\n",
       "      <td>tech/science</td>\n",
       "      <td>7</td>\n",
       "    </tr>\n",
       "  </tbody>\n",
       "</table>\n",
       "</div>"
      ],
      "text/plain": [
       "    host                                               text  \\\n",
       "0   9032     #polepharma » flux polepharma » flux des co...   \n",
       "1   5346                              301 moved permanen...   \n",
       "2  18778     (button) fermer   en poursuivant votre navi...   \n",
       "3  11939     #hal   (button) toggle navigation   ccsd   ...   \n",
       "4  17502     user-agent: * disallow: disallow: /publishe...   \n",
       "\n",
       "           label_text  label_num  \n",
       "0      health/medical          3  \n",
       "1       entertainment          2  \n",
       "2       entertainment          2  \n",
       "3  education/research          1  \n",
       "4        tech/science          7  "
      ]
     },
     "execution_count": 2,
     "metadata": {},
     "output_type": "execute_result"
    }
   ],
   "source": [
    "train_raw = pd.read_pickle('Train_data')\n",
    "test_raw = pd.read_pickle('Test_data')\n",
    "train_raw.head()"
   ]
  },
  {
   "cell_type": "code",
   "execution_count": 3,
   "metadata": {
    "colab": {
     "base_uri": "https://localhost:8080/",
     "height": 34
    },
    "colab_type": "code",
    "hidden": true,
    "id": "S6kyJH661det",
    "outputId": "6ab0745a-f50b-43fa-b0a8-ad44a9e6dffc"
   },
   "outputs": [
    {
     "name": "stdout",
     "output_type": "stream",
     "text": [
      "(2125, 4)\n",
      "(560, 2)\n"
     ]
    }
   ],
   "source": [
    "print(train_raw.shape)\n",
    "print(test_raw.shape)"
   ]
  },
  {
   "cell_type": "markdown",
   "metadata": {
    "colab_type": "text",
    "heading_collapsed": true,
    "id": "-Hr1v_VoZqws"
   },
   "source": [
    "# Preprocessing Data"
   ]
  },
  {
   "cell_type": "code",
   "execution_count": 4,
   "metadata": {
    "colab": {
     "base_uri": "https://localhost:8080/",
     "height": 282
    },
    "colab_type": "code",
    "hidden": true,
    "id": "pAMdnQBv1qlC",
    "outputId": "b0cad918-406f-484e-a922-695ce9c01ab3"
   },
   "outputs": [
    {
     "data": {
      "text/plain": [
       "<matplotlib.axes._subplots.AxesSubplot at 0x2093b58bf48>"
      ]
     },
     "execution_count": 4,
     "metadata": {},
     "output_type": "execute_result"
    },
    {
     "data": {
      "image/png": "[encoded data removed]",
      "text/plain": [
       "<Figure size 432x288 with 1 Axes>"
      ]
     },
     "metadata": {
      "needs_background": "light"
     },
     "output_type": "display_data"
    }
   ],
   "source": [
    "train_raw.text.apply(lambda x: len(x.split())).plot(kind='hist')\n",
    "test_raw.text.apply(lambda x: len(x.split())).plot(kind='hist')"
   ]
  },
  {
   "cell_type": "code",
   "execution_count": 5,
   "metadata": {
    "colab": {
     "base_uri": "https://localhost:8080/",
     "height": 297
    },
    "colab_type": "code",
    "hidden": true,
    "id": "eGyH4kwB0TH6",
    "outputId": "c8117d31-a15b-49f4-d6e0-8e9b905a2c65"
   },
   "outputs": [
    {
     "data": {
      "text/html": [
       "<div>\n",
       "<style scoped>\n",
       "    .dataframe tbody tr th:only-of-type {\n",
       "        vertical-align: middle;\n",
       "    }\n",
       "\n",
       "    .dataframe tbody tr th {\n",
       "        vertical-align: top;\n",
       "    }\n",
       "\n",
       "    .dataframe thead th {\n",
       "        text-align: right;\n",
       "    }\n",
       "</style>\n",
       "<table border=\"1\" class=\"dataframe\">\n",
       "  <thead>\n",
       "    <tr style=\"text-align: right;\">\n",
       "      <th></th>\n",
       "      <th>label_num</th>\n",
       "      <th>len_txt</th>\n",
       "    </tr>\n",
       "  </thead>\n",
       "  <tbody>\n",
       "    <tr>\n",
       "      <th>count</th>\n",
       "      <td>2125.000000</td>\n",
       "      <td>2125.000000</td>\n",
       "    </tr>\n",
       "    <tr>\n",
       "      <th>mean</th>\n",
       "      <td>2.485176</td>\n",
       "      <td>7800.792941</td>\n",
       "    </tr>\n",
       "    <tr>\n",
       "      <th>std</th>\n",
       "      <td>2.418423</td>\n",
       "      <td>14526.236363</td>\n",
       "    </tr>\n",
       "    <tr>\n",
       "      <th>min</th>\n",
       "      <td>0.000000</td>\n",
       "      <td>0.000000</td>\n",
       "    </tr>\n",
       "    <tr>\n",
       "      <th>25%</th>\n",
       "      <td>0.000000</td>\n",
       "      <td>1053.000000</td>\n",
       "    </tr>\n",
       "    <tr>\n",
       "      <th>50%</th>\n",
       "      <td>2.000000</td>\n",
       "      <td>3043.000000</td>\n",
       "    </tr>\n",
       "    <tr>\n",
       "      <th>75%</th>\n",
       "      <td>5.000000</td>\n",
       "      <td>8487.000000</td>\n",
       "    </tr>\n",
       "    <tr>\n",
       "      <th>max</th>\n",
       "      <td>7.000000</td>\n",
       "      <td>194304.000000</td>\n",
       "    </tr>\n",
       "  </tbody>\n",
       "</table>\n",
       "</div>"
      ],
      "text/plain": [
       "         label_num        len_txt\n",
       "count  2125.000000    2125.000000\n",
       "mean      2.485176    7800.792941\n",
       "std       2.418423   14526.236363\n",
       "min       0.000000       0.000000\n",
       "25%       0.000000    1053.000000\n",
       "50%       2.000000    3043.000000\n",
       "75%       5.000000    8487.000000\n",
       "max       7.000000  194304.000000"
      ]
     },
     "execution_count": 5,
     "metadata": {},
     "output_type": "execute_result"
    }
   ],
   "source": [
    "train_raw['len_txt'] = train_raw.text.apply(lambda x: len(x.split()))\n",
    "test_raw['len_txt'] = train_raw.text.apply(lambda x: len(x.split()))\n",
    "train_raw.describe()"
   ]
  },
  {
   "cell_type": "code",
   "execution_count": 6,
   "metadata": {
    "colab": {
     "base_uri": "https://localhost:8080/",
     "height": 34
    },
    "colab_type": "code",
    "hidden": true,
    "id": "LqFgGC_TkvyA",
    "outputId": "db5dff6d-862a-45cf-a71c-957c81cb5888"
   },
   "outputs": [
    {
     "name": "stdout",
     "output_type": "stream",
     "text": [
      "(2125, 5)\n",
      "(560, 3)\n"
     ]
    }
   ],
   "source": [
    "print(train_raw.shape)\n",
    "print(test_raw.shape)"
   ]
  },
  {
   "cell_type": "markdown",
   "metadata": {
    "colab_type": "text",
    "hidden": true,
    "id": "SumN633drVVO"
   },
   "source": [
    "Select only the row with number of words greater than 250: maybe ?"
   ]
  },
  {
   "cell_type": "code",
   "execution_count": 7,
   "metadata": {
    "colab": {
     "base_uri": "https://localhost:8080/",
     "height": 204
    },
    "colab_type": "code",
    "hidden": true,
    "id": "WzYJ1SYn0uE6",
    "outputId": "96884ed2-2088-46d1-d026-26000441690d"
   },
   "outputs": [
    {
     "data": {
      "text/html": [
       "<div>\n",
       "<style scoped>\n",
       "    .dataframe tbody tr th:only-of-type {\n",
       "        vertical-align: middle;\n",
       "    }\n",
       "\n",
       "    .dataframe tbody tr th {\n",
       "        vertical-align: top;\n",
       "    }\n",
       "\n",
       "    .dataframe thead th {\n",
       "        text-align: right;\n",
       "    }\n",
       "</style>\n",
       "<table border=\"1\" class=\"dataframe\">\n",
       "  <thead>\n",
       "    <tr style=\"text-align: right;\">\n",
       "      <th></th>\n",
       "      <th>host</th>\n",
       "      <th>text</th>\n",
       "      <th>label_text</th>\n",
       "    </tr>\n",
       "  </thead>\n",
       "  <tbody>\n",
       "    <tr>\n",
       "      <th>0</th>\n",
       "      <td>9032</td>\n",
       "      <td>#polepharma » flux polepharma » flux des co...</td>\n",
       "      <td>health/medical</td>\n",
       "    </tr>\n",
       "    <tr>\n",
       "      <th>1</th>\n",
       "      <td>5346</td>\n",
       "      <td>301 moved permanen...</td>\n",
       "      <td>entertainment</td>\n",
       "    </tr>\n",
       "    <tr>\n",
       "      <th>2</th>\n",
       "      <td>18778</td>\n",
       "      <td>(button) fermer   en poursuivant votre navi...</td>\n",
       "      <td>entertainment</td>\n",
       "    </tr>\n",
       "    <tr>\n",
       "      <th>3</th>\n",
       "      <td>11939</td>\n",
       "      <td>#hal   (button) toggle navigation   ccsd   ...</td>\n",
       "      <td>education/research</td>\n",
       "    </tr>\n",
       "    <tr>\n",
       "      <th>4</th>\n",
       "      <td>17502</td>\n",
       "      <td>user-agent: * disallow: disallow: /publishe...</td>\n",
       "      <td>tech/science</td>\n",
       "    </tr>\n",
       "  </tbody>\n",
       "</table>\n",
       "</div>"
      ],
      "text/plain": [
       "    host                                               text  \\\n",
       "0   9032     #polepharma » flux polepharma » flux des co...   \n",
       "1   5346                              301 moved permanen...   \n",
       "2  18778     (button) fermer   en poursuivant votre navi...   \n",
       "3  11939     #hal   (button) toggle navigation   ccsd   ...   \n",
       "4  17502     user-agent: * disallow: disallow: /publishe...   \n",
       "\n",
       "           label_text  \n",
       "0      health/medical  \n",
       "1       entertainment  \n",
       "2       entertainment  \n",
       "3  education/research  \n",
       "4        tech/science  "
      ]
     },
     "execution_count": 7,
     "metadata": {},
     "output_type": "execute_result"
    }
   ],
   "source": [
    "train_raw = train_raw[['host','text', 'label_text']]\n",
    "train_raw.reset_index(inplace=True, drop=True)\n",
    "train_raw.head()"
   ]
  },
  {
   "cell_type": "markdown",
   "metadata": {
    "colab_type": "text",
    "hidden": true,
    "id": "beKGErd96q9p"
   },
   "source": [
    "Group similar products"
   ]
  },
  {
   "cell_type": "code",
   "execution_count": 8,
   "metadata": {
    "colab": {
     "base_uri": "https://localhost:8080/",
     "height": 187
    },
    "colab_type": "code",
    "hidden": true,
    "id": "4jG9xKs1CJnh",
    "outputId": "57102e86-62ab-4dc0-d4fd-f48020ecf525"
   },
   "outputs": [
    {
     "name": "stdout",
     "output_type": "stream",
     "text": [
      "business/finance\n",
      "education/research\n",
      "entertainment\n",
      "health/medical\n",
      "news/press\n",
      "politics/government/law\n",
      "sports\n",
      "tech/science\n"
     ]
    }
   ],
   "source": [
    "for l in np.unique(train_raw['label_text']):\n",
    "  print(l)"
   ]
  },
  {
   "cell_type": "code",
   "execution_count": 9,
   "metadata": {
    "colab": {
     "base_uri": "https://localhost:8080/",
     "height": 648
    },
    "colab_type": "code",
    "hidden": true,
    "id": "ISkKV5RX344m",
    "outputId": "225b6441-e028-4983-c10d-cd2a3f45cbc6"
   },
   "outputs": [
    {
     "data": {
      "text/plain": [
       "<matplotlib.axes._subplots.AxesSubplot at 0x2093bf76348>"
      ]
     },
     "execution_count": 9,
     "metadata": {},
     "output_type": "execute_result"
    },
    {
     "data": {
      "image/png": "[encoded data removed]",
      "text/plain": [
       "<Figure size 432x288 with 1 Axes>"
      ]
     },
     "metadata": {
      "needs_background": "light"
     },
     "output_type": "display_data"
    }
   ],
   "source": [
    "train_raw['label_text'].value_counts().sort_values(ascending=False).plot(kind='bar')"
   ]
  },
  {
   "cell_type": "code",
   "execution_count": 10,
   "metadata": {
    "colab": {
     "base_uri": "https://localhost:8080/",
     "height": 204
    },
    "colab_type": "code",
    "hidden": true,
    "id": "JFckqSM_4Pvr",
    "outputId": "46f83ccc-0d07-406c-a5d7-783c4b308412"
   },
   "outputs": [
    {
     "data": {
      "text/html": [
       "<div>\n",
       "<style scoped>\n",
       "    .dataframe tbody tr th:only-of-type {\n",
       "        vertical-align: middle;\n",
       "    }\n",
       "\n",
       "    .dataframe tbody tr th {\n",
       "        vertical-align: top;\n",
       "    }\n",
       "\n",
       "    .dataframe thead th {\n",
       "        text-align: right;\n",
       "    }\n",
       "</style>\n",
       "<table border=\"1\" class=\"dataframe\">\n",
       "  <thead>\n",
       "    <tr style=\"text-align: right;\">\n",
       "      <th></th>\n",
       "      <th>host</th>\n",
       "      <th>text</th>\n",
       "      <th>label_text</th>\n",
       "      <th>label</th>\n",
       "    </tr>\n",
       "  </thead>\n",
       "  <tbody>\n",
       "    <tr>\n",
       "      <th>0</th>\n",
       "      <td>9032</td>\n",
       "      <td>#polepharma » flux polepharma » flux des co...</td>\n",
       "      <td>health/medical</td>\n",
       "      <td>3</td>\n",
       "    </tr>\n",
       "    <tr>\n",
       "      <th>1</th>\n",
       "      <td>5346</td>\n",
       "      <td>301 moved permanen...</td>\n",
       "      <td>entertainment</td>\n",
       "      <td>2</td>\n",
       "    </tr>\n",
       "    <tr>\n",
       "      <th>2</th>\n",
       "      <td>18778</td>\n",
       "      <td>(button) fermer   en poursuivant votre navi...</td>\n",
       "      <td>entertainment</td>\n",
       "      <td>2</td>\n",
       "    </tr>\n",
       "    <tr>\n",
       "      <th>3</th>\n",
       "      <td>11939</td>\n",
       "      <td>#hal   (button) toggle navigation   ccsd   ...</td>\n",
       "      <td>education/research</td>\n",
       "      <td>1</td>\n",
       "    </tr>\n",
       "    <tr>\n",
       "      <th>4</th>\n",
       "      <td>17502</td>\n",
       "      <td>user-agent: * disallow: disallow: /publishe...</td>\n",
       "      <td>tech/science</td>\n",
       "      <td>7</td>\n",
       "    </tr>\n",
       "  </tbody>\n",
       "</table>\n",
       "</div>"
      ],
      "text/plain": [
       "    host                                               text  \\\n",
       "0   9032     #polepharma » flux polepharma » flux des co...   \n",
       "1   5346                              301 moved permanen...   \n",
       "2  18778     (button) fermer   en poursuivant votre navi...   \n",
       "3  11939     #hal   (button) toggle navigation   ccsd   ...   \n",
       "4  17502     user-agent: * disallow: disallow: /publishe...   \n",
       "\n",
       "           label_text  label  \n",
       "0      health/medical      3  \n",
       "1       entertainment      2  \n",
       "2       entertainment      2  \n",
       "3  education/research      1  \n",
       "4        tech/science      7  "
      ]
     },
     "execution_count": 10,
     "metadata": {},
     "output_type": "execute_result"
    }
   ],
   "source": [
    "from sklearn.preprocessing import LabelEncoder\n",
    "\n",
    "LE = LabelEncoder()\n",
    "train_raw['label'] = LE.fit_transform(train_raw['label_text'])\n",
    "train_raw.head()"
   ]
  },
  {
   "cell_type": "code",
   "execution_count": 11,
   "metadata": {
    "colab": {
     "base_uri": "https://localhost:8080/",
     "height": 34
    },
    "colab_type": "code",
    "hidden": true,
    "id": "VvAEbfcK40vP",
    "outputId": "1eecd4ae-177d-4578-b3df-adb2f137451f"
   },
   "outputs": [
    {
     "data": {
      "text/plain": [
       "8"
      ]
     },
     "execution_count": 11,
     "metadata": {},
     "output_type": "execute_result"
    }
   ],
   "source": [
    "len(np.unique(train_raw['label']))"
   ]
  },
  {
   "cell_type": "code",
   "execution_count": 12,
   "metadata": {
    "colab": {},
    "colab_type": "code",
    "hidden": true,
    "id": "vjTcB2IElYK-"
   },
   "outputs": [],
   "source": [
    "train = train_raw.copy()\n",
    "test = test_raw.copy()"
   ]
  },
  {
   "cell_type": "raw",
   "metadata": {
    "hidden": true
   },
   "source": [
    "train['len_txt'] =train.text.apply(lambda x: len(x.split()))\n",
    "train = train[train.len_txt >150] # only select page with more than 150 words\n",
    "print(train.shape)"
   ]
  },
  {
   "cell_type": "code",
   "execution_count": 13,
   "metadata": {
    "colab": {
     "base_uri": "https://localhost:8080/",
     "height": 204
    },
    "colab_type": "code",
    "hidden": true,
    "id": "S3EJew8g5cUK",
    "outputId": "5b0fe85f-23df-46ad-f705-776ad8e4d971"
   },
   "outputs": [
    {
     "data": {
      "text/html": [
       "<div>\n",
       "<style scoped>\n",
       "    .dataframe tbody tr th:only-of-type {\n",
       "        vertical-align: middle;\n",
       "    }\n",
       "\n",
       "    .dataframe tbody tr th {\n",
       "        vertical-align: top;\n",
       "    }\n",
       "\n",
       "    .dataframe thead th {\n",
       "        text-align: right;\n",
       "    }\n",
       "</style>\n",
       "<table border=\"1\" class=\"dataframe\">\n",
       "  <thead>\n",
       "    <tr style=\"text-align: right;\">\n",
       "      <th></th>\n",
       "      <th>host</th>\n",
       "      <th>text</th>\n",
       "      <th>label_text</th>\n",
       "      <th>label</th>\n",
       "    </tr>\n",
       "  </thead>\n",
       "  <tbody>\n",
       "    <tr>\n",
       "      <th>1847</th>\n",
       "      <td>7587</td>\n",
       "      <td>aller au contenu principal   (button) ouvri...</td>\n",
       "      <td>business/finance</td>\n",
       "      <td>0</td>\n",
       "    </tr>\n",
       "    <tr>\n",
       "      <th>357</th>\n",
       "      <td>16150</td>\n",
       "      <td>fort young hotel     * overview     * rooms...</td>\n",
       "      <td>entertainment</td>\n",
       "      <td>2</td>\n",
       "    </tr>\n",
       "    <tr>\n",
       "      <th>1827</th>\n",
       "      <td>9841</td>\n",
       "      <td>301moved permanently   the document has been p...</td>\n",
       "      <td>business/finance</td>\n",
       "      <td>0</td>\n",
       "    </tr>\n",
       "    <tr>\n",
       "      <th>1879</th>\n",
       "      <td>6441</td>\n",
       "      <td>#alternate alternate alternate alternate a...</td>\n",
       "      <td>business/finance</td>\n",
       "      <td>0</td>\n",
       "    </tr>\n",
       "    <tr>\n",
       "      <th>522</th>\n",
       "      <td>8533</td>\n",
       "      <td>#rss     * [750g_influenceurs.png]     * __...</td>\n",
       "      <td>entertainment</td>\n",
       "      <td>2</td>\n",
       "    </tr>\n",
       "  </tbody>\n",
       "</table>\n",
       "</div>"
      ],
      "text/plain": [
       "       host                                               text  \\\n",
       "1847   7587     aller au contenu principal   (button) ouvri...   \n",
       "357   16150     fort young hotel     * overview     * rooms...   \n",
       "1827   9841  301moved permanently   the document has been p...   \n",
       "1879   6441      #alternate alternate alternate alternate a...   \n",
       "522    8533     #rss     * [750g_influenceurs.png]     * __...   \n",
       "\n",
       "            label_text  label  \n",
       "1847  business/finance      0  \n",
       "357      entertainment      2  \n",
       "1827  business/finance      0  \n",
       "1879  business/finance      0  \n",
       "522      entertainment      2  "
      ]
     },
     "execution_count": 13,
     "metadata": {},
     "output_type": "execute_result"
    }
   ],
   "source": [
    "from sklearn.model_selection import train_test_split\n",
    "train, val = train_test_split(train, test_size=0.1, random_state=35)\n",
    "train.head()"
   ]
  },
  {
   "cell_type": "code",
   "execution_count": 44,
   "metadata": {
    "hidden": true
   },
   "outputs": [
    {
     "data": {
      "text/plain": [
       "'   #polepharma » flux polepharma » flux des commentaires alternate   alternate   polepharma   polepharma \\ufeff recherche_________ submit   (button) toggle navigation   polepharma     * polepharma          + qui sommes-nous ?          + organigramme          + les chiffres clés          + un réseau     * territoires          + région centre-val de loire          + région normandie          + conseil départemental d’eure&loir          + chartres metropole          + metropole de rouen          + agglo du pays de dreux          + agglo evreux portes de normandie          + agglo seine&eure          + agglo de tours plus     * performance industrielle          + excellence opérationnelle          + maintenance          + packaging          + supply chain          + usine du futur     * talents     * relations publiques     * innovation          + biomédicaments          + fédérer          + collaborer          + promouvoir   adhérer à polepharma   espace adhérent   rechercher un adhérent   je découvre les métiers de la filière pharmaceutique   polepharma   médiathèque   espace presse   polepharma polepharma   \\ufeff recherche_________ submit   polepharma polepharma     * polepharma          + qui sommes-nous ?          + organigramme          + les chiffres clés          + un réseau     * territoires          + région centre-val de loire          + région normandie          + conseil départemental d’eure&loir          + chartres metropole          + metropole de rouen          + agglo du pays de dreux          + agglo evreux portes de normandie          + agglo seine&eure          + agglo de tours plus     * performance industrielle          + excellence opérationnelle          + maintenance          + packaging          + supply chain          + usine du futur     * talents     * relations publiques     * innovation          + biomédicaments          + fédérer          + collaborer          + promouvoir     * lancement d’un ami national pour l’émergence de projets       collaboratifs d’innovationlancement d’un ami national pour l’émergence de projets collaboratifsd’innovation       afin de répondre à la priorité « technologies de ruptures       en bioproduction (trbp) » identifiée dans le contrat de filière du       csf « industries et technologies de...       > lire la suite     * polepharma, partenaire du colloque international adebiotechpolepharma, partenaire du colloque international adebiotech       polepharma est partenaire du colloque international adebiotech «       advanced analytical technologies for proteins »  (aatp),  2-3       octobre 2019 à biocitech (romainville-grand paris) qui couvrira       les...       > lire la suite     * agro-bio lance son nouveau site internet !agro-bio lance son nouveau site internet !       agro-bio lance son nouveau site internet ! les nouveautés       principales de cette version 2019 sont : la mise en cohérence avec       notre nouvelle offre de prestations...       > lire la suite     * soirées 18/21 polepharma réseau : toutes les datessoirées 18/21 polepharma réseau : toutes les dates          le réseau s’enrichit   participer aux soirées 18/21 réseau       polepharma c’est : rencontrer les acteurs du développement et de la       production pharmaceutique développer et entretenir votre réseau...       > lire la suite     * save the date : congrès polepharma bioproduction – 12 & 13 décembre       2019save the date : congrès polepharma bioproduction – 12 & 13 décembre 2019       congrès polepharma bioproduction – 4ème édition les 12 &       13 décembre 2019 au palais des congrès de tours sous la présidence       de thierry ziegler, head of manufacturing de cellectis. dans un...       > lire la suite     * save the date : colloque polepharma industrie du futur – 28       novembre 2019save the date : colloque polepharma industrie du futur – 28 novembre 2019       colloque polepharma industrie du futur – 3ème édition le 28       novembre 2019 au kindarena de rouen sous la présidence de yann       gharfourzadeh, vice president sales & operation emea pharma du       groupe...       > lire la suite     * polepharma recrute !polepharma recrute !       portée par son dynamisme, l’équipe s’agrandit !  polepharma recrute       :   un chef de projet affaires pharmaceutiques           un chef de       projet innovations...       > lire la suite     * comprendre en 1mn50 les métiers de la production pharmaceutiquecomprendre en 1mn50 les métiers de la production pharmaceutique       lancer la vidéo vous recherchez un emploi ? avez-vous pensé aux       métiers de la production de l’industrie pharmaceutique ? la france       est l’un des premiers producteurs européens...       > lire la suite     * comprendre les biomédicaments en 2 minutes, c’est possible !comprendre les biomédicaments en 2 minutes, c’est possible !       les biomédicaments en vidéo cliquez ici...       > lire la suiteinscriptionaux événements   12 au 13 décembre 2019   > centre international de congrès de tours   colloque polepharma bioproduction - 4éme ed.   inscription   10 décembre 2019   > oril   workshop 2 digitalisation et culture qualité / 10 décembre 2019   inscription   03 décembre 2019   > sanofi   séminaire spécial inspections   inscription   28 novembre 2019   > kindarena   colloque polepharma industrie du futur - 3ème edition   inscription   19 au 20 novembre 2019   > centre international de congrès de tours   tips 2019   inscription   31 octobre 2019   > hotel de région normandie rouen   les assises polepharma de l\\'innovation en normandie 2nd edition   inscription   23 octobre 2019   > golf du bois d\\'o   soirée polepharma réseau - dreux (28)   inscription   17 octobre 2019   > uimm   workshop 1 digitalisation et culture qualité / 17 octobre 2019   inscription   10 octobre 2019   > evreux   rencontres polepharma de l\\'amélioration continue - 3e édition   inscription   25 septembre 2019   > le paganica   soirée polepharma réseau - evreux (27)   inscription   04 juillet 2019   > dreux - (28)   la fabrh polepharma #1   inscription   28 juin 2019   > golf parc robert hersant   polepharma business tour   inscription   26 juin 2019   > golf de caen la mer,   soirée polepharma réseau - caen (14)   inscription   23 mai 2019   > golf du bois d\\'o   soirée polepharma réseau - dreux (28)   inscription   16 mai 2019   > château royal de blois   assemblée générale polepharma 2019   inscription   14 mai 2019   > hôtel national des invalides   colloque souveraineté medicaments & api   inscription   14 mai 2019   >   tec\\'lab: realité virtuelle appliquée   inscription   09 au 10 avril 2019   > ufr sante rouen   les journées polepharma de microbiomique   inscription   28 mars 2019   > synchrotron soleil   soirée polepharma réseau - paris saclay (91)   inscription   07 mars 2019   > novotel rouen sud   mat\\'inno polepharma \"développer son business à l\\'international\"   inscription   05 mars au 23 avril 2019   > le hangar   9ème afterwork biomédicament   inscription   28 février 2019   > golf de léry-poses   soirée polepharma réseau - louviers (27)   inscription   07 février 2019   > cotton club   atelier propriété industrielle / 07 fev 2019   inscription   07 février 2019   > cotton club   atelier propriété industrielle - 7 février 2019   inscription   04 février 2019   > delpharm evreux   invitation : visite delpharm evreux   inscription   02 février 2019   > caen   phinder de la pharma : forum national des facultés de pharmacie   inscription   31 janvier 2019   > golf de chartres fontenay   soirée polepharma réseau - chartres (28)   inscription   15 janvier 2019   > novotel rouen sud   les mat\\'inno polepharma \"financement européen des projets r&d\"   inscription   20 décembre 2018   > centre international de congrès de tours   colloque polepharma bioproduction - 3éme ed.   inscription   12 décembre 2018   > le paganica   soirée polepharma réseau - evreux (27)   inscription   04 décembre 2018   > la filature   rencontres polepharma amélioration continue – 2e édition   inscription   29 novembre 2018   > hôtel dupanloup   8ème afterwork biomédicaments   inscription   22 novembre 2018   > cotton club   atelier polepharma propriété industrielle   inscription   15 novembre 2018   > cenexis hsc   soirée réseau 18/21 polepharma & nucleopolis - caen   inscription   08 novembre 2018   > centre de congrès d\\'orléans   colloque polepharma industrie du futur - 2e edition   inscriptioninscriptionaux événements   10 octobre 2019   > evreux   rencontres polepharma de l\\'amélioration continue - 3e édition   inscription   17 octobre 2019   > uimm   workshop 1 digitalisation et culture qualité / 17 octobre 2019   inscription   23 octobre 2019   > golf du bois d\\'o   soirée polepharma réseau - dreux (28)   inscription   31 octobre 2019   > hotel de région normandie rouen   les assises polepharma de l\\'innovation en normandie 2nd edition   inscription   19 au 20 novembre 2019   > centre international de congrès de tours   tips 2019   inscription   28 novembre 2019   > kindarena   colloque polepharma industrie du futur - 3ème edition   inscription   03 décembre 2019   > sanofi   séminaire spécial inspections   inscription   10 décembre 2019   > oril   workshop 2 digitalisation et culture qualité / 10 décembre 2019   inscription   12 au 13 décembre 2019   > centre international de congrès de tours   colloque polepharma bioproduction - 4éme ed.   inscription   événements precedents   adhérer à polepharma   espace adhérent   rechercher un adhérentun réseau performant,      un territoire cohérent   carte polepharma   job-box   archives newsletter   médiathèque   espace pressepolepharma en vidéo   iframe:   //www.youtube.com/embed/k_icgpnj9wu?&autohide=1&color=red&controls=1&di   sablekb=0&fs=1&iv_load_policy=1&modestbranding=0&rel=0&showinfo=0&theme   =dark&vq=medium   tweets de @polepharma   polepharma   11 rue du cardinal pie   28000 chartres   tél. : +33 (0)2 37 20 99 90   mail : contact@polepharma.compartenaires territoires   centre val de loire région normandie agglo pays dreux evreux métropole   rouen normandie communauté seine et eure tours metropole eure et loir   chartrespartenaires officiels 2019   pharma dec caisse d\\'epargne altran biotech quality group   copyright © 2019 polepharma - mentions légales - politique de   confidentialité   en poursuivant votre navigation sur le site, vous acceptez   l\\'utilisation de cookies à des fins de mesure d\\'audience.   fermer   x   (button) ×   iframe: https://player.vimeo.com/video/151642050?autoplay=1   #polepharma » flux polepharma » flux des commentaires 3ème colloque   polepharma rh : demandez le programme ! les jeudis de polepharma   alternate alternate   polepharma   polepharma \\ufeff recherche_________ submit   (button) toggle navigation   polepharma     * polepharma          + qui sommes-nous ?          + organigramme          + les chiffres clés          + un réseau     * territoires          + région centre-val de loire          + région normandie          + conseil départemental d’eure&loir          + chartres metropole          + metropole de rouen          + agglo du pays de dreux          + agglo evreux portes de normandie          + agglo seine&eure          + agglo de tours plus     * performance industrielle          + excellence opérationnelle          + maintenance          + packaging          + supply chain          + usine du futur     * talents     * relations publiques     * innovation          + biomédicaments          + fédérer          + collaborer          + promouvoir   adhérer à polepharma   espace adhérent   rechercher un adhérent   je découvre les métiers de la filière pharmaceutique   polepharma   médiathèque   espace presse   polepharma polepharma   \\ufeff recherche_________ submit   polepharma polepharma     * polepharma          + qui sommes-nous ?          + organigramme          + les chiffres clés          + un réseau     * territoires          + région centre-val de loire          + région normandie          + conseil départemental d’eure&loir          + chartres metropole          + metropole de rouen          + agglo du pays de dreux          + agglo evreux portes de normandie          + agglo seine&eure          + agglo de tours plus     * performance industrielle          + excellence opérationnelle          + maintenance          + packaging          + supply chain          + usine du futur     * talents     * relations publiques     * innovation          + biomédicaments          + fédérer          + collaborer          + promouvoira la rencontre des futurs pharmaciens industriels !   7 mars 2017   la 2api est la réunion annuelle de toutes les associations   industrielles en pharmacie. c’est un week-end de formation et   d’insertion professionnelle destiné aux étudiants souhaitant se   renseigner et s’orienter vers le monde de l’industrie pharmaceutique.   il concerne tous les étudiants de la 2^ème à la 6^ème  année des 24   facultés de pharmacie, soit 300 étudiants présents les 3 au 5 mars   2017.   l’anepi caen-rouen (association normande des etudiants en pharmacie   industrielle) a été élue pour organiser l’édition 2017, dont le thème a   été : «s’adapter au monde de demain, l’évolution de la pharmacie   industrielle»   polepharma a souhaité montrer la forte présence industrielle locale   ainsi que les nombreuses possibilités de recrutements sur son bassin   (centre- val de loire; normandie; ile-de-france)   une forte mobilisation de la part de la filière :     * participation d’une dizaine de professionnels pharmaciens lors du       dîner de gala,     * animation d’une conférence de présentation du territoire,     * conduite d’un atelier pour aider lors de recherches de stage et       d’emploi     * animation d’un stand polepharma au cœur des entreprises du bassin   une rencontre aussi intéressante pour les entreprises que pour les   étudiants ravis de rencontrer les professionnels et de pouvoir échanger   sur les spécificités d’orientation dans le secteur de l’industrie du   médicament.   voir la vidéo   job-box   archives newsletter   médiathèque   espace pressepolepharma en vidéo   iframe:   //www.youtube.com/embed/k_icgpnj9wu?&autohide=1&color=red&controls=1&di   sablekb=0&fs=1&iv_load_policy=1&modestbranding=0&rel=0&showinfo=0&theme   =dark&vq=medium   tweets de @polepharma   polepharma   11 rue du cardinal pie   28000 chartres   tél. : +33 (0)2 37 20 99 90   mail : contact@polepharma.compartenaires territoires   centre val de loire région normandie agglo pays dreux evreux métropole   rouen normandie communauté seine et eure tours metropole eure et loir   chartrespartenaires officiels 2019   pharma dec caisse d\\'epargne altran biotech quality group   copyright © 2019 polepharma - mentions légales - politique de   confidentialité   en poursuivant votre navigation sur le site, vous acceptez   l\\'utilisation de cookies à des fins de mesure d\\'audience.   fermer   x   (button) ×   iframe: https://player.vimeo.com/video/151642050?autoplay=1   #polepharma » flux polepharma » flux des commentaires alternate   alternate   polepharma   polepharma \\ufeff recherche_________ submit   (button) toggle navigation   polepharma     * polepharma          + qui sommes-nous ?          + organigramme          + les chiffres clés          + un réseau     * territoires          + région centre-val de loire          + région normandie          + conseil départemental d’eure&loir          + chartres metropole          + metropole de rouen          + agglo du pays de dreux          + agglo evreux portes de normandie          + agglo seine&eure          + agglo de tours plus     * performance industrielle          + excellence opérationnelle          + maintenance          + packaging          + supply chain          + usine du futur     * talents     * relations publiques     * innovation          + biomédicaments          + fédérer          + collaborer          + promouvoir   adhérer à polepharma   espace adhérent   rechercher un adhérent   je découvre les métiers de la filière pharmaceutique   polepharma   médiathèque   espace presse   polepharma polepharma   \\ufeff recherche_________ submit   polepharma polepharma     * polepharma          + qui sommes-nous ?          + organigramme          + les chiffres clés          + un réseau     * territoires          + région centre-val de loire          + région normandie          + conseil départemental d’eure&loir          + chartres metropole          + metropole de rouen          + agglo du pays de dreux          + agglo evreux portes de normandie          + agglo seine&eure          + agglo de tours plus     * performance industrielle          + excellence opérationnelle          + maintenance          + packaging          + supply chain          + usine du futur     * talents     * relations publiques     * innovation          + biomédicaments          + fédérer          + collaborer          + promouvoirfiche adhérent   page générée par le plugin polepharma. ne pas éditer   job-box   archives newsletter   médiathèque   espace pressepolepharma en vidéo   iframe:   //www.youtube.com/embed/k_icgpnj9wu?&autohide=1&color=red&controls=1&di   sablekb=0&fs=1&iv_load_policy=1&modestbranding=0&rel=0&showinfo=0&theme   =dark&vq=medium   tweets de @polepharma   polepharma   11 rue du cardinal pie   28000 chartres   tél. : +33 (0)2 37 20 99 90   mail : contact@polepharma.compartenaires territoires   centre val de loire région normandie agglo pays dreux evreux métropole   rouen normandie communauté seine et eure tours metropole eure et loir   chartrespartenaires officiels 2019   pharma dec caisse d\\'epargne altran biotech quality group   copyright © 2019 polepharma - mentions légales - politique de   confidentialité   en poursuivant votre navigation sur le site, vous acceptez   l\\'utilisation de cookies à des fins de mesure d\\'audience.   fermer   x   (button) ×   iframe: https://player.vimeo.com/video/151642050?autoplay=1   #polepharma » flux polepharma » flux des commentaires polepharma » flux   des articles écrits par gregory monaca   polepharma   polepharma \\ufeff recherche_________ submit   (button) toggle navigation   polepharma     * polepharma          + qui sommes-nous ?          + organigramme          + les chiffres clés          + un réseau     * territoires          + région centre-val de loire          + région normandie          + conseil départemental d’eure&loir          + chartres metropole          + metropole de rouen          + agglo du pays de dreux          + agglo evreux portes de normandie          + agglo seine&eure          + agglo de tours plus     * performance industrielle          + excellence opérationnelle          + maintenance          + packaging          + supply chain          + usine du futur     * talents     * relations publiques     * innovation          + biomédicaments          + fédérer          + collaborer          + promouvoir   adhérer à polepharma   espace adhérent   rechercher un adhérent   je découvre les métiers de la filière pharmaceutique   polepharma   médiathèque   espace presse   polepharma polepharma   \\ufeff recherche_________ submit   polepharma polepharma     * polepharma          + qui sommes-nous ?          + organigramme          + les chiffres clés          + un réseau     * territoires          + région centre-val de loire          + région normandie          + conseil départemental d’eure&loir          + chartres metropole          + metropole de rouen          + agglo du pays de dreux          + agglo evreux portes de normandie          + agglo seine&eure          + agglo de tours plus     * performance industrielle          + excellence opérationnelle          + maintenance          + packaging          + supply chain          + usine du futur     * talents     * relations publiques     * innovation          + biomédicaments          + fédérer          + collaborer          + promouvoirgregory monaca   rss feedgregory monaca\\'s latest posts   cynbiose respiratory, nouvelle société de services précliniques   spécialisée dans les maladies respiratoires et l’aérosolthérapie,   annonce le début des ses opérationscynbiose respiratory, nouvelle société de services précliniques spécialiséedans les maladies respiratoires et l’aérosolthérapie, annonce le début desses opérations   24 janvier 2018   cynbiose respiratory (tours, france) est une société de recherche   clinique hyperspécialisée créée sur la base des savoir-faire de ses   co-fondateurs : la société cynbiose (marcy l’étoile, france),   spécialisée dans les modèles précliniques innovants et le centre de   recherche scientifique pour les maladies respiratoires – inserm umr1100   (tours, france) qui contribue à la découverte et au […]   lire la suite   polepharma, le cluster français de production pharmaceutiquepolepharma, le cluster français de production pharmaceutique   16 mai 2014   la filière santé et le territoire ont réfléchi sur les points forts,   les arguments et les propositions qui seront portés au niveau des   décideurs nationaux. lors des derniers polepharma meetings, lieu de   rencontre, d’e?change et de construction communs a? l’ensemble des   acteurs de la chai?ne de sante?, polepharma a favorisé une prise de   conscience des grands enjeux […]   lire la suite   polepharma packagingpolepharma packaging   7 mai 2014   a l’initiative de ses adhe?rents, et en s’appuyant sur leur expertise,   polepharma a organisé « les rencontres du packaging pharmaceutique »   2e?me edition. qu’ils soient primaires ou secondaires, tous les   emballages contribuent a? leur niveau a? la mise a? disposition de   me?dicaments aupre?s de patients. soumis a? des re?glementations tre?s   strictes, ces emballages ne font […]   lire la suite   job-box   archives newsletter   médiathèque   espace pressepolepharma en vidéo   iframe:   //www.youtube.com/embed/k_icgpnj9wu?&autohide=1&color=red&controls=1&di   sablekb=0&fs=1&iv_load_policy=1&modestbranding=0&rel=0&showinfo=0&theme   =dark&vq=medium   tweets de @polepharma   polepharma   11 rue du cardinal pie   28000 chartres   tél. : +33 (0)2 37 20 99 90   mail : contact@polepharma.compartenaires territoires   centre val de loire région normandie agglo pays dreux evreux métropole   rouen normandie communauté seine et eure tours metropole eure et loir   chartrespartenaires officiels 2019   pharma dec caisse d\\'epargne altran biotech quality group   copyright © 2019 polepharma - mentions légales - politique de   confidentialité   en poursuivant votre navigation sur le site, vous acceptez   l\\'utilisation de cookies à des fins de mesure d\\'audience.   fermer   x   (button) ×   iframe: https://player.vimeo.com/video/151642050?autoplay=1   #polepharma » flux polepharma » flux des commentaires alternate   alternate   polepharma   polepharma \\ufeff recherche_________ submit   (button) toggle navigation   polepharma     * polepharma          + qui sommes-nous ?          + organigramme          + les chiffres clés          + un réseau     * territoires          + région centre-val de loire          + région normandie          + conseil départemental d’eure&loir          + chartres metropole          + metropole de rouen          + agglo du pays de dreux          + agglo evreux portes de normandie          + agglo seine&eure          + agglo de tours plus     * performance industrielle          + excellence opérationnelle          + maintenance          + packaging          + supply chain          + usine du futur     * talents     * relations publiques     * innovation          + biomédicaments          + fédérer          + collaborer          + promouvoir   adhérer à polepharma   espace adhérent   rechercher un adhérent   je découvre les métiers de la filière pharmaceutique   polepharma   médiathèque   espace presse   polepharma polepharma   \\ufeff recherche_________ submit   polepharma polepharma     * polepharma          + qui sommes-nous ?          + organigramme          + les chiffres clés          + un réseau     * territoires          + région centre-val de loire          + région normandie          + conseil départemental d’eure&loir          + chartres metropole          + metropole de rouen          + agglo du pays de dreux          + agglo evreux portes de normandie          + agglo seine&eure          + agglo de tours plus     * performance industrielle          + excellence opérationnelle          + maintenance          + packaging          + supply chain          + usine du futur     * talents     * relations publiques     * innovation          + biomédicaments          + fédérer          + collaborer          + promouvoir     * lancement d’un ami national pour l’émergence de projets       collaboratifs d’innovationlancement d’un ami national pour l’émergence de projets collaboratifsd’innovation       afin de répondre à la priorité « technologies de ruptures       en bioproduction (trbp) » identifiée dans le contrat de filière du       csf « industries et technologies de...       > lire la suite     * polepharma, partenaire du colloque international adebiotechpolepharma, partenaire du colloque international adebiotech       polepharma est partenaire du colloque international adebiotech «       advanced analytical technologies for proteins »  (aatp),  2-3       octobre 2019 à biocitech (romainville-grand paris) qui couvrira       les...       > lire la suite     * agro-bio lance son nouveau site internet !agro-bio lance son nouveau site internet !       agro-bio lance son nouveau site internet ! les nouveautés       principales de cette version 2019 sont : la mise en cohérence avec       notre nouvelle offre de prestations...       > lire la suite     * soirées 18/21 polepharma réseau : toutes les datessoirées 18/21 polepharma réseau : toutes les dates          le réseau s’enrichit   participer aux soirées 18/21 réseau       polepharma c’est : rencontrer les acteurs du développement et de la       production pharmaceutique développer et entretenir votre réseau...       > lire la suite     * save the date : congrès polepharma bioproduction – 12 & 13 décembre       2019save the date : congrès polepharma bioproduction – 12 & 13 décembre 2019       congrès polepharma bioproduction – 4ème édition les 12 &       13 décembre 2019 au palais des congrès de tours sous la présidence       de thierry ziegler, head of manufacturing de cellectis. dans un...       > lire la suite     * save the date : colloque polepharma industrie du futur – 28       novembre 2019save the date : colloque polepharma industrie du futur – 28 novembre 2019       colloque polepharma industrie du futur – 3ème édition le 28       novembre 2019 au kindarena de rouen sous la présidence de yann       gharfourzadeh, vice president sales & operation emea pharma du       groupe...       > lire la suite     * polepharma recrute !polepharma recrute !       portée par son dynamisme, l’équipe s’agrandit !  polepharma recrute       :   un chef de projet affaires pharmaceutiques           un chef de       projet innovations...       > lire la suite     * comprendre en 1mn50 les métiers de la production pharmaceutiquecomprendre en 1mn50 les métiers de la production pharmaceutique       lancer la vidéo vous recherchez un emploi ? avez-vous pensé aux       métiers de la production de l’industrie pharmaceutique ? la france       est l’un des premiers producteurs européens...       > lire la suite     * comprendre les biomédicaments en 2 minutes, c’est possible !comprendre les biomédicaments en 2 minutes, c’est possible !       les biomédicaments en vidéo cliquez ici...       > lire la suiteinscriptionaux événements   12 au 13 décembre 2019   > centre international de congrès de tours   colloque polepharma bioproduction - 4éme ed.   inscription   10 décembre 2019   > oril   workshop 2 digitalisation et culture qualité / 10 décembre 2019   inscription   03 décembre 2019   > sanofi   séminaire spécial inspections   inscription   28 novembre 2019   > kindarena   colloque polepharma industrie du futur - 3ème edition   inscription   19 au 20 novembre 2019   > centre international de congrès de tours   tips 2019   inscription   31 octobre 2019   > hotel de région normandie rouen   les assises polepharma de l\\'innovation en normandie 2nd edition   inscription   23 octobre 2019   > golf du bois d\\'o   soirée polepharma réseau - dreux (28)   inscription   17 octobre 2019   > uimm   workshop 1 digitalisation et culture qualité / 17 octobre 2019   inscription   10 octobre 2019   > evreux   rencontres polepharma de l\\'amélioration continue - 3e édition   inscription   25 septembre 2019   > le paganica   soirée polepharma réseau - evreux (27)   inscription   04 juillet 2019   > dreux - (28)   la fabrh polepharma #1   inscription   28 juin 2019   > golf parc robert hersant   polepharma business tour   inscription   26 juin 2019   > golf de caen la mer,   soirée polepharma réseau - caen (14)   inscription   23 mai 2019   > golf du bois d\\'o   soirée polepharma réseau - dreux (28)   inscription   16 mai 2019   > château royal de blois   assemblée générale polepharma 2019   inscription   14 mai 2019   > hôtel national des invalides   colloque souveraineté medicaments & api   inscription   14 mai 2019   >   tec\\'lab: realité virtuelle appliquée   inscription   09 au 10 avril 2019   > ufr sante rouen   les journées polepharma de microbiomique   inscription   28 mars 2019   > synchrotron soleil   soirée polepharma réseau - paris saclay (91)   inscription   07 mars 2019   > novotel rouen sud   mat\\'inno polepharma \"développer son business à l\\'international\"   inscription   05 mars au 23 avril 2019   > le hangar   9ème afterwork biomédicament   inscription   28 février 2019   > golf de léry-poses   soirée polepharma réseau - louviers (27)   inscription   07 février 2019   > cotton club   atelier propriété industrielle / 07 fev 2019   inscription   07 février 2019   > cotton club   atelier propriété industrielle - 7 février 2019   inscription   04 février 2019   > delpharm evreux   invitation : visite delpharm evreux   inscription   02 février 2019   > caen   phinder de la pharma : forum national des facultés de pharmacie   inscription   31 janvier 2019   > golf de chartres fontenay   soirée polepharma réseau - chartres (28)   inscription   15 janvier 2019   > novotel rouen sud   les mat\\'inno polepharma \"financement européen des projets r&d\"   inscription   20 décembre 2018   > centre international de congrès de tours   colloque polepharma bioproduction - 3éme ed.   inscription   12 décembre 2018   > le paganica   soirée polepharma réseau - evreux (27)   inscription   04 décembre 2018   > la filature   rencontres polepharma amélioration continue – 2e édition   inscription   29 novembre 2018   > hôtel dupanloup   8ème afterwork biomédicaments   inscription   22 novembre 2018   > cotton club   atelier polepharma propriété industrielle   inscription   15 novembre 2018   > cenexis hsc   soirée réseau 18/21 polepharma & nucleopolis - caen   inscription   08 novembre 2018   > centre de congrès d\\'orléans   colloque polepharma industrie du futur - 2e edition   inscriptioninscriptionaux événements   10 octobre 2019   > evreux   rencontres polepharma de l\\'amélioration continue - 3e édition   inscription   17 octobre 2019   > uimm   workshop 1 digitalisation et culture qualité / 17 octobre 2019   inscription   23 octobre 2019   > golf du bois d\\'o   soirée polepharma réseau - dreux (28)   inscription   31 octobre 2019   > hotel de région normandie rouen   les assises polepharma de l\\'innovation en normandie 2nd edition   inscription   19 au 20 novembre 2019   > centre international de congrès de tours   tips 2019   inscription   28 novembre 2019   > kindarena   colloque polepharma industrie du futur - 3ème edition   inscription   03 décembre 2019   > sanofi   séminaire spécial inspections   inscription   10 décembre 2019   > oril   workshop 2 digitalisation et culture qualité / 10 décembre 2019   inscription   12 au 13 décembre 2019   > centre international de congrès de tours   colloque polepharma bioproduction - 4éme ed.   inscription   événements precedents   adhérer à polepharma   espace adhérent   rechercher un adhérentun réseau performant,      un territoire cohérent   carte polepharma   job-box   archives newsletter   médiathèque   espace pressepolepharma en vidéo   iframe:   //www.youtube.com/embed/k_icgpnj9wu?&autohide=1&color=red&controls=1&di   sablekb=0&fs=1&iv_load_policy=1&modestbranding=0&rel=0&showinfo=0&theme   =dark&vq=medium   tweets de @polepharma   polepharma   11 rue du cardinal pie   28000 chartres   tél. : +33 (0)2 37 20 99 90   mail : contact@polepharma.compartenaires territoires   centre val de loire région normandie agglo pays dreux evreux métropole   rouen normandie communauté seine et eure tours metropole eure et loir   chartrespartenaires officiels 2019   pharma dec caisse d\\'epargne altran biotech quality group   copyright © 2019 polepharma - mentions légales - politique de   confidentialité   en poursuivant votre navigation sur le site, vous acceptez   l\\'utilisation de cookies à des fins de mesure d\\'audience.   fermer   x   (button) ×   iframe: https://player.vimeo.com/video/151642050?autoplay=1   #polepharma » flux polepharma » flux des commentaires 3ème colloque   polepharma rh : demandez le programme ! les jeudis de polepharma   alternate alternate   polepharma   polepharma \\ufeff recherche_________ submit   (button) toggle navigation   polepharma     * polepharma          + qui sommes-nous ?          + organigramme          + les chiffres clés          + un réseau     * territoires          + région centre-val de loire          + région normandie          + conseil départemental d’eure&loir          + chartres metropole          + metropole de rouen          + agglo du pays de dreux          + agglo evreux portes de normandie          + agglo seine&eure          + agglo de tours plus     * performance industrielle          + excellence opérationnelle          + maintenance          + packaging          + supply chain          + usine du futur     * talents     * relations publiques     * innovation          + biomédicaments          + fédérer          + collaborer          + promouvoir   adhérer à polepharma   espace adhérent   rechercher un adhérent   je découvre les métiers de la filière pharmaceutique   polepharma   médiathèque   espace presse   polepharma polepharma   \\ufeff recherche_________ submit   polepharma polepharma     * polepharma          + qui sommes-nous ?          + organigramme          + les chiffres clés          + un réseau     * territoires          + région centre-val de loire          + région normandie          + conseil départemental d’eure&loir          + chartres metropole          + metropole de rouen          + agglo du pays de dreux          + agglo evreux portes de normandie          + agglo seine&eure          + agglo de tours plus     * performance industrielle          + excellence opérationnelle          + maintenance          + packaging          + supply chain          + usine du futur     * talents     * relations publiques     * innovation          + biomédicaments          + fédérer          + collaborer          + promouvoira la rencontre des futurs pharmaciens industriels !   7 mars 2017   la 2api est la réunion annuelle de toutes les associations   industrielles en pharmacie. c’est un week-end de formation et   d’insertion professionnelle destiné aux étudiants souhaitant se   renseigner et s’orienter vers le monde de l’industrie pharmaceutique.   il concerne tous les étudiants de la 2^ème à la 6^ème  année des 24   facultés de pharmacie, soit 300 étudiants présents les 3 au 5 mars   2017.   l’anepi caen-rouen (association normande des etudiants en pharmacie   industrielle) a été élue pour organiser l’édition 2017, dont le thème a   été : «s’adapter au monde de demain, l’évolution de la pharmacie   industrielle»   polepharma a souhaité montrer la forte présence industrielle locale   ainsi que les nombreuses possibilités de recrutements sur son bassin   (centre- val de loire; normandie; ile-de-france)   une forte mobilisation de la part de la filière :     * participation d’une dizaine de professionnels pharmaciens lors du       dîner de gala,     * animation d’une conférence de présentation du territoire,     * conduite d’un atelier pour aider lors de recherches de stage et       d’emploi     * animation d’un stand polepharma au cœur des entreprises du bassin   une rencontre aussi intéressante pour les entreprises que pour les   étudiants ravis de rencontrer les professionnels et de pouvoir échanger   sur les spécificités d’orientation dans le secteur de l’industrie du   médicament.   voir la vidéo   job-box   archives newsletter   médiathèque   espace pressepolepharma en vidéo   iframe:   //www.youtube.com/embed/k_icgpnj9wu?&autohide=1&color=red&controls=1&di   sablekb=0&fs=1&iv_load_policy=1&modestbranding=0&rel=0&showinfo=0&theme   =dark&vq=medium   tweets de @polepharma   polepharma   11 rue du cardinal pie   28000 chartres   tél. : +33 (0)2 37 20 99 90   mail : contact@polepharma.compartenaires territoires   centre val de loire région normandie agglo pays dreux evreux métropole   rouen normandie communauté seine et eure tours metropole eure et loir   chartrespartenaires officiels 2019   pharma dec caisse d\\'epargne altran biotech quality group   copyright © 2019 polepharma - mentions légales - politique de   confidentialité   en poursuivant votre navigation sur le site, vous acceptez   l\\'utilisation de cookies à des fins de mesure d\\'audience.   fermer   x   (button) ×   iframe: https://player.vimeo.com/video/151642050?autoplay=1   #polepharma » flux polepharma » flux des commentaires alternate   alternate   polepharma   polepharma \\ufeff recherche_________ submit   (button) toggle navigation   polepharma     * polepharma          + qui sommes-nous ?          + organigramme          + les chiffres clés          + un réseau     * territoires          + région centre-val de loire          + région normandie          + conseil départemental d’eure&loir          + chartres metropole          + metropole de rouen          + agglo du pays de dreux          + agglo evreux portes de normandie          + agglo seine&eure          + agglo de tours plus     * performance industrielle          + excellence opérationnelle          + maintenance          + packaging          + supply chain          + usine du futur     * talents     * relations publiques     * innovation          + biomédicaments          + fédérer          + collaborer          + promouvoir   adhérer à polepharma   espace adhérent   rechercher un adhérent   je découvre les métiers de la filière pharmaceutique   polepharma   médiathèque   espace presse   polepharma polepharma   \\ufeff recherche_________ submit   polepharma polepharma     * polepharma          + qui sommes-nous ?          + organigramme          + les chiffres clés          + un réseau     * territoires          + région centre-val de loire          + région normandie          + conseil départemental d’eure&loir          + chartres metropole          + metropole de rouen          + agglo du pays de dreux          + agglo evreux portes de normandie          + agglo seine&eure          + agglo de tours plus     * performance industrielle          + excellence opérationnelle          + maintenance          + packaging          + supply chain          + usine du futur     * talents     * relations publiques     * innovation          + biomédicaments          + fédérer          + collaborer          + promouvoirfiche adhérent   page générée par le plugin polepharma. ne pas éditer   job-box   archives newsletter   médiathèque   espace pressepolepharma en vidéo   iframe:   //www.youtube.com/embed/k_icgpnj9wu?&autohide=1&color=red&controls=1&di   sablekb=0&fs=1&iv_load_policy=1&modestbranding=0&rel=0&showinfo=0&theme   =dark&vq=medium   tweets de @polepharma   polepharma   11 rue du cardinal pie   28000 chartres   tél. : +33 (0)2 37 20 99 90   mail : contact@polepharma.compartenaires territoires   centre val de loire région normandie agglo pays dreux evreux métropole   rouen normandie communauté seine et eure tours metropole eure et loir   chartrespartenaires officiels 2019   pharma dec caisse d\\'epargne altran biotech quality group   copyright © 2019 polepharma - mentions légales - politique de   confidentialité   en poursuivant votre navigation sur le site, vous acceptez   l\\'utilisation de cookies à des fins de mesure d\\'audience.   fermer   x   (button) ×   iframe: https://player.vimeo.com/video/151642050?autoplay=1   #polepharma » flux polepharma » flux des commentaires polepharma » flux   des articles écrits par gregory monaca   polepharma   polepharma \\ufeff recherche_________ submit   (button) toggle navigation   polepharma     * polepharma          + qui sommes-nous ?          + organigramme          + les chiffres clés          + un réseau     * territoires          + région centre-val de loire          + région normandie          + conseil départemental d’eure&loir          + chartres metropole          + metropole de rouen          + agglo du pays de dreux          + agglo evreux portes de normandie          + agglo seine&eure          + agglo de tours plus     * performance industrielle          + excellence opérationnelle          + maintenance          + packaging          + supply chain          + usine du futur     * talents     * relations publiques     * innovation          + biomédicaments          + fédérer          + collaborer          + promouvoir   adhérer à polepharma   espace adhérent   rechercher un adhérent   je découvre les métiers de la filière pharmaceutique   polepharma   médiathèque   espace presse   polepharma polepharma   \\ufeff recherche_________ submit   polepharma polepharma     * polepharma          + qui sommes-nous ?          + organigramme          + les chiffres clés          + un réseau     * territoires          + région centre-val de loire          + région normandie          + conseil départemental d’eure&loir          + chartres metropole          + metropole de rouen          + agglo du pays de dreux          + agglo evreux portes de normandie          + agglo seine&eure          + agglo de tours plus     * performance industrielle          + excellence opérationnelle          + maintenance          + packaging          + supply chain          + usine du futur     * talents     * relations publiques     * innovation          + biomédicaments          + fédérer          + collaborer          + promouvoirgregory monaca   rss feedgregory monaca\\'s latest posts   cynbiose respiratory, nouvelle société de services précliniques   spécialisée dans les maladies respiratoires et l’aérosolthérapie,   annonce le début des ses opérationscynbiose respiratory, nouvelle société de services précliniques spécialiséedans les maladies respiratoires et l’aérosolthérapie, annonce le début desses opérations   24 janvier 2018   cynbiose respiratory (tours, france) est une société de recherche   clinique hyperspécialisée créée sur la base des savoir-faire de ses   co-fondateurs : la société cynbiose (marcy l’étoile, france),   spécialisée dans les modèles précliniques innovants et le centre de   recherche scientifique pour les maladies respiratoires – inserm umr1100   (tours, france) qui contribue à la découverte et au […]   lire la suite   polepharma, le cluster français de production pharmaceutiquepolepharma, le cluster français de production pharmaceutique   16 mai 2014   la filière santé et le territoire ont réfléchi sur les points forts,   les arguments et les propositions qui seront portés au niveau des   décideurs nationaux. lors des derniers polepharma meetings, lieu de   rencontre, d’e?change et de construction communs a? l’ensemble des   acteurs de la chai?ne de sante?, polepharma a favorisé une prise de   conscience des grands enjeux […]   lire la suite   polepharma packagingpolepharma packaging   7 mai 2014   a l’initiative de ses adhe?rents, et en s’appuyant sur leur expertise,   polepharma a organisé « les rencontres du packaging pharmaceutique »   2e?me edition. qu’ils soient primaires ou secondaires, tous les   emballages contribuent a? leur niveau a? la mise a? disposition de   me?dicaments aupre?s de patients. soumis a? des re?glementations tre?s   strictes, ces emballages ne font […]   lire la suite   job-box   archives newsletter   médiathèque   espace pressepolepharma en vidéo   iframe:   //www.youtube.com/embed/k_icgpnj9wu?&autohide=1&color=red&controls=1&di   sablekb=0&fs=1&iv_load_policy=1&modestbranding=0&rel=0&showinfo=0&theme   =dark&vq=medium   tweets de @polepharma   polepharma   11 rue du cardinal pie   28000 chartres   tél. : +33 (0)2 37 20 99 90   mail : contact@polepharma.compartenaires territoires   centre val de loire région normandie agglo pays dreux evreux métropole   rouen normandie communauté seine et eure tours metropole eure et loir   chartrespartenaires officiels 2019   pharma dec caisse d\\'epargne altran biotech quality group   copyright © 2019 polepharma - mentions légales - politique de   confidentialité   en poursuivant votre navigation sur le site, vous acceptez   l\\'utilisation de cookies à des fins de mesure d\\'audience.   fermer   x   (button) ×   iframe: https://player.vimeo.com/video/151642050?autoplay=1'"
      ]
     },
     "execution_count": 44,
     "metadata": {},
     "output_type": "execute_result"
    }
   ],
   "source": [
    "train['text'][0]"
   ]
  },
  {
   "cell_type": "code",
   "execution_count": 14,
   "metadata": {
    "colab": {
     "base_uri": "https://localhost:8080/",
     "height": 111
    },
    "colab_type": "code",
    "hidden": true,
    "id": "2Cr7Ch3_5rnH",
    "outputId": "288d77ec-56c6-4fb5-b780-4216cf1c9f9b"
   },
   "outputs": [
    {
     "data": {
      "text/html": [
       "<div>\n",
       "<style scoped>\n",
       "    .dataframe tbody tr th:only-of-type {\n",
       "        vertical-align: middle;\n",
       "    }\n",
       "\n",
       "    .dataframe tbody tr th {\n",
       "        vertical-align: top;\n",
       "    }\n",
       "\n",
       "    .dataframe thead th {\n",
       "        text-align: right;\n",
       "    }\n",
       "</style>\n",
       "<table border=\"1\" class=\"dataframe\">\n",
       "  <thead>\n",
       "    <tr style=\"text-align: right;\">\n",
       "      <th></th>\n",
       "      <th>host</th>\n",
       "      <th>text</th>\n",
       "      <th>label_text</th>\n",
       "      <th>label</th>\n",
       "    </tr>\n",
       "  </thead>\n",
       "  <tbody>\n",
       "    <tr>\n",
       "      <th>0</th>\n",
       "      <td>7587</td>\n",
       "      <td>aller au contenu principal   (button) ouvri...</td>\n",
       "      <td>business/finance</td>\n",
       "      <td>0</td>\n",
       "    </tr>\n",
       "    <tr>\n",
       "      <th>1</th>\n",
       "      <td>16150</td>\n",
       "      <td>fort young hotel     * overview     * rooms...</td>\n",
       "      <td>entertainment</td>\n",
       "      <td>2</td>\n",
       "    </tr>\n",
       "  </tbody>\n",
       "</table>\n",
       "</div>"
      ],
      "text/plain": [
       "    host                                               text        label_text  \\\n",
       "0   7587     aller au contenu principal   (button) ouvri...  business/finance   \n",
       "1  16150     fort young hotel     * overview     * rooms...     entertainment   \n",
       "\n",
       "   label  \n",
       "0      0  \n",
       "1      2  "
      ]
     },
     "execution_count": 14,
     "metadata": {},
     "output_type": "execute_result"
    }
   ],
   "source": [
    "train.reset_index(drop=True, inplace=True)\n",
    "train.head(2)"
   ]
  },
  {
   "cell_type": "code",
   "execution_count": 15,
   "metadata": {
    "colab": {
     "base_uri": "https://localhost:8080/",
     "height": 111
    },
    "colab_type": "code",
    "hidden": true,
    "id": "6-1O5J9G54hV",
    "outputId": "dcc34ce3-2aa4-4c2b-eb27-d23bf4196f6d"
   },
   "outputs": [
    {
     "data": {
      "text/html": [
       "<div>\n",
       "<style scoped>\n",
       "    .dataframe tbody tr th:only-of-type {\n",
       "        vertical-align: middle;\n",
       "    }\n",
       "\n",
       "    .dataframe tbody tr th {\n",
       "        vertical-align: top;\n",
       "    }\n",
       "\n",
       "    .dataframe thead th {\n",
       "        text-align: right;\n",
       "    }\n",
       "</style>\n",
       "<table border=\"1\" class=\"dataframe\">\n",
       "  <thead>\n",
       "    <tr style=\"text-align: right;\">\n",
       "      <th></th>\n",
       "      <th>host</th>\n",
       "      <th>text</th>\n",
       "      <th>label_text</th>\n",
       "      <th>label</th>\n",
       "    </tr>\n",
       "  </thead>\n",
       "  <tbody>\n",
       "    <tr>\n",
       "      <th>0</th>\n",
       "      <td>13528</td>\n",
       "      <td>#extranet icp rss   aller au contenu princi...</td>\n",
       "      <td>politics/government/law</td>\n",
       "      <td>5</td>\n",
       "    </tr>\n",
       "    <tr>\n",
       "      <th>1</th>\n",
       "      <td>3604</td>\n",
       "      <td>iframe: https://www.googletagmanager.com/ns...</td>\n",
       "      <td>entertainment</td>\n",
       "      <td>2</td>\n",
       "    </tr>\n",
       "  </tbody>\n",
       "</table>\n",
       "</div>"
      ],
      "text/plain": [
       "    host                                               text  \\\n",
       "0  13528     #extranet icp rss   aller au contenu princi...   \n",
       "1   3604     iframe: https://www.googletagmanager.com/ns...   \n",
       "\n",
       "                label_text  label  \n",
       "0  politics/government/law      5  \n",
       "1            entertainment      2  "
      ]
     },
     "execution_count": 15,
     "metadata": {},
     "output_type": "execute_result"
    }
   ],
   "source": [
    "val.reset_index(drop=True, inplace=True)\n",
    "val.head(2)"
   ]
  },
  {
   "cell_type": "code",
   "execution_count": 16,
   "metadata": {
    "colab": {
     "base_uri": "https://localhost:8080/",
     "height": 34
    },
    "colab_type": "code",
    "hidden": true,
    "id": "ziIsgHqrz0n6",
    "outputId": "7020b652-4989-41b1-9e32-c83666c6f9ac"
   },
   "outputs": [
    {
     "data": {
      "text/plain": [
       "((213, 4), (1912, 4))"
      ]
     },
     "execution_count": 16,
     "metadata": {},
     "output_type": "execute_result"
    }
   ],
   "source": [
    "val.shape, train.shape"
   ]
  },
  {
   "cell_type": "markdown",
   "metadata": {
    "colab_type": "text",
    "id": "ej8QOozZbEva"
   },
   "source": [
    "# Setting The Output Directory for BERT"
   ]
  },
  {
   "cell_type": "code",
   "execution_count": 17,
   "metadata": {
    "colab": {
     "base_uri": "https://localhost:8080/",
     "height": 34
    },
    "colab_type": "code",
    "id": "NNPhIMrr6ra9",
    "outputId": "ffc63c79-3bea-481d-8263-55f3e65decdb"
   },
   "outputs": [
    {
     "name": "stdout",
     "output_type": "stream",
     "text": [
      "***** Model output directory: /bert_news_category *****\n"
     ]
    }
   ],
   "source": [
    "# Set the output directory for saving model file\n",
    "OUTPUT_DIR = '/bert_news_category'\n",
    "\n",
    "#@markdown Whether or not to clear/delete the directory and create a new one\n",
    "DO_DELETE = True #@param {type:\"boolean\"}\n",
    "\n",
    "if DO_DELETE:\n",
    "  try:\n",
    "    tf.io.gfile.DeleteRecursively(OUTPUT_DIR)\n",
    "  except:\n",
    "    pass\n",
    "\n",
    "tf.io.gfile.makedirs(OUTPUT_DIR)\n",
    "print('***** Model output directory: {} *****'.format(OUTPUT_DIR))"
   ]
  },
  {
   "cell_type": "code",
   "execution_count": 18,
   "metadata": {
    "colab": {
     "base_uri": "https://localhost:8080/",
     "height": 51
    },
    "colab_type": "code",
    "id": "0YGONt0p60Ay",
    "outputId": "5b986fab-16ed-4613-d2c9-554765ed86bd"
   },
   "outputs": [
    {
     "name": "stdout",
     "output_type": "stream",
     "text": [
      "Training Set Shape : (1912, 4)\n",
      "Validation Set Shape : (213, 4)\n"
     ]
    }
   ],
   "source": [
    "print(\"Training Set Shape :\", train.shape)\n",
    "print(\"Validation Set Shape :\", val.shape)\n",
    "# print(\"Test Set Shape :\", test.shape)"
   ]
  },
  {
   "cell_type": "code",
   "execution_count": 19,
   "metadata": {
    "colab": {
     "base_uri": "https://localhost:8080/",
     "height": 34
    },
    "colab_type": "code",
    "id": "s6NYKx4P7N66",
    "outputId": "e7d7aa06-98d7-4d6f-d164-93b721c872e2"
   },
   "outputs": [
    {
     "data": {
      "text/plain": [
       "['business/finance',\n",
       " 'education/research',\n",
       " 'entertainment',\n",
       " 'health/medical',\n",
       " 'news/press',\n",
       " 'politics/government/law',\n",
       " 'sports',\n",
       " 'tech/science']"
      ]
     },
     "execution_count": 19,
     "metadata": {},
     "output_type": "execute_result"
    }
   ],
   "source": [
    "DATA_COLUMN = 'text'\n",
    "LABEL_COLUMN = 'label_text'\n",
    "# The list containing all the classes (train['SECTION'].unique())\n",
    "label_list = [x for x in np.unique(train.label_text)]\n",
    "label_list"
   ]
  },
  {
   "cell_type": "markdown",
   "metadata": {
    "colab_type": "text",
    "heading_collapsed": true,
    "id": "oOSEd24bbiUq"
   },
   "source": [
    "# Splitting the Data into smaller chunks"
   ]
  },
  {
   "cell_type": "code",
   "execution_count": 20,
   "metadata": {
    "colab": {},
    "colab_type": "code",
    "hidden": true,
    "id": "ausf5AlOkPCH"
   },
   "outputs": [],
   "source": [
    "def get_split(text1):\n",
    "  l_total = []\n",
    "  l_parcial = []\n",
    "  if len(text1.split())//150 >0:\n",
    "    n = len(text1.split())//150\n",
    "  else: \n",
    "    n = 1\n",
    "  for w in range(n):\n",
    "    if w == 0:\n",
    "      l_parcial = text1.split()[:200]\n",
    "      l_total.append(\" \".join(l_parcial))\n",
    "    else:\n",
    "      l_parcial = text1.split()[w*150:w*150 + 200]\n",
    "      l_total.append(\" \".join(l_parcial))\n",
    "  return l_total"
   ]
  },
  {
   "cell_type": "code",
   "execution_count": 21,
   "metadata": {
    "colab": {
     "base_uri": "https://localhost:8080/",
     "height": 204
    },
    "colab_type": "code",
    "hidden": true,
    "id": "E-u6mDkbLpTY",
    "outputId": "972100f3-569c-4a27-a24c-3fb2728d3581"
   },
   "outputs": [
    {
     "data": {
      "text/html": [
       "<div>\n",
       "<style scoped>\n",
       "    .dataframe tbody tr th:only-of-type {\n",
       "        vertical-align: middle;\n",
       "    }\n",
       "\n",
       "    .dataframe tbody tr th {\n",
       "        vertical-align: top;\n",
       "    }\n",
       "\n",
       "    .dataframe thead th {\n",
       "        text-align: right;\n",
       "    }\n",
       "</style>\n",
       "<table border=\"1\" class=\"dataframe\">\n",
       "  <thead>\n",
       "    <tr style=\"text-align: right;\">\n",
       "      <th></th>\n",
       "      <th>host</th>\n",
       "      <th>text</th>\n",
       "      <th>label_text</th>\n",
       "      <th>label</th>\n",
       "      <th>text_split</th>\n",
       "    </tr>\n",
       "  </thead>\n",
       "  <tbody>\n",
       "    <tr>\n",
       "      <th>0</th>\n",
       "      <td>7587</td>\n",
       "      <td>aller au contenu principal   (button) ouvri...</td>\n",
       "      <td>business/finance</td>\n",
       "      <td>0</td>\n",
       "      <td>[aller au contenu principal (button) ouvrir le...</td>\n",
       "    </tr>\n",
       "    <tr>\n",
       "      <th>1</th>\n",
       "      <td>16150</td>\n",
       "      <td>fort young hotel     * overview     * rooms...</td>\n",
       "      <td>entertainment</td>\n",
       "      <td>2</td>\n",
       "      <td>[fort young hotel * overview * rooms * dining ...</td>\n",
       "    </tr>\n",
       "    <tr>\n",
       "      <th>2</th>\n",
       "      <td>9841</td>\n",
       "      <td>301moved permanently   the document has been p...</td>\n",
       "      <td>business/finance</td>\n",
       "      <td>0</td>\n",
       "      <td>[301moved permanently the document has been pe...</td>\n",
       "    </tr>\n",
       "    <tr>\n",
       "      <th>3</th>\n",
       "      <td>6441</td>\n",
       "      <td>#alternate alternate alternate alternate a...</td>\n",
       "      <td>business/finance</td>\n",
       "      <td>0</td>\n",
       "      <td>[#alternate alternate alternate alternate alte...</td>\n",
       "    </tr>\n",
       "    <tr>\n",
       "      <th>4</th>\n",
       "      <td>8533</td>\n",
       "      <td>#rss     * [750g_influenceurs.png]     * __...</td>\n",
       "      <td>entertainment</td>\n",
       "      <td>2</td>\n",
       "      <td>[#rss * [750g_influenceurs.png] * ____________...</td>\n",
       "    </tr>\n",
       "  </tbody>\n",
       "</table>\n",
       "</div>"
      ],
      "text/plain": [
       "    host                                               text        label_text  \\\n",
       "0   7587     aller au contenu principal   (button) ouvri...  business/finance   \n",
       "1  16150     fort young hotel     * overview     * rooms...     entertainment   \n",
       "2   9841  301moved permanently   the document has been p...  business/finance   \n",
       "3   6441      #alternate alternate alternate alternate a...  business/finance   \n",
       "4   8533     #rss     * [750g_influenceurs.png]     * __...     entertainment   \n",
       "\n",
       "   label                                         text_split  \n",
       "0      0  [aller au contenu principal (button) ouvrir le...  \n",
       "1      2  [fort young hotel * overview * rooms * dining ...  \n",
       "2      0  [301moved permanently the document has been pe...  \n",
       "3      0  [#alternate alternate alternate alternate alte...  \n",
       "4      2  [#rss * [750g_influenceurs.png] * ____________...  "
      ]
     },
     "execution_count": 21,
     "metadata": {},
     "output_type": "execute_result"
    }
   ],
   "source": [
    "train['text_split'] = train[DATA_COLUMN].apply(get_split)\n",
    "train.head()"
   ]
  },
  {
   "cell_type": "code",
   "execution_count": 22,
   "metadata": {
    "colab": {
     "base_uri": "https://localhost:8080/",
     "height": 111
    },
    "colab_type": "code",
    "hidden": true,
    "id": "-zrlehCFUplB",
    "outputId": "7bd7c47a-adae-418a-c50e-29b2deb3c7d6"
   },
   "outputs": [
    {
     "data": {
      "text/html": [
       "<div>\n",
       "<style scoped>\n",
       "    .dataframe tbody tr th:only-of-type {\n",
       "        vertical-align: middle;\n",
       "    }\n",
       "\n",
       "    .dataframe tbody tr th {\n",
       "        vertical-align: top;\n",
       "    }\n",
       "\n",
       "    .dataframe thead th {\n",
       "        text-align: right;\n",
       "    }\n",
       "</style>\n",
       "<table border=\"1\" class=\"dataframe\">\n",
       "  <thead>\n",
       "    <tr style=\"text-align: right;\">\n",
       "      <th></th>\n",
       "      <th>host</th>\n",
       "      <th>text</th>\n",
       "      <th>label_text</th>\n",
       "      <th>label</th>\n",
       "      <th>text_split</th>\n",
       "    </tr>\n",
       "  </thead>\n",
       "  <tbody>\n",
       "    <tr>\n",
       "      <th>0</th>\n",
       "      <td>13528</td>\n",
       "      <td>#extranet icp rss   aller au contenu princi...</td>\n",
       "      <td>politics/government/law</td>\n",
       "      <td>5</td>\n",
       "      <td>[#extranet icp rss aller au contenu principalh...</td>\n",
       "    </tr>\n",
       "    <tr>\n",
       "      <th>1</th>\n",
       "      <td>3604</td>\n",
       "      <td>iframe: https://www.googletagmanager.com/ns...</td>\n",
       "      <td>entertainment</td>\n",
       "      <td>2</td>\n",
       "      <td>[iframe: https://www.googletagmanager.com/ns.h...</td>\n",
       "    </tr>\n",
       "  </tbody>\n",
       "</table>\n",
       "</div>"
      ],
      "text/plain": [
       "    host                                               text  \\\n",
       "0  13528     #extranet icp rss   aller au contenu princi...   \n",
       "1   3604     iframe: https://www.googletagmanager.com/ns...   \n",
       "\n",
       "                label_text  label  \\\n",
       "0  politics/government/law      5   \n",
       "1            entertainment      2   \n",
       "\n",
       "                                          text_split  \n",
       "0  [#extranet icp rss aller au contenu principalh...  \n",
       "1  [iframe: https://www.googletagmanager.com/ns.h...  "
      ]
     },
     "execution_count": 22,
     "metadata": {},
     "output_type": "execute_result"
    }
   ],
   "source": [
    "val['text_split'] = val[DATA_COLUMN].apply(get_split)\n",
    "val.head(2)"
   ]
  },
  {
   "cell_type": "code",
   "execution_count": 23,
   "metadata": {
    "hidden": true
   },
   "outputs": [],
   "source": [
    "test['text_split'] = test[DATA_COLUMN].apply(get_split)\n",
    "train_raw['text_split'] = train_raw[DATA_COLUMN].apply(get_split)\n",
    "\n"
   ]
  },
  {
   "cell_type": "code",
   "execution_count": null,
   "metadata": {
    "hidden": true
   },
   "outputs": [],
   "source": [
    "test.to_pickle(\"split_test\")\n",
    "train_raw.to_pickle(\"split_train\")"
   ]
  },
  {
   "cell_type": "code",
   "execution_count": 24,
   "metadata": {
    "colab": {
     "base_uri": "https://localhost:8080/",
     "height": 34
    },
    "colab_type": "code",
    "hidden": true,
    "id": "5_zMerj1VGaM",
    "outputId": "cc839f6a-8be6-40a9-aaa9-29752d8d5fff"
   },
   "outputs": [
    {
     "data": {
      "text/plain": [
       "(96119, 96119, 96119)"
      ]
     },
     "execution_count": 24,
     "metadata": {},
     "output_type": "execute_result"
    }
   ],
   "source": [
    "train_l = []\n",
    "label_l = []\n",
    "index_l =[]\n",
    "for idx,row in train.iterrows():\n",
    "  for l in row['text_split']:\n",
    "    train_l.append(l)\n",
    "    label_l.append(row['label'])\n",
    "    index_l.append(idx)\n",
    "len(train_l), len(label_l), len(index_l)"
   ]
  },
  {
   "cell_type": "code",
   "execution_count": 25,
   "metadata": {
    "colab": {
     "base_uri": "https://localhost:8080/",
     "height": 34
    },
    "colab_type": "code",
    "hidden": true,
    "id": "rBrXEaxHVNG4",
    "outputId": "de4dbc34-1fde-4233-a902-ab522cfc9520"
   },
   "outputs": [
    {
     "data": {
      "text/plain": [
       "(13555, 13555, 13555)"
      ]
     },
     "execution_count": 25,
     "metadata": {},
     "output_type": "execute_result"
    }
   ],
   "source": [
    "val_l = []\n",
    "val_label_l = []\n",
    "val_index_l = []\n",
    "for idx,row in val.iterrows():\n",
    "  for l in row['text_split']:\n",
    "    val_l.append(l)\n",
    "    val_label_l.append(row['label'])\n",
    "    val_index_l.append(idx)\n",
    "len(val_l), len(val_label_l), len(val_index_l)"
   ]
  },
  {
   "cell_type": "code",
   "execution_count": 26,
   "metadata": {
    "hidden": true
   },
   "outputs": [
    {
     "data": {
      "text/plain": [
       "(28229, 28229)"
      ]
     },
     "execution_count": 26,
     "metadata": {},
     "output_type": "execute_result"
    }
   ],
   "source": [
    "test_l = []\n",
    "test_index_l = []\n",
    "for idx,row in test.iterrows():\n",
    "  for l in row['text_split']:\n",
    "    test_l.append(l)\n",
    "    test_index_l.append(idx)\n",
    "len(test_l), len(test_index_l)"
   ]
  },
  {
   "cell_type": "code",
   "execution_count": 27,
   "metadata": {
    "hidden": true
   },
   "outputs": [
    {
     "data": {
      "text/plain": [
       "(109674, 109674, 109674)"
      ]
     },
     "execution_count": 27,
     "metadata": {},
     "output_type": "execute_result"
    }
   ],
   "source": [
    "train_raw_l = []\n",
    "label_raw_l = []\n",
    "index_raw_l =[]\n",
    "for idx,row in train_raw.iterrows():\n",
    "  for l in row['text_split']:\n",
    "    train_raw_l.append(l)\n",
    "    label_raw_l.append(row['label'])\n",
    "    index_raw_l.append(idx)\n",
    "len(train_raw_l), len(label_raw_l), len(index_raw_l)"
   ]
  },
  {
   "cell_type": "markdown",
   "metadata": {
    "colab_type": "text",
    "hidden": true,
    "id": "Hu5Sx8Rm0bAj"
   },
   "source": [
    "The final dataset for training:"
   ]
  },
  {
   "cell_type": "code",
   "execution_count": 28,
   "metadata": {
    "colab": {
     "base_uri": "https://localhost:8080/",
     "height": 204
    },
    "colab_type": "code",
    "hidden": true,
    "id": "mojRk8kWVVB4",
    "outputId": "95c4ea0f-7800-47b0-fa8a-9005671da2a0"
   },
   "outputs": [
    {
     "data": {
      "text/html": [
       "<div>\n",
       "<style scoped>\n",
       "    .dataframe tbody tr th:only-of-type {\n",
       "        vertical-align: middle;\n",
       "    }\n",
       "\n",
       "    .dataframe tbody tr th {\n",
       "        vertical-align: top;\n",
       "    }\n",
       "\n",
       "    .dataframe thead th {\n",
       "        text-align: right;\n",
       "    }\n",
       "</style>\n",
       "<table border=\"1\" class=\"dataframe\">\n",
       "  <thead>\n",
       "    <tr style=\"text-align: right;\">\n",
       "      <th></th>\n",
       "      <th>text</th>\n",
       "      <th>label_text</th>\n",
       "    </tr>\n",
       "  </thead>\n",
       "  <tbody>\n",
       "    <tr>\n",
       "      <th>0</th>\n",
       "      <td>aller au contenu principal (button) ouvrir le ...</td>\n",
       "      <td>0</td>\n",
       "    </tr>\n",
       "    <tr>\n",
       "      <th>1</th>\n",
       "      <td>1. accueilinitiatives associations : comment b...</td>\n",
       "      <td>0</td>\n",
       "    </tr>\n",
       "    <tr>\n",
       "      <th>2</th>\n",
       "      <td>en savoir plus sur salon de l'étudiant paris 1...</td>\n",
       "      <td>0</td>\n",
       "    </tr>\n",
       "    <tr>\n",
       "      <th>3</th>\n",
       "      <td>lien s'ouvre dans une nouvelle fenêtre) * en v...</td>\n",
       "      <td>0</td>\n",
       "    </tr>\n",
       "    <tr>\n",
       "      <th>4</th>\n",
       "      <td>la page d'accueil du site publicnavigation sec...</td>\n",
       "      <td>0</td>\n",
       "    </tr>\n",
       "  </tbody>\n",
       "</table>\n",
       "</div>"
      ],
      "text/plain": [
       "                                                text  label_text\n",
       "0  aller au contenu principal (button) ouvrir le ...           0\n",
       "1  1. accueilinitiatives associations : comment b...           0\n",
       "2  en savoir plus sur salon de l'étudiant paris 1...           0\n",
       "3  lien s'ouvre dans une nouvelle fenêtre) * en v...           0\n",
       "4  la page d'accueil du site publicnavigation sec...           0"
      ]
     },
     "execution_count": 28,
     "metadata": {},
     "output_type": "execute_result"
    }
   ],
   "source": [
    "train_df = pd.DataFrame({DATA_COLUMN:train_l, LABEL_COLUMN:label_l})\n",
    "train_df.head()"
   ]
  },
  {
   "cell_type": "code",
   "execution_count": 29,
   "metadata": {
    "colab": {
     "base_uri": "https://localhost:8080/",
     "height": 204
    },
    "colab_type": "code",
    "hidden": true,
    "id": "k_I-ZbSKVmrZ",
    "outputId": "ab55b3b8-5524-4cb3-bb23-a0a10c3a2bf0"
   },
   "outputs": [
    {
     "data": {
      "text/html": [
       "<div>\n",
       "<style scoped>\n",
       "    .dataframe tbody tr th:only-of-type {\n",
       "        vertical-align: middle;\n",
       "    }\n",
       "\n",
       "    .dataframe tbody tr th {\n",
       "        vertical-align: top;\n",
       "    }\n",
       "\n",
       "    .dataframe thead th {\n",
       "        text-align: right;\n",
       "    }\n",
       "</style>\n",
       "<table border=\"1\" class=\"dataframe\">\n",
       "  <thead>\n",
       "    <tr style=\"text-align: right;\">\n",
       "      <th></th>\n",
       "      <th>text</th>\n",
       "      <th>label_text</th>\n",
       "    </tr>\n",
       "  </thead>\n",
       "  <tbody>\n",
       "    <tr>\n",
       "      <th>0</th>\n",
       "      <td>#extranet icp rss aller au contenu principalho...</td>\n",
       "      <td>5</td>\n",
       "    </tr>\n",
       "    <tr>\n",
       "      <th>1</th>\n",
       "      <td>iframe: https://www.googletagmanager.com/ns.ht...</td>\n",
       "      <td>2</td>\n",
       "    </tr>\n",
       "    <tr>\n",
       "      <th>2</th>\n",
       "      <td>+ bas-rhin + haut-rhin + chuchotements + courr...</td>\n",
       "      <td>2</td>\n",
       "    </tr>\n",
       "    <tr>\n",
       "      <th>3</th>\n",
       "      <td>gilets jaunes + affaire reiser + attentat du 1...</td>\n",
       "      <td>2</td>\n",
       "    </tr>\n",
       "    <tr>\n",
       "      <th>4</th>\n",
       "      <td>été dénoncé par un proche arrêté en écosse, du...</td>\n",
       "      <td>2</td>\n",
       "    </tr>\n",
       "  </tbody>\n",
       "</table>\n",
       "</div>"
      ],
      "text/plain": [
       "                                                text  label_text\n",
       "0  #extranet icp rss aller au contenu principalho...           5\n",
       "1  iframe: https://www.googletagmanager.com/ns.ht...           2\n",
       "2  + bas-rhin + haut-rhin + chuchotements + courr...           2\n",
       "3  gilets jaunes + affaire reiser + attentat du 1...           2\n",
       "4  été dénoncé par un proche arrêté en écosse, du...           2"
      ]
     },
     "execution_count": 29,
     "metadata": {},
     "output_type": "execute_result"
    }
   ],
   "source": [
    "val_df = pd.DataFrame({DATA_COLUMN:val_l, LABEL_COLUMN:val_label_l})\n",
    "val_df.head()"
   ]
  },
  {
   "cell_type": "code",
   "execution_count": 30,
   "metadata": {
    "hidden": true
   },
   "outputs": [
    {
     "data": {
      "text/html": [
       "<div>\n",
       "<style scoped>\n",
       "    .dataframe tbody tr th:only-of-type {\n",
       "        vertical-align: middle;\n",
       "    }\n",
       "\n",
       "    .dataframe tbody tr th {\n",
       "        vertical-align: top;\n",
       "    }\n",
       "\n",
       "    .dataframe thead th {\n",
       "        text-align: right;\n",
       "    }\n",
       "</style>\n",
       "<table border=\"1\" class=\"dataframe\">\n",
       "  <thead>\n",
       "    <tr style=\"text-align: right;\">\n",
       "      <th></th>\n",
       "      <th>text</th>\n",
       "    </tr>\n",
       "  </thead>\n",
       "  <tbody>\n",
       "    <tr>\n",
       "      <th>0</th>\n",
       "      <td>iframe: //www.googletagmanager.com/ns.html?id=...</td>\n",
       "    </tr>\n",
       "    <tr>\n",
       "      <th>1</th>\n",
       "      <td>self. scroll down mind expansive thinking deve...</td>\n",
       "    </tr>\n",
       "    <tr>\n",
       "      <th>2</th>\n",
       "      <td>service close faith &amp; service no matter what y...</td>\n",
       "    </tr>\n",
       "    <tr>\n",
       "      <th>3</th>\n",
       "      <td>and conservation. quad canisius jumps four spo...</td>\n",
       "    </tr>\n",
       "    <tr>\n",
       "      <th>4</th>\n",
       "      <td>iframe: https://www.googletagmanager.com/ns.ht...</td>\n",
       "    </tr>\n",
       "  </tbody>\n",
       "</table>\n",
       "</div>"
      ],
      "text/plain": [
       "                                                text\n",
       "0  iframe: //www.googletagmanager.com/ns.html?id=...\n",
       "1  self. scroll down mind expansive thinking deve...\n",
       "2  service close faith & service no matter what y...\n",
       "3  and conservation. quad canisius jumps four spo...\n",
       "4  iframe: https://www.googletagmanager.com/ns.ht..."
      ]
     },
     "execution_count": 30,
     "metadata": {},
     "output_type": "execute_result"
    }
   ],
   "source": [
    "test_df = pd.DataFrame({DATA_COLUMN:test_l})\n",
    "test_df.head()"
   ]
  },
  {
   "cell_type": "code",
   "execution_count": 33,
   "metadata": {
    "hidden": true
   },
   "outputs": [
    {
     "data": {
      "text/html": [
       "<div>\n",
       "<style scoped>\n",
       "    .dataframe tbody tr th:only-of-type {\n",
       "        vertical-align: middle;\n",
       "    }\n",
       "\n",
       "    .dataframe tbody tr th {\n",
       "        vertical-align: top;\n",
       "    }\n",
       "\n",
       "    .dataframe thead th {\n",
       "        text-align: right;\n",
       "    }\n",
       "</style>\n",
       "<table border=\"1\" class=\"dataframe\">\n",
       "  <thead>\n",
       "    <tr style=\"text-align: right;\">\n",
       "      <th></th>\n",
       "      <th>text</th>\n",
       "      <th>label_text</th>\n",
       "    </tr>\n",
       "  </thead>\n",
       "  <tbody>\n",
       "    <tr>\n",
       "      <th>0</th>\n",
       "      <td>#polepharma » flux polepharma » flux des comme...</td>\n",
       "      <td>3</td>\n",
       "    </tr>\n",
       "    <tr>\n",
       "      <th>1</th>\n",
       "      <td>territoires + région centre-val de loire + rég...</td>\n",
       "      <td>3</td>\n",
       "    </tr>\n",
       "    <tr>\n",
       "      <th>2</th>\n",
       "      <td>octobre 2019 à biocitech (romainville-grand pa...</td>\n",
       "      <td>3</td>\n",
       "    </tr>\n",
       "    <tr>\n",
       "      <th>3</th>\n",
       "      <td>de thierry ziegler, head of manufacturing de c...</td>\n",
       "      <td>3</td>\n",
       "    </tr>\n",
       "    <tr>\n",
       "      <th>4</th>\n",
       "      <td>européens... &gt; lire la suite * comprendre les ...</td>\n",
       "      <td>3</td>\n",
       "    </tr>\n",
       "  </tbody>\n",
       "</table>\n",
       "</div>"
      ],
      "text/plain": [
       "                                                text  label_text\n",
       "0  #polepharma » flux polepharma » flux des comme...           3\n",
       "1  territoires + région centre-val de loire + rég...           3\n",
       "2  octobre 2019 à biocitech (romainville-grand pa...           3\n",
       "3  de thierry ziegler, head of manufacturing de c...           3\n",
       "4  européens... > lire la suite * comprendre les ...           3"
      ]
     },
     "execution_count": 33,
     "metadata": {},
     "output_type": "execute_result"
    }
   ],
   "source": [
    "train_raw_df = pd.DataFrame({DATA_COLUMN:train_raw_l, LABEL_COLUMN:label_raw_l})\n",
    "train_raw_df.head()"
   ]
  },
  {
   "cell_type": "markdown",
   "metadata": {
    "colab_type": "text",
    "id": "og08g7DScPtK"
   },
   "source": [
    "# BERT: Data Preprocessing "
   ]
  },
  {
   "cell_type": "markdown",
   "metadata": {
    "colab_type": "text",
    "id": "2PWVomvm7TV5"
   },
   "source": [
    "Process the data for BERT"
   ]
  },
  {
   "cell_type": "code",
   "execution_count": 31,
   "metadata": {},
   "outputs": [
    {
     "name": "stdout",
     "output_type": "stream",
     "text": [
      "using Keras version: 2.2.4-tf\n"
     ]
    }
   ],
   "source": [
    "import transformers\n",
    "Model_Name = 'distilbert-base-multilingual-cased'\n",
    "import ktrain\n",
    "from ktrain import text\n",
    "classes = ['business/finance','education/research','entertainment','health/medical','news/press','politics/government/law','sports','tech/science']\n",
    "t = text.Transformer(Model_Name, maxlen = 511, classes = classes)\n",
    "\n"
   ]
  },
  {
   "cell_type": "code",
   "execution_count": 32,
   "metadata": {},
   "outputs": [],
   "source": [
    "tokenizer = transformers.DistilBertTokenizer.from_pretrained(Model_Name)"
   ]
  },
  {
   "cell_type": "code",
   "execution_count": 108,
   "metadata": {
    "colab": {},
    "colab_type": "code",
    "id": "e-_zLSnh7evE"
   },
   "outputs": [
    {
     "name": "stdout",
     "output_type": "stream",
     "text": [
      "preprocessing train...\n",
      "language: fr\n",
      "train sequence lengths:\n",
      "\tmean : 200\n",
      "\t95percentile : 200\n",
      "\t99percentile : 200\n"
     ]
    },
    {
     "data": {
      "text/html": [],
      "text/plain": [
       "<IPython.core.display.HTML object>"
      ]
     },
     "metadata": {},
     "output_type": "display_data"
    },
    {
     "name": "stdout",
     "output_type": "stream",
     "text": [
      "preprocessing test...\n",
      "language: fr\n",
      "test sequence lengths:\n",
      "\tmean : 200\n",
      "\t95percentile : 200\n",
      "\t99percentile : 200\n"
     ]
    },
    {
     "data": {
      "text/html": [],
      "text/plain": [
       "<IPython.core.display.HTML object>"
      ]
     },
     "metadata": {},
     "output_type": "display_data"
    }
   ],
   "source": [
    "trn = t.preprocess_train(train_l, label_l) \n",
    "vali = t.preprocess_test(val_l, val_label_l)"
   ]
  },
  {
   "cell_type": "code",
   "execution_count": 109,
   "metadata": {},
   "outputs": [],
   "source": [
    "input_ids = tf.constant(tokenizer.encode(\"Hello, my dog is cute\", add_special_tokens=True))[None, :]"
   ]
  },
  {
   "cell_type": "code",
   "execution_count": 110,
   "metadata": {},
   "outputs": [
    {
     "data": {
      "text/plain": [
       "<tf.Tensor: shape=(1, 9), dtype=int32, numpy=array([[  101, 31178,   117, 15127, 17835, 10124, 21610, 10112,   102]])>"
      ]
     },
     "execution_count": 110,
     "metadata": {},
     "output_type": "execute_result"
    }
   ],
   "source": [
    "input_ids"
   ]
  },
  {
   "cell_type": "code",
   "execution_count": 111,
   "metadata": {
    "colab": {
     "base_uri": "https://localhost:8080/",
     "height": 221
    },
    "colab_type": "code",
    "id": "UOq7ETNe7zGJ",
    "outputId": "0c86519a-5376-4b21-be65-9c12f99afb6f"
   },
   "outputs": [],
   "source": [
    "\n",
    "pickle.dump( trn, open( 'trainsplit.p', \"wb\" ) )\n",
    "pickle.dump( val, open( 'validationsplit.p', \"wb\" ) )"
   ]
  },
  {
   "cell_type": "code",
   "execution_count": 112,
   "metadata": {},
   "outputs": [
    {
     "data": {
      "text/plain": [
       "(array([[[  101,   164, 66758, ...,     0,     0,     0],\n",
       "         [    1,     1,     1, ...,     0,     0,     0],\n",
       "         [    0,     0,     0, ...,     0,     0,     0]]]),\n",
       " array([[0., 1., 0., 0., 0., 0., 0., 0.]], dtype=float32))"
      ]
     },
     "execution_count": 112,
     "metadata": {},
     "output_type": "execute_result"
    }
   ],
   "source": [
    "trn[0]"
   ]
  },
  {
   "cell_type": "code",
   "execution_count": 44,
   "metadata": {
    "colab": {
     "base_uri": "https://localhost:8080/",
     "height": 207
    },
    "colab_type": "code",
    "id": "d0E8U0OQ8VW6",
    "outputId": "0934f3f9-f7ae-44dc-fbef-4e038c8bb99a"
   },
   "outputs": [],
   "source": [
    "model = t.get_classifier()\n"
   ]
  },
  {
   "cell_type": "code",
   "execution_count": 114,
   "metadata": {},
   "outputs": [],
   "source": [
    "model.layers[0].trainable = False\n",
    "model.layers[3].rate = 0.2\n",
    "learner = ktrain.get_learner(model,train_data=trn, val_data = vali, batch_size=6)"
   ]
  },
  {
   "cell_type": "code",
   "execution_count": 115,
   "metadata": {},
   "outputs": [
    {
     "name": "stdout",
     "output_type": "stream",
     "text": [
      "\n",
      "\n",
      "begin training using onecycle policy with max lr of 0.0001...\n",
      "Train for 16684 steps, validate for 1568 steps\n",
      "Epoch 1/4\n",
      "16684/16684 [==============================] - 2969s 178ms/step - loss: 1.5068 - accuracy: 0.4444 - val_loss: 1.3304 - val_accuracy: 0.5053\n",
      "Epoch 2/4\n",
      "16684/16684 [==============================] - 2975s 178ms/step - loss: 1.2487 - accuracy: 0.5404 - val_loss: 1.3856 - val_accuracy: 0.4859\n",
      "Epoch 3/4\n",
      "16684/16684 [==============================] - 2980s 179ms/step - loss: 1.1578 - accuracy: 0.5707 - val_loss: 1.2558 - val_accuracy: 0.5276\n",
      "Epoch 4/4\n",
      "16684/16684 [==============================] - 2980s 179ms/step - loss: 1.0968 - accuracy: 0.5945 - val_loss: 1.2527 - val_accuracy: 0.5178\n"
     ]
    },
    {
     "data": {
      "text/plain": [
       "<tensorflow.python.keras.callbacks.History at 0x161439ad088>"
      ]
     },
     "execution_count": 115,
     "metadata": {},
     "output_type": "execute_result"
    }
   ],
   "source": [
    "learner.fit_onecycle(0.0001, 4,checkpoint_folder='/save/')"
   ]
  },
  {
   "cell_type": "code",
   "execution_count": 116,
   "metadata": {},
   "outputs": [],
   "source": [
    "model.layers[0].trainable = True\n",
    "model.layers[3].rate = 0.2\n",
    "learner = ktrain.get_learner(model,train_data=trn, val_data = vali, batch_size=6)"
   ]
  },
  {
   "cell_type": "code",
   "execution_count": 117,
   "metadata": {
    "scrolled": false
   },
   "outputs": [
    {
     "name": "stdout",
     "output_type": "stream",
     "text": [
      "\n",
      "\n",
      "begin training using onecycle policy with max lr of 5e-05...\n",
      "Train for 16684 steps, validate for 1568 steps\n",
      "Epoch 1/20\n",
      "16684/16684 [==============================] - 2991s 179ms/step - loss: 1.0755 - accuracy: 0.6037 - val_loss: 1.2560 - val_accuracy: 0.5152\n",
      "Epoch 2/20\n",
      "16684/16684 [==============================] - 2982s 179ms/step - loss: 1.0725 - accuracy: 0.6044 - val_loss: 1.2707 - val_accuracy: 0.4938\n",
      "Epoch 3/20\n",
      "16684/16684 [==============================] - 2984s 179ms/step - loss: 1.0623 - accuracy: 0.6091 - val_loss: 1.2547 - val_accuracy: 0.5233\n",
      "Epoch 4/20\n",
      "16684/16684 [==============================] - 2985s 179ms/step - loss: 1.0541 - accuracy: 0.6121 - val_loss: 1.2446 - val_accuracy: 0.5329\n",
      "Epoch 5/20\n",
      "16684/16684 [==============================] - 2984s 179ms/step - loss: 1.0421 - accuracy: 0.6165 - val_loss: 1.2735 - val_accuracy: 0.4994\n",
      "Epoch 6/20\n",
      "16684/16684 [==============================] - 2983s 179ms/step - loss: 1.0286 - accuracy: 0.6208 - val_loss: 1.2291 - val_accuracy: 0.5421\n",
      "Epoch 7/20\n",
      "16684/16684 [==============================] - 2983s 179ms/step - loss: 1.0152 - accuracy: 0.6271 - val_loss: 1.2526 - val_accuracy: 0.5275\n",
      "Epoch 8/20\n",
      "16684/16684 [==============================] - 2984s 179ms/step - loss: 0.9989 - accuracy: 0.6325 - val_loss: 1.2215 - val_accuracy: 0.5371\n",
      "Epoch 9/20\n",
      "16684/16684 [==============================] - 2983s 179ms/step - loss: 0.9836 - accuracy: 0.6379 - val_loss: 1.2449 - val_accuracy: 0.5367\n",
      "Epoch 10/20\n",
      "16684/16684 [==============================] - 2983s 179ms/step - loss: 0.9693 - accuracy: 0.6437 - val_loss: 1.2488 - val_accuracy: 0.5387\n",
      "Epoch 11/20\n",
      "16684/16684 [==============================] - 2984s 179ms/step - loss: 0.9501 - accuracy: 0.6491 - val_loss: 1.2225 - val_accuracy: 0.5463\n",
      "Epoch 12/20\n",
      "16684/16684 [==============================] - 2987s 179ms/step - loss: 0.9309 - accuracy: 0.6583 - val_loss: 1.2409 - val_accuracy: 0.5452\n",
      "Epoch 13/20\n",
      "16684/16684 [==============================] - 2982s 179ms/step - loss: 0.9144 - accuracy: 0.6651 - val_loss: 1.2534 - val_accuracy: 0.5339\n",
      "Epoch 14/20\n",
      "16684/16684 [==============================] - 2982s 179ms/step - loss: 0.8971 - accuracy: 0.6709 - val_loss: 1.2328 - val_accuracy: 0.5454\n",
      "Epoch 15/20\n",
      "16684/16684 [==============================] - 2981s 179ms/step - loss: 0.8842 - accuracy: 0.6766 - val_loss: 1.2771 - val_accuracy: 0.5240\n",
      "Epoch 16/20\n",
      "16684/16684 [==============================] - 2984s 179ms/step - loss: 0.8715 - accuracy: 0.6817 - val_loss: 1.2455 - val_accuracy: 0.5462\n",
      "Epoch 17/20\n",
      " 1265/16684 [=>............................] - ETA: 43:02 - loss: 0.8476 - accuracy: 0.6903"
     ]
    },
    {
     "ename": "KeyboardInterrupt",
     "evalue": "",
     "output_type": "error",
     "traceback": [
      "\u001b[1;31m---------------------------------------------------------------------------\u001b[0m",
      "\u001b[1;31mKeyboardInterrupt\u001b[0m                         Traceback (most recent call last)",
      "\u001b[1;32m<ipython-input-117-4069bf56e178>\u001b[0m in \u001b[0;36m<module>\u001b[1;34m\u001b[0m\n\u001b[1;32m----> 1\u001b[1;33m \u001b[0mlearner\u001b[0m\u001b[1;33m.\u001b[0m\u001b[0mfit_onecycle\u001b[0m\u001b[1;33m(\u001b[0m\u001b[1;36m0.00005\u001b[0m\u001b[1;33m,\u001b[0m \u001b[1;36m20\u001b[0m\u001b[1;33m,\u001b[0m\u001b[0mcheckpoint_folder\u001b[0m\u001b[1;33m=\u001b[0m\u001b[1;34m'/usave/'\u001b[0m\u001b[1;33m)\u001b[0m\u001b[1;33m\u001b[0m\u001b[1;33m\u001b[0m\u001b[0m\n\u001b[0m",
      "\u001b[1;32m~\\Anaconda3\\envs\\nlp\\lib\\site-packages\\ktrain\\core.py\u001b[0m in \u001b[0;36mfit_onecycle\u001b[1;34m(self, lr, epochs, checkpoint_folder, cycle_momentum, verbose, class_weight, callbacks)\u001b[0m\n\u001b[0;32m    725\u001b[0m         hist = self.fit(lr, epochs, early_stopping=None,\n\u001b[0;32m    726\u001b[0m                         \u001b[0mcheckpoint_folder\u001b[0m\u001b[1;33m=\u001b[0m\u001b[0mcheckpoint_folder\u001b[0m\u001b[1;33m,\u001b[0m\u001b[1;33m\u001b[0m\u001b[1;33m\u001b[0m\u001b[0m\n\u001b[1;32m--> 727\u001b[1;33m                         verbose=verbose, class_weight=class_weight, callbacks=kcallbacks)\n\u001b[0m\u001b[0;32m    728\u001b[0m         \u001b[0mhist\u001b[0m\u001b[1;33m.\u001b[0m\u001b[0mhistory\u001b[0m\u001b[1;33m[\u001b[0m\u001b[1;34m'lr'\u001b[0m\u001b[1;33m]\u001b[0m \u001b[1;33m=\u001b[0m \u001b[0mclr\u001b[0m\u001b[1;33m.\u001b[0m\u001b[0mhistory\u001b[0m\u001b[1;33m[\u001b[0m\u001b[1;34m'lr'\u001b[0m\u001b[1;33m]\u001b[0m\u001b[1;33m\u001b[0m\u001b[1;33m\u001b[0m\u001b[0m\n\u001b[0;32m    729\u001b[0m         \u001b[0mhist\u001b[0m\u001b[1;33m.\u001b[0m\u001b[0mhistory\u001b[0m\u001b[1;33m[\u001b[0m\u001b[1;34m'iterations'\u001b[0m\u001b[1;33m]\u001b[0m \u001b[1;33m=\u001b[0m \u001b[0mclr\u001b[0m\u001b[1;33m.\u001b[0m\u001b[0mhistory\u001b[0m\u001b[1;33m[\u001b[0m\u001b[1;34m'iterations'\u001b[0m\u001b[1;33m]\u001b[0m\u001b[1;33m\u001b[0m\u001b[1;33m\u001b[0m\u001b[0m\n",
      "\u001b[1;32m~\\Anaconda3\\envs\\nlp\\lib\\site-packages\\ktrain\\core.py\u001b[0m in \u001b[0;36mfit\u001b[1;34m(self, lr, n_cycles, cycle_len, cycle_mult, lr_decay, checkpoint_folder, early_stopping, class_weight, callbacks, verbose)\u001b[0m\n\u001b[0;32m   1183\u001b[0m                                         \u001b[0mshuffle\u001b[0m\u001b[1;33m=\u001b[0m\u001b[1;32mTrue\u001b[0m\u001b[1;33m,\u001b[0m\u001b[1;33m\u001b[0m\u001b[1;33m\u001b[0m\u001b[0m\n\u001b[0;32m   1184\u001b[0m                                         \u001b[0mclass_weight\u001b[0m\u001b[1;33m=\u001b[0m\u001b[0mclass_weight\u001b[0m\u001b[1;33m,\u001b[0m\u001b[1;33m\u001b[0m\u001b[1;33m\u001b[0m\u001b[0m\n\u001b[1;32m-> 1185\u001b[1;33m                                         callbacks=kcallbacks)\n\u001b[0m\u001b[0;32m   1186\u001b[0m         \u001b[1;32mif\u001b[0m \u001b[0msgdr\u001b[0m \u001b[1;32mis\u001b[0m \u001b[1;32mnot\u001b[0m \u001b[1;32mNone\u001b[0m\u001b[1;33m:\u001b[0m \u001b[0mhist\u001b[0m\u001b[1;33m.\u001b[0m\u001b[0mhistory\u001b[0m\u001b[1;33m[\u001b[0m\u001b[1;34m'lr'\u001b[0m\u001b[1;33m]\u001b[0m \u001b[1;33m=\u001b[0m \u001b[0msgdr\u001b[0m\u001b[1;33m.\u001b[0m\u001b[0mhistory\u001b[0m\u001b[1;33m[\u001b[0m\u001b[1;34m'lr'\u001b[0m\u001b[1;33m]\u001b[0m\u001b[1;33m\u001b[0m\u001b[1;33m\u001b[0m\u001b[0m\n\u001b[0;32m   1187\u001b[0m         \u001b[0mself\u001b[0m\u001b[1;33m.\u001b[0m\u001b[0mhistory\u001b[0m \u001b[1;33m=\u001b[0m \u001b[0mhist\u001b[0m\u001b[1;33m\u001b[0m\u001b[1;33m\u001b[0m\u001b[0m\n",
      "\u001b[1;32m~\\Anaconda3\\envs\\nlp\\lib\\site-packages\\tensorflow_core\\python\\keras\\engine\\training.py\u001b[0m in \u001b[0;36mfit\u001b[1;34m(self, x, y, batch_size, epochs, verbose, callbacks, validation_split, validation_data, shuffle, class_weight, sample_weight, initial_epoch, steps_per_epoch, validation_steps, validation_freq, max_queue_size, workers, use_multiprocessing, **kwargs)\u001b[0m\n\u001b[0;32m    817\u001b[0m         \u001b[0mmax_queue_size\u001b[0m\u001b[1;33m=\u001b[0m\u001b[0mmax_queue_size\u001b[0m\u001b[1;33m,\u001b[0m\u001b[1;33m\u001b[0m\u001b[1;33m\u001b[0m\u001b[0m\n\u001b[0;32m    818\u001b[0m         \u001b[0mworkers\u001b[0m\u001b[1;33m=\u001b[0m\u001b[0mworkers\u001b[0m\u001b[1;33m,\u001b[0m\u001b[1;33m\u001b[0m\u001b[1;33m\u001b[0m\u001b[0m\n\u001b[1;32m--> 819\u001b[1;33m         use_multiprocessing=use_multiprocessing)\n\u001b[0m\u001b[0;32m    820\u001b[0m \u001b[1;33m\u001b[0m\u001b[0m\n\u001b[0;32m    821\u001b[0m   def evaluate(self,\n",
      "\u001b[1;32m~\\Anaconda3\\envs\\nlp\\lib\\site-packages\\tensorflow_core\\python\\keras\\engine\\training_v2.py\u001b[0m in \u001b[0;36mfit\u001b[1;34m(self, model, x, y, batch_size, epochs, verbose, callbacks, validation_split, validation_data, shuffle, class_weight, sample_weight, initial_epoch, steps_per_epoch, validation_steps, validation_freq, max_queue_size, workers, use_multiprocessing, **kwargs)\u001b[0m\n\u001b[0;32m    340\u001b[0m                 \u001b[0mmode\u001b[0m\u001b[1;33m=\u001b[0m\u001b[0mModeKeys\u001b[0m\u001b[1;33m.\u001b[0m\u001b[0mTRAIN\u001b[0m\u001b[1;33m,\u001b[0m\u001b[1;33m\u001b[0m\u001b[1;33m\u001b[0m\u001b[0m\n\u001b[0;32m    341\u001b[0m                 \u001b[0mtraining_context\u001b[0m\u001b[1;33m=\u001b[0m\u001b[0mtraining_context\u001b[0m\u001b[1;33m,\u001b[0m\u001b[1;33m\u001b[0m\u001b[1;33m\u001b[0m\u001b[0m\n\u001b[1;32m--> 342\u001b[1;33m                 total_epochs=epochs)\n\u001b[0m\u001b[0;32m    343\u001b[0m             \u001b[0mcbks\u001b[0m\u001b[1;33m.\u001b[0m\u001b[0mmake_logs\u001b[0m\u001b[1;33m(\u001b[0m\u001b[0mmodel\u001b[0m\u001b[1;33m,\u001b[0m \u001b[0mepoch_logs\u001b[0m\u001b[1;33m,\u001b[0m \u001b[0mtraining_result\u001b[0m\u001b[1;33m,\u001b[0m \u001b[0mModeKeys\u001b[0m\u001b[1;33m.\u001b[0m\u001b[0mTRAIN\u001b[0m\u001b[1;33m)\u001b[0m\u001b[1;33m\u001b[0m\u001b[1;33m\u001b[0m\u001b[0m\n\u001b[0;32m    344\u001b[0m \u001b[1;33m\u001b[0m\u001b[0m\n",
      "\u001b[1;32m~\\Anaconda3\\envs\\nlp\\lib\\site-packages\\tensorflow_core\\python\\keras\\engine\\training_v2.py\u001b[0m in \u001b[0;36mrun_one_epoch\u001b[1;34m(model, iterator, execution_function, dataset_size, batch_size, strategy, steps_per_epoch, num_samples, mode, training_context, total_epochs)\u001b[0m\n\u001b[0;32m    126\u001b[0m         step=step, mode=mode, size=current_batch_size) as batch_logs:\n\u001b[0;32m    127\u001b[0m       \u001b[1;32mtry\u001b[0m\u001b[1;33m:\u001b[0m\u001b[1;33m\u001b[0m\u001b[1;33m\u001b[0m\u001b[0m\n\u001b[1;32m--> 128\u001b[1;33m         \u001b[0mbatch_outs\u001b[0m \u001b[1;33m=\u001b[0m \u001b[0mexecution_function\u001b[0m\u001b[1;33m(\u001b[0m\u001b[0miterator\u001b[0m\u001b[1;33m)\u001b[0m\u001b[1;33m\u001b[0m\u001b[1;33m\u001b[0m\u001b[0m\n\u001b[0m\u001b[0;32m    129\u001b[0m       \u001b[1;32mexcept\u001b[0m \u001b[1;33m(\u001b[0m\u001b[0mStopIteration\u001b[0m\u001b[1;33m,\u001b[0m \u001b[0merrors\u001b[0m\u001b[1;33m.\u001b[0m\u001b[0mOutOfRangeError\u001b[0m\u001b[1;33m)\u001b[0m\u001b[1;33m:\u001b[0m\u001b[1;33m\u001b[0m\u001b[1;33m\u001b[0m\u001b[0m\n\u001b[0;32m    130\u001b[0m         \u001b[1;31m# TODO(kaftan): File bug about tf function and errors.OutOfRangeError?\u001b[0m\u001b[1;33m\u001b[0m\u001b[1;33m\u001b[0m\u001b[1;33m\u001b[0m\u001b[0m\n",
      "\u001b[1;32m~\\Anaconda3\\envs\\nlp\\lib\\site-packages\\tensorflow_core\\python\\keras\\engine\\training_v2_utils.py\u001b[0m in \u001b[0;36mexecution_function\u001b[1;34m(input_fn)\u001b[0m\n\u001b[0;32m     96\u001b[0m     \u001b[1;31m# `numpy` translates Tensors to values in Eager mode.\u001b[0m\u001b[1;33m\u001b[0m\u001b[1;33m\u001b[0m\u001b[1;33m\u001b[0m\u001b[0m\n\u001b[0;32m     97\u001b[0m     return nest.map_structure(_non_none_constant_value,\n\u001b[1;32m---> 98\u001b[1;33m                               distributed_function(input_fn))\n\u001b[0m\u001b[0;32m     99\u001b[0m \u001b[1;33m\u001b[0m\u001b[0m\n\u001b[0;32m    100\u001b[0m   \u001b[1;32mreturn\u001b[0m \u001b[0mexecution_function\u001b[0m\u001b[1;33m\u001b[0m\u001b[1;33m\u001b[0m\u001b[0m\n",
      "\u001b[1;32m~\\Anaconda3\\envs\\nlp\\lib\\site-packages\\tensorflow_core\\python\\eager\\def_function.py\u001b[0m in \u001b[0;36m__call__\u001b[1;34m(self, *args, **kwds)\u001b[0m\n\u001b[0;32m    566\u001b[0m         \u001b[0mxla_context\u001b[0m\u001b[1;33m.\u001b[0m\u001b[0mExit\u001b[0m\u001b[1;33m(\u001b[0m\u001b[1;33m)\u001b[0m\u001b[1;33m\u001b[0m\u001b[1;33m\u001b[0m\u001b[0m\n\u001b[0;32m    567\u001b[0m     \u001b[1;32melse\u001b[0m\u001b[1;33m:\u001b[0m\u001b[1;33m\u001b[0m\u001b[1;33m\u001b[0m\u001b[0m\n\u001b[1;32m--> 568\u001b[1;33m       \u001b[0mresult\u001b[0m \u001b[1;33m=\u001b[0m \u001b[0mself\u001b[0m\u001b[1;33m.\u001b[0m\u001b[0m_call\u001b[0m\u001b[1;33m(\u001b[0m\u001b[1;33m*\u001b[0m\u001b[0margs\u001b[0m\u001b[1;33m,\u001b[0m \u001b[1;33m**\u001b[0m\u001b[0mkwds\u001b[0m\u001b[1;33m)\u001b[0m\u001b[1;33m\u001b[0m\u001b[1;33m\u001b[0m\u001b[0m\n\u001b[0m\u001b[0;32m    569\u001b[0m \u001b[1;33m\u001b[0m\u001b[0m\n\u001b[0;32m    570\u001b[0m     \u001b[1;32mif\u001b[0m \u001b[0mtracing_count\u001b[0m \u001b[1;33m==\u001b[0m \u001b[0mself\u001b[0m\u001b[1;33m.\u001b[0m\u001b[0m_get_tracing_count\u001b[0m\u001b[1;33m(\u001b[0m\u001b[1;33m)\u001b[0m\u001b[1;33m:\u001b[0m\u001b[1;33m\u001b[0m\u001b[1;33m\u001b[0m\u001b[0m\n",
      "\u001b[1;32m~\\Anaconda3\\envs\\nlp\\lib\\site-packages\\tensorflow_core\\python\\eager\\def_function.py\u001b[0m in \u001b[0;36m_call\u001b[1;34m(self, *args, **kwds)\u001b[0m\n\u001b[0;32m    597\u001b[0m       \u001b[1;31m# In this case we have created variables on the first call, so we run the\u001b[0m\u001b[1;33m\u001b[0m\u001b[1;33m\u001b[0m\u001b[1;33m\u001b[0m\u001b[0m\n\u001b[0;32m    598\u001b[0m       \u001b[1;31m# defunned version which is guaranteed to never create variables.\u001b[0m\u001b[1;33m\u001b[0m\u001b[1;33m\u001b[0m\u001b[1;33m\u001b[0m\u001b[0m\n\u001b[1;32m--> 599\u001b[1;33m       \u001b[1;32mreturn\u001b[0m \u001b[0mself\u001b[0m\u001b[1;33m.\u001b[0m\u001b[0m_stateless_fn\u001b[0m\u001b[1;33m(\u001b[0m\u001b[1;33m*\u001b[0m\u001b[0margs\u001b[0m\u001b[1;33m,\u001b[0m \u001b[1;33m**\u001b[0m\u001b[0mkwds\u001b[0m\u001b[1;33m)\u001b[0m  \u001b[1;31m# pylint: disable=not-callable\u001b[0m\u001b[1;33m\u001b[0m\u001b[1;33m\u001b[0m\u001b[0m\n\u001b[0m\u001b[0;32m    600\u001b[0m     \u001b[1;32melif\u001b[0m \u001b[0mself\u001b[0m\u001b[1;33m.\u001b[0m\u001b[0m_stateful_fn\u001b[0m \u001b[1;32mis\u001b[0m \u001b[1;32mnot\u001b[0m \u001b[1;32mNone\u001b[0m\u001b[1;33m:\u001b[0m\u001b[1;33m\u001b[0m\u001b[1;33m\u001b[0m\u001b[0m\n\u001b[0;32m    601\u001b[0m       \u001b[1;31m# Release the lock early so that multiple threads can perform the call\u001b[0m\u001b[1;33m\u001b[0m\u001b[1;33m\u001b[0m\u001b[1;33m\u001b[0m\u001b[0m\n",
      "\u001b[1;32m~\\Anaconda3\\envs\\nlp\\lib\\site-packages\\tensorflow_core\\python\\eager\\function.py\u001b[0m in \u001b[0;36m__call__\u001b[1;34m(self, *args, **kwargs)\u001b[0m\n\u001b[0;32m   2361\u001b[0m     \u001b[1;32mwith\u001b[0m \u001b[0mself\u001b[0m\u001b[1;33m.\u001b[0m\u001b[0m_lock\u001b[0m\u001b[1;33m:\u001b[0m\u001b[1;33m\u001b[0m\u001b[1;33m\u001b[0m\u001b[0m\n\u001b[0;32m   2362\u001b[0m       \u001b[0mgraph_function\u001b[0m\u001b[1;33m,\u001b[0m \u001b[0margs\u001b[0m\u001b[1;33m,\u001b[0m \u001b[0mkwargs\u001b[0m \u001b[1;33m=\u001b[0m \u001b[0mself\u001b[0m\u001b[1;33m.\u001b[0m\u001b[0m_maybe_define_function\u001b[0m\u001b[1;33m(\u001b[0m\u001b[0margs\u001b[0m\u001b[1;33m,\u001b[0m \u001b[0mkwargs\u001b[0m\u001b[1;33m)\u001b[0m\u001b[1;33m\u001b[0m\u001b[1;33m\u001b[0m\u001b[0m\n\u001b[1;32m-> 2363\u001b[1;33m     \u001b[1;32mreturn\u001b[0m \u001b[0mgraph_function\u001b[0m\u001b[1;33m.\u001b[0m\u001b[0m_filtered_call\u001b[0m\u001b[1;33m(\u001b[0m\u001b[0margs\u001b[0m\u001b[1;33m,\u001b[0m \u001b[0mkwargs\u001b[0m\u001b[1;33m)\u001b[0m  \u001b[1;31m# pylint: disable=protected-access\u001b[0m\u001b[1;33m\u001b[0m\u001b[1;33m\u001b[0m\u001b[0m\n\u001b[0m\u001b[0;32m   2364\u001b[0m \u001b[1;33m\u001b[0m\u001b[0m\n\u001b[0;32m   2365\u001b[0m   \u001b[1;33m@\u001b[0m\u001b[0mproperty\u001b[0m\u001b[1;33m\u001b[0m\u001b[1;33m\u001b[0m\u001b[0m\n",
      "\u001b[1;32m~\\Anaconda3\\envs\\nlp\\lib\\site-packages\\tensorflow_core\\python\\eager\\function.py\u001b[0m in \u001b[0;36m_filtered_call\u001b[1;34m(self, args, kwargs)\u001b[0m\n\u001b[0;32m   1609\u001b[0m          if isinstance(t, (ops.Tensor,\n\u001b[0;32m   1610\u001b[0m                            resource_variable_ops.BaseResourceVariable))),\n\u001b[1;32m-> 1611\u001b[1;33m         self.captured_inputs)\n\u001b[0m\u001b[0;32m   1612\u001b[0m \u001b[1;33m\u001b[0m\u001b[0m\n\u001b[0;32m   1613\u001b[0m   \u001b[1;32mdef\u001b[0m \u001b[0m_call_flat\u001b[0m\u001b[1;33m(\u001b[0m\u001b[0mself\u001b[0m\u001b[1;33m,\u001b[0m \u001b[0margs\u001b[0m\u001b[1;33m,\u001b[0m \u001b[0mcaptured_inputs\u001b[0m\u001b[1;33m,\u001b[0m \u001b[0mcancellation_manager\u001b[0m\u001b[1;33m=\u001b[0m\u001b[1;32mNone\u001b[0m\u001b[1;33m)\u001b[0m\u001b[1;33m:\u001b[0m\u001b[1;33m\u001b[0m\u001b[1;33m\u001b[0m\u001b[0m\n",
      "\u001b[1;32m~\\Anaconda3\\envs\\nlp\\lib\\site-packages\\tensorflow_core\\python\\eager\\function.py\u001b[0m in \u001b[0;36m_call_flat\u001b[1;34m(self, args, captured_inputs, cancellation_manager)\u001b[0m\n\u001b[0;32m   1690\u001b[0m       \u001b[1;31m# No tape is watching; skip to running the function.\u001b[0m\u001b[1;33m\u001b[0m\u001b[1;33m\u001b[0m\u001b[1;33m\u001b[0m\u001b[0m\n\u001b[0;32m   1691\u001b[0m       return self._build_call_outputs(self._inference_function.call(\n\u001b[1;32m-> 1692\u001b[1;33m           ctx, args, cancellation_manager=cancellation_manager))\n\u001b[0m\u001b[0;32m   1693\u001b[0m     forward_backward = self._select_forward_and_backward_functions(\n\u001b[0;32m   1694\u001b[0m         \u001b[0margs\u001b[0m\u001b[1;33m,\u001b[0m\u001b[1;33m\u001b[0m\u001b[1;33m\u001b[0m\u001b[0m\n",
      "\u001b[1;32m~\\Anaconda3\\envs\\nlp\\lib\\site-packages\\tensorflow_core\\python\\eager\\function.py\u001b[0m in \u001b[0;36mcall\u001b[1;34m(self, ctx, args, cancellation_manager)\u001b[0m\n\u001b[0;32m    543\u001b[0m               \u001b[0minputs\u001b[0m\u001b[1;33m=\u001b[0m\u001b[0margs\u001b[0m\u001b[1;33m,\u001b[0m\u001b[1;33m\u001b[0m\u001b[1;33m\u001b[0m\u001b[0m\n\u001b[0;32m    544\u001b[0m               \u001b[0mattrs\u001b[0m\u001b[1;33m=\u001b[0m\u001b[1;33m(\u001b[0m\u001b[1;34m\"executor_type\"\u001b[0m\u001b[1;33m,\u001b[0m \u001b[0mexecutor_type\u001b[0m\u001b[1;33m,\u001b[0m \u001b[1;34m\"config_proto\"\u001b[0m\u001b[1;33m,\u001b[0m \u001b[0mconfig\u001b[0m\u001b[1;33m)\u001b[0m\u001b[1;33m,\u001b[0m\u001b[1;33m\u001b[0m\u001b[1;33m\u001b[0m\u001b[0m\n\u001b[1;32m--> 545\u001b[1;33m               ctx=ctx)\n\u001b[0m\u001b[0;32m    546\u001b[0m         \u001b[1;32melse\u001b[0m\u001b[1;33m:\u001b[0m\u001b[1;33m\u001b[0m\u001b[1;33m\u001b[0m\u001b[0m\n\u001b[0;32m    547\u001b[0m           outputs = execute.execute_with_cancellation(\n",
      "\u001b[1;32m~\\Anaconda3\\envs\\nlp\\lib\\site-packages\\tensorflow_core\\python\\eager\\execute.py\u001b[0m in \u001b[0;36mquick_execute\u001b[1;34m(op_name, num_outputs, inputs, attrs, ctx, name)\u001b[0m\n\u001b[0;32m     59\u001b[0m     tensors = pywrap_tensorflow.TFE_Py_Execute(ctx._handle, device_name,\n\u001b[0;32m     60\u001b[0m                                                \u001b[0mop_name\u001b[0m\u001b[1;33m,\u001b[0m \u001b[0minputs\u001b[0m\u001b[1;33m,\u001b[0m \u001b[0mattrs\u001b[0m\u001b[1;33m,\u001b[0m\u001b[1;33m\u001b[0m\u001b[1;33m\u001b[0m\u001b[0m\n\u001b[1;32m---> 61\u001b[1;33m                                                num_outputs)\n\u001b[0m\u001b[0;32m     62\u001b[0m   \u001b[1;32mexcept\u001b[0m \u001b[0mcore\u001b[0m\u001b[1;33m.\u001b[0m\u001b[0m_NotOkStatusException\u001b[0m \u001b[1;32mas\u001b[0m \u001b[0me\u001b[0m\u001b[1;33m:\u001b[0m\u001b[1;33m\u001b[0m\u001b[1;33m\u001b[0m\u001b[0m\n\u001b[0;32m     63\u001b[0m     \u001b[1;32mif\u001b[0m \u001b[0mname\u001b[0m \u001b[1;32mis\u001b[0m \u001b[1;32mnot\u001b[0m \u001b[1;32mNone\u001b[0m\u001b[1;33m:\u001b[0m\u001b[1;33m\u001b[0m\u001b[1;33m\u001b[0m\u001b[0m\n",
      "\u001b[1;31mKeyboardInterrupt\u001b[0m: "
     ]
    }
   ],
   "source": [
    "learner.fit_onecycle(0.00005, 20,checkpoint_folder='/usave/')"
   ]
  },
  {
   "cell_type": "code",
   "execution_count": 118,
   "metadata": {},
   "outputs": [],
   "source": [
    "model.save_pretrained('/usave/')"
   ]
  },
  {
   "cell_type": "code",
   "execution_count": 57,
   "metadata": {},
   "outputs": [
    {
     "data": {
      "text/plain": [
       "(<tf.Tensor: shape=(1, 8), dtype=float32, numpy=\n",
       " array([[ 2.1930883 , -0.84207124,  4.422745  , -3.8641634 , -0.86248827,\n",
       "         -6.315142  , -5.8191185 , -2.4697618 ]], dtype=float32)>,)"
      ]
     },
     "execution_count": 57,
     "metadata": {},
     "output_type": "execute_result"
    }
   ],
   "source": [
    "model(input_ids)"
   ]
  },
  {
   "cell_type": "code",
   "execution_count": 52,
   "metadata": {},
   "outputs": [],
   "source": [
    "model.compile(loss = 'categorical_crossentropy')\n",
    "predictor = ktrain.get_predictor(model, preproc = t)"
   ]
  },
  {
   "cell_type": "code",
   "execution_count": 49,
   "metadata": {},
   "outputs": [],
   "source": []
  },
  {
   "cell_type": "code",
   "execution_count": null,
   "metadata": {},
   "outputs": [],
   "source": []
  },
  {
   "cell_type": "code",
   "execution_count": 53,
   "metadata": {},
   "outputs": [
    {
     "data": {
      "text/html": [],
      "text/plain": [
       "<IPython.core.display.HTML object>"
      ]
     },
     "metadata": {},
     "output_type": "display_data"
    },
    {
     "data": {
      "text/html": [],
      "text/plain": [
       "<IPython.core.display.HTML object>"
      ]
     },
     "metadata": {},
     "output_type": "display_data"
    },
    {
     "data": {
      "text/html": [
       "\n",
       "    <style>\n",
       "    table.eli5-weights tr:hover {\n",
       "        filter: brightness(85%);\n",
       "    }\n",
       "</style>\n",
       "\n",
       "\n",
       "\n",
       "    \n",
       "\n",
       "    \n",
       "\n",
       "    \n",
       "\n",
       "    \n",
       "\n",
       "    \n",
       "\n",
       "    \n",
       "\n",
       "\n",
       "    \n",
       "\n",
       "    \n",
       "\n",
       "    \n",
       "\n",
       "    \n",
       "        \n",
       "\n",
       "    \n",
       "\n",
       "        \n",
       "\n",
       "        \n",
       "    \n",
       "        \n",
       "        \n",
       "    \n",
       "        <p style=\"margin-bottom: 0.5em; margin-top: 0em\">\n",
       "            <b>\n",
       "    \n",
       "        y=business/finance\n",
       "    \n",
       "</b>\n",
       "\n",
       "    \n",
       "    (probability <b>0.434</b>, score <b>-0.199</b>)\n",
       "\n",
       "top features\n",
       "        </p>\n",
       "    \n",
       "    <table class=\"eli5-weights\"\n",
       "           style=\"border-collapse: collapse; border: none; margin-top: 0em; table-layout: auto; margin-bottom: 2em;\">\n",
       "        <thead>\n",
       "        <tr style=\"border: none;\">\n",
       "            \n",
       "                <th style=\"padding: 0 1em 0 0.5em; text-align: right; border: none;\" title=\"Feature contribution already accounts for the feature value (for linear models, contribution = weight * feature value), and the sum of feature contributions is equal to the score or, for some classifiers, to the probability. Feature values are shown if &quot;show_feature_values&quot; is True.\">\n",
       "                    Contribution<sup>?</sup>\n",
       "                </th>\n",
       "            \n",
       "            <th style=\"padding: 0 0.5em 0 0.5em; text-align: left; border: none;\">Feature</th>\n",
       "            \n",
       "        </tr>\n",
       "        </thead>\n",
       "        <tbody>\n",
       "        \n",
       "            <tr style=\"background-color: hsl(120, 100.00%, 92.44%); border: none;\">\n",
       "    <td style=\"padding: 0 1em 0 0.5em; text-align: right; border: none;\">\n",
       "        +0.066\n",
       "    </td>\n",
       "    <td style=\"padding: 0 0.5em 0 0.5em; text-align: left; border: none;\">\n",
       "        Highlighted in text (sum)\n",
       "    </td>\n",
       "    \n",
       "</tr>\n",
       "        \n",
       "        \n",
       "\n",
       "        \n",
       "        \n",
       "            <tr style=\"background-color: hsl(0, 100.00%, 80.00%); border: none;\">\n",
       "    <td style=\"padding: 0 1em 0 0.5em; text-align: right; border: none;\">\n",
       "        -0.265\n",
       "    </td>\n",
       "    <td style=\"padding: 0 0.5em 0 0.5em; text-align: left; border: none;\">\n",
       "        &lt;BIAS&gt;\n",
       "    </td>\n",
       "    \n",
       "</tr>\n",
       "        \n",
       "\n",
       "        </tbody>\n",
       "    </table>\n",
       "\n",
       "    \n",
       "\n",
       "\n",
       "\n",
       "    <p style=\"margin-bottom: 2.5em; margin-top:-0.5em;\">\n",
       "        <span style=\"background-color: hsl(0, 100.00%, 88.18%); opacity: 0.84\" title=\"-0.150\">aller</span><span style=\"opacity: 0.80\"> </span><span style=\"background-color: hsl(0, 100.00%, 60.00%); opacity: 1.00\" title=\"-0.854\">au</span><span style=\"opacity: 0.80\"> </span><span style=\"background-color: hsl(0, 100.00%, 92.44%); opacity: 0.82\" title=\"-0.079\">contenu</span><span style=\"opacity: 0.80\"> </span><span style=\"background-color: hsl(0, 100.00%, 94.05%); opacity: 0.81\" title=\"-0.056\">principal</span><span style=\"opacity: 0.80\"> (</span><span style=\"background-color: hsl(120, 100.00%, 83.23%); opacity: 0.86\" title=\"0.247\">button</span><span style=\"opacity: 0.80\">) </span><span style=\"background-color: hsl(0, 100.00%, 73.59%); opacity: 0.91\" title=\"-0.472\">ouvrir</span><span style=\"opacity: 0.80\"> </span><span style=\"background-color: hsl(120, 100.00%, 84.85%); opacity: 0.85\" title=\"0.213\">le</span><span style=\"opacity: 0.80\"> </span><span style=\"background-color: hsl(120, 100.00%, 77.92%); opacity: 0.89\" title=\"0.365\">menu</span><span style=\"opacity: 0.80\"> </span><span style=\"background-color: hsl(120, 100.00%, 97.55%); opacity: 0.80\" title=\"0.016\">retourner</span><span style=\"opacity: 0.80\"> </span><span style=\"background-color: hsl(0, 100.00%, 96.52%); opacity: 0.81\" title=\"-0.026\">à</span><span style=\"opacity: 0.80\"> </span><span style=\"background-color: hsl(120, 100.00%, 90.15%); opacity: 0.83\" title=\"0.115\">la</span><span style=\"opacity: 0.80\"> </span><span style=\"background-color: hsl(120, 100.00%, 98.90%); opacity: 0.80\" title=\"0.005\">page</span><span style=\"opacity: 0.80\"> </span><span style=\"background-color: hsl(0, 100.00%, 92.29%); opacity: 0.82\" title=\"-0.081\">d</span><span style=\"opacity: 0.80\">&#x27;</span><span style=\"background-color: hsl(0, 100.00%, 75.33%); opacity: 0.90\" title=\"-0.428\">accueil</span><span style=\"opacity: 0.80\"> </span><span style=\"background-color: hsl(0, 100.00%, 79.90%); opacity: 0.87\" title=\"-0.319\">du</span><span style=\"opacity: 0.80\"> </span><span style=\"background-color: hsl(0, 100.00%, 63.87%); opacity: 0.97\" title=\"-0.738\">site</span><span style=\"opacity: 0.80\"> </span><span style=\"background-color: hsl(120, 100.00%, 86.00%); opacity: 0.84\" title=\"0.191\">publicnavigation</span><span style=\"opacity: 0.80\"> </span><span style=\"background-color: hsl(120, 100.00%, 91.71%); opacity: 0.82\" title=\"0.090\">secondaire</span><span style=\"opacity: 0.80\"> * </span><span style=\"background-color: hsl(0, 100.00%, 66.50%); opacity: 0.96\" title=\"-0.663\">annuaire</span><span style=\"opacity: 0.80\"> * </span><span style=\"background-color: hsl(120, 100.00%, 62.90%); opacity: 0.98\" title=\"0.767\">boutique</span><span style=\"opacity: 0.80\"> * </span><span style=\"background-color: hsl(120, 100.00%, 89.67%); opacity: 0.83\" title=\"0.123\">congrès</span><span style=\"opacity: 0.80\"> * </span><span style=\"background-color: hsl(120, 100.00%, 70.39%); opacity: 0.93\" title=\"0.556\">hubemploi</span><span style=\"opacity: 0.80\"> * </span><span style=\"background-color: hsl(0, 100.00%, 93.64%); opacity: 0.81\" title=\"-0.062\">partenaires</span><span style=\"opacity: 0.80\"> (</span><span style=\"background-color: hsl(0, 100.00%, 89.85%); opacity: 0.83\" title=\"-0.120\">button</span><span style=\"opacity: 0.80\">)</span><span style=\"background-color: hsl(120, 100.00%, 90.23%); opacity: 0.83\" title=\"0.114\">navigation</span><span style=\"opacity: 0.80\"> </span><span style=\"background-color: hsl(0, 100.00%, 78.87%); opacity: 0.88\" title=\"-0.343\">princi</span>\n",
       "    </p>\n",
       "\n",
       "\n",
       "    \n",
       "\n",
       "    \n",
       "\n",
       "    \n",
       "\n",
       "    \n",
       "\n",
       "\n",
       "    \n",
       "\n",
       "    \n",
       "\n",
       "    \n",
       "\n",
       "    \n",
       "\n",
       "    \n",
       "\n",
       "    \n",
       "\n",
       "\n",
       "    \n",
       "\n",
       "    \n",
       "\n",
       "    \n",
       "\n",
       "    \n",
       "\n",
       "    \n",
       "\n",
       "    \n",
       "\n",
       "\n",
       "\n"
      ],
      "text/plain": [
       "<IPython.core.display.HTML object>"
      ]
     },
     "execution_count": 53,
     "metadata": {},
     "output_type": "execute_result"
    }
   ],
   "source": [
    "predictor.explain(train_l[0][:200])"
   ]
  },
  {
   "cell_type": "code",
   "execution_count": 54,
   "metadata": {},
   "outputs": [
    {
     "data": {
      "text/plain": [
       "0"
      ]
     },
     "execution_count": 54,
     "metadata": {},
     "output_type": "execute_result"
    }
   ],
   "source": [
    "label_l[0]"
   ]
  },
  {
   "cell_type": "markdown",
   "metadata": {
    "colab_type": "text",
    "id": "ubX4mo7ahbZI"
   },
   "source": [
    "# BERT: Get The Vector Transformations from the Fine Tuned BERT"
   ]
  },
  {
   "cell_type": "code",
   "execution_count": 45,
   "metadata": {},
   "outputs": [],
   "source": [
    "model = model.from_pretrained('/usave/')"
   ]
  },
  {
   "cell_type": "code",
   "execution_count": 37,
   "metadata": {},
   "outputs": [
    {
     "data": {
      "text/html": [
       "<div>\n",
       "<style scoped>\n",
       "    .dataframe tbody tr th:only-of-type {\n",
       "        vertical-align: middle;\n",
       "    }\n",
       "\n",
       "    .dataframe tbody tr th {\n",
       "        vertical-align: top;\n",
       "    }\n",
       "\n",
       "    .dataframe thead th {\n",
       "        text-align: right;\n",
       "    }\n",
       "</style>\n",
       "<table border=\"1\" class=\"dataframe\">\n",
       "  <thead>\n",
       "    <tr style=\"text-align: right;\">\n",
       "      <th></th>\n",
       "      <th>text</th>\n",
       "      <th>label_text</th>\n",
       "    </tr>\n",
       "  </thead>\n",
       "  <tbody>\n",
       "    <tr>\n",
       "      <th>0</th>\n",
       "      <td>aller au contenu principal (button) ouvrir le ...</td>\n",
       "      <td>0</td>\n",
       "    </tr>\n",
       "    <tr>\n",
       "      <th>1</th>\n",
       "      <td>1. accueilinitiatives associations : comment b...</td>\n",
       "      <td>0</td>\n",
       "    </tr>\n",
       "    <tr>\n",
       "      <th>2</th>\n",
       "      <td>en savoir plus sur salon de l'étudiant paris 1...</td>\n",
       "      <td>0</td>\n",
       "    </tr>\n",
       "    <tr>\n",
       "      <th>3</th>\n",
       "      <td>lien s'ouvre dans une nouvelle fenêtre) * en v...</td>\n",
       "      <td>0</td>\n",
       "    </tr>\n",
       "    <tr>\n",
       "      <th>4</th>\n",
       "      <td>la page d'accueil du site publicnavigation sec...</td>\n",
       "      <td>0</td>\n",
       "    </tr>\n",
       "    <tr>\n",
       "      <th>...</th>\n",
       "      <td>...</td>\n",
       "      <td>...</td>\n",
       "    </tr>\n",
       "    <tr>\n",
       "      <th>96114</th>\n",
       "      <td>o wide widths o sale footwear + clothing shop ...</td>\n",
       "      <td>0</td>\n",
       "    </tr>\n",
       "    <tr>\n",
       "      <th>96115</th>\n",
       "      <td>shoes o sale footwear + clothing shop all clot...</td>\n",
       "      <td>0</td>\n",
       "    </tr>\n",
       "    <tr>\n",
       "      <th>96116</th>\n",
       "      <td>+ women's pro shop all women's pro o work boot...</td>\n",
       "      <td>0</td>\n",
       "    </tr>\n",
       "    <tr>\n",
       "      <th>96117</th>\n",
       "      <td>workwear o sale clothing + women's shop all wo...</td>\n",
       "      <td>0</td>\n",
       "    </tr>\n",
       "    <tr>\n",
       "      <th>96118</th>\n",
       "      <td>your look @timberland. share your look view th...</td>\n",
       "      <td>0</td>\n",
       "    </tr>\n",
       "  </tbody>\n",
       "</table>\n",
       "<p>96119 rows × 2 columns</p>\n",
       "</div>"
      ],
      "text/plain": [
       "                                                    text  label_text\n",
       "0      aller au contenu principal (button) ouvrir le ...           0\n",
       "1      1. accueilinitiatives associations : comment b...           0\n",
       "2      en savoir plus sur salon de l'étudiant paris 1...           0\n",
       "3      lien s'ouvre dans une nouvelle fenêtre) * en v...           0\n",
       "4      la page d'accueil du site publicnavigation sec...           0\n",
       "...                                                  ...         ...\n",
       "96114  o wide widths o sale footwear + clothing shop ...           0\n",
       "96115  shoes o sale footwear + clothing shop all clot...           0\n",
       "96116  + women's pro shop all women's pro o work boot...           0\n",
       "96117  workwear o sale clothing + women's shop all wo...           0\n",
       "96118  your look @timberland. share your look view th...           0\n",
       "\n",
       "[96119 rows x 2 columns]"
      ]
     },
     "execution_count": 37,
     "metadata": {},
     "output_type": "execute_result"
    }
   ],
   "source": [
    "train_df"
   ]
  },
  {
   "cell_type": "code",
   "execution_count": 55,
   "metadata": {
    "colab": {},
    "colab_type": "code",
    "id": "7B114QMlVwMm"
   },
   "outputs": [],
   "source": [
    "def get_feature(text):\n",
    "    input_ids = tf.constant(tokenizer.encode(text, add_special_tokens=True, max_length=511))[None, :]  # Batch size 1\n",
    "    distilbert_output = model.distilbert(input_ids)\n",
    "    hidden_state = distilbert_output[0]  # (bs, seq_len, dim)\n",
    "    pooled_output = hidden_state[:, 0]  # (bs, dim)\n",
    "    pooled_output = model.pre_classifier(pooled_output)  # (bs, dim)\n",
    "    \n",
    "    \n",
    "    return pooled_output[0,:]\n",
    "\n",
    "# A method to get predictions\n",
    "def getPrediction(in_sentences, type_output = \"features\"):\n",
    "  #A list to map the actual labels to the predictions\n",
    "    \n",
    "    \n",
    "    return [get_feature(text) for text in in_sentences ]\n"
   ]
  },
  {
   "cell_type": "code",
   "execution_count": 56,
   "metadata": {
    "colab": {
     "base_uri": "https://localhost:8080/",
     "height": 34
    },
    "colab_type": "code",
    "id": "EjRdLdqj-mpo",
    "outputId": "4f388f8d-e19b-42fa-fae2-74ce196c37ef"
   },
   "outputs": [
    {
     "data": {
      "text/plain": [
       "((96119, 2), (13555, 2), (28229, 1))"
      ]
     },
     "execution_count": 56,
     "metadata": {},
     "output_type": "execute_result"
    }
   ],
   "source": [
    "train_df.shape, val_df.shape, test_df.shape"
   ]
  },
  {
   "cell_type": "markdown",
   "metadata": {
    "colab_type": "text",
    "id": "m4Q7Ih3nmNXh"
   },
   "source": [
    "Now extracting the representations:"
   ]
  },
  {
   "cell_type": "code",
   "execution_count": 61,
   "metadata": {
    "colab": {
     "base_uri": "https://localhost:8080/",
     "height": 51
    },
    "colab_type": "code",
    "id": "2z3hwrsaWECM",
    "outputId": "77174d69-c6ce-496d-d0c0-de79357db931"
   },
   "outputs": [
    {
     "name": "stdout",
     "output_type": "stream",
     "text": [
      "Wall time: 6h 12min 34s\n"
     ]
    }
   ],
   "source": [
    "%%time\n",
    "tr_emb = np.apply_along_axis(getPrediction, 0,np.array(train_df[DATA_COLUMN]))\n"
   ]
  },
  {
   "cell_type": "code",
   "execution_count": 62,
   "metadata": {
    "colab": {
     "base_uri": "https://localhost:8080/",
     "height": 51
    },
    "colab_type": "code",
    "id": "bw6nDeP2WR_u",
    "outputId": "fa1031d3-00f3-443d-ff63-60234d0c9375"
   },
   "outputs": [
    {
     "name": "stdout",
     "output_type": "stream",
     "text": [
      "Wall time: 52min 46s\n"
     ]
    },
    {
     "data": {
      "text/plain": [
       "(13555, 768)"
      ]
     },
     "execution_count": 62,
     "metadata": {},
     "output_type": "execute_result"
    }
   ],
   "source": [
    "%%time\n",
    "val_emb = np.apply_along_axis(getPrediction, 0,np.array(val_df[DATA_COLUMN]))\n",
    "val_emb.shape"
   ]
  },
  {
   "cell_type": "code",
   "execution_count": 63,
   "metadata": {},
   "outputs": [
    {
     "name": "stdout",
     "output_type": "stream",
     "text": [
      "Wall time: 1h 49min 49s\n"
     ]
    },
    {
     "data": {
      "text/plain": [
       "(28229, 768)"
      ]
     },
     "execution_count": 63,
     "metadata": {},
     "output_type": "execute_result"
    }
   ],
   "source": [
    "%%time\n",
    "test_emb = np.apply_along_axis(getPrediction, 0,np.array(test_df[DATA_COLUMN]))\n",
    "test_emb.shape"
   ]
  },
  {
   "cell_type": "code",
   "execution_count": 64,
   "metadata": {
    "colab": {
     "base_uri": "https://localhost:8080/",
     "height": 34
    },
    "colab_type": "code",
    "id": "BQbVWlptWUGE",
    "outputId": "1eca64c4-d696-4f8b-e154-e2d4bb8f1b2b"
   },
   "outputs": [
    {
     "data": {
      "text/plain": [
       "((13555, 768), (96119, 768), (28229, 768))"
      ]
     },
     "execution_count": 64,
     "metadata": {},
     "output_type": "execute_result"
    }
   ],
   "source": [
    "val_emb.shape, tr_emb.shape,test_emb.shape"
   ]
  },
  {
   "cell_type": "raw",
   "metadata": {},
   "source": [
    "%%time\n",
    "train_raw_emb = np.apply_along_axis(getPrediction, 0,np.array(train_raw_df[DATA_COLUMN]))\n",
    "train_raw_emb.shape"
   ]
  },
  {
   "cell_type": "markdown",
   "metadata": {
    "colab_type": "text",
    "id": "AbIDKTbw8lOt"
   },
   "source": [
    "and make the dataset for train and val:"
   ]
  },
  {
   "cell_type": "code",
   "execution_count": 65,
   "metadata": {
    "colab": {
     "base_uri": "https://localhost:8080/",
     "height": 34
    },
    "colab_type": "code",
    "id": "4bBZiJG6hEdU",
    "outputId": "24cdb344-81c4-4ebc-8967-cc8c746fa40c"
   },
   "outputs": [
    {
     "data": {
      "text/plain": [
       "1912"
      ]
     },
     "execution_count": 65,
     "metadata": {},
     "output_type": "execute_result"
    }
   ],
   "source": [
    "aux = -1\n",
    "len_l = 0\n",
    "train_x = {}\n",
    "for l, emb in zip(index_l, tr_emb):\n",
    "  if l in train_x.keys():\n",
    "    train_x[l]  =np.vstack([train_x[l], emb])\n",
    "  else:\n",
    "    train_x[l] = [emb]\n",
    "\n",
    "len(train_x.keys())\n"
   ]
  },
  {
   "cell_type": "code",
   "execution_count": 66,
   "metadata": {
    "colab": {
     "base_uri": "https://localhost:8080/",
     "height": 204
    },
    "colab_type": "code",
    "id": "Oq2tpvrUkyoa",
    "outputId": "f04c8fd6-c478-4cb3-a6d9-a3853a2b841c"
   },
   "outputs": [
    {
     "data": {
      "text/html": [
       "<div>\n",
       "<style scoped>\n",
       "    .dataframe tbody tr th:only-of-type {\n",
       "        vertical-align: middle;\n",
       "    }\n",
       "\n",
       "    .dataframe tbody tr th {\n",
       "        vertical-align: top;\n",
       "    }\n",
       "\n",
       "    .dataframe thead th {\n",
       "        text-align: right;\n",
       "    }\n",
       "</style>\n",
       "<table border=\"1\" class=\"dataframe\">\n",
       "  <thead>\n",
       "    <tr style=\"text-align: right;\">\n",
       "      <th></th>\n",
       "      <th>emb</th>\n",
       "      <th>label</th>\n",
       "      <th>host</th>\n",
       "    </tr>\n",
       "  </thead>\n",
       "  <tbody>\n",
       "    <tr>\n",
       "      <th>0</th>\n",
       "      <td>[[0.0, 0.25041083, 0.26108736, 0.0, 0.01413476...</td>\n",
       "      <td>0</td>\n",
       "      <td>7587</td>\n",
       "    </tr>\n",
       "    <tr>\n",
       "      <th>1</th>\n",
       "      <td>[[0.0, 0.0, 0.48511174, 0.0, 0.0, 0.0, 0.38519...</td>\n",
       "      <td>2</td>\n",
       "      <td>16150</td>\n",
       "    </tr>\n",
       "    <tr>\n",
       "      <th>2</th>\n",
       "      <td>[[0.26033637, 0.0, 0.36593804, 0.0, 0.0, 0.0, ...</td>\n",
       "      <td>0</td>\n",
       "      <td>9841</td>\n",
       "    </tr>\n",
       "    <tr>\n",
       "      <th>3</th>\n",
       "      <td>[[0.0, 0.0, 0.0, 0.0, 0.0, 0.0, 0.2848332, 0.0...</td>\n",
       "      <td>0</td>\n",
       "      <td>6441</td>\n",
       "    </tr>\n",
       "    <tr>\n",
       "      <th>4</th>\n",
       "      <td>[[0.20344454, 0.08328308, 0.3281336, 0.0556767...</td>\n",
       "      <td>2</td>\n",
       "      <td>8533</td>\n",
       "    </tr>\n",
       "  </tbody>\n",
       "</table>\n",
       "</div>"
      ],
      "text/plain": [
       "                                                 emb  label   host\n",
       "0  [[0.0, 0.25041083, 0.26108736, 0.0, 0.01413476...      0   7587\n",
       "1  [[0.0, 0.0, 0.48511174, 0.0, 0.0, 0.0, 0.38519...      2  16150\n",
       "2  [[0.26033637, 0.0, 0.36593804, 0.0, 0.0, 0.0, ...      0   9841\n",
       "3  [[0.0, 0.0, 0.0, 0.0, 0.0, 0.0, 0.2848332, 0.0...      0   6441\n",
       "4  [[0.20344454, 0.08328308, 0.3281336, 0.0556767...      2   8533"
      ]
     },
     "execution_count": 66,
     "metadata": {},
     "output_type": "execute_result"
    }
   ],
   "source": [
    "train_l_final = []\n",
    "label_l_final = []\n",
    "train_host_final = []\n",
    "for k in train_x.keys():\n",
    "    train_l_final.append(train_x[k])\n",
    "    label_l_final.append(train.loc[k]['label'])\n",
    "    train_host_final.append(train.loc[k]['host'])\n",
    "\n",
    "\n",
    "df_train = pd.DataFrame({'emb': train_l_final, 'label': label_l_final,'host' : train_host_final })\n",
    "df_train.head()"
   ]
  },
  {
   "cell_type": "code",
   "execution_count": 67,
   "metadata": {},
   "outputs": [],
   "source": [
    "df_train.to_pickle(\"train_emb_final\")"
   ]
  },
  {
   "cell_type": "code",
   "execution_count": 88,
   "metadata": {
    "colab": {
     "base_uri": "https://localhost:8080/",
     "height": 204
    },
    "colab_type": "code",
    "id": "cnjcaZHqk6rf",
    "outputId": "b66be414-0f35-484f-a3e7-5b5b513d3e67"
   },
   "outputs": [
    {
     "data": {
      "text/html": [
       "<div>\n",
       "<style scoped>\n",
       "    .dataframe tbody tr th:only-of-type {\n",
       "        vertical-align: middle;\n",
       "    }\n",
       "\n",
       "    .dataframe tbody tr th {\n",
       "        vertical-align: top;\n",
       "    }\n",
       "\n",
       "    .dataframe thead th {\n",
       "        text-align: right;\n",
       "    }\n",
       "</style>\n",
       "<table border=\"1\" class=\"dataframe\">\n",
       "  <thead>\n",
       "    <tr style=\"text-align: right;\">\n",
       "      <th></th>\n",
       "      <th>emb</th>\n",
       "      <th>label</th>\n",
       "      <th>host</th>\n",
       "    </tr>\n",
       "  </thead>\n",
       "  <tbody>\n",
       "    <tr>\n",
       "      <th>0</th>\n",
       "      <td>[[0.0, 0.0, 0.20849456, 0.0, 0.0, 0.0, 0.18497...</td>\n",
       "      <td>5</td>\n",
       "      <td>13528</td>\n",
       "    </tr>\n",
       "    <tr>\n",
       "      <th>1</th>\n",
       "      <td>[[0.0, 0.28112385, 0.2828143, 0.0, 0.0, 0.1521...</td>\n",
       "      <td>2</td>\n",
       "      <td>3604</td>\n",
       "    </tr>\n",
       "    <tr>\n",
       "      <th>2</th>\n",
       "      <td>[[0.0, 0.0, 0.33721521, 0.0, 0.0, 0.0, 0.56106...</td>\n",
       "      <td>0</td>\n",
       "      <td>5169</td>\n",
       "    </tr>\n",
       "    <tr>\n",
       "      <th>3</th>\n",
       "      <td>[[0.0, 0.0, 0.0, 0.0, 0.0, 0.0, 0.0, 0.0108520...</td>\n",
       "      <td>0</td>\n",
       "      <td>16968</td>\n",
       "    </tr>\n",
       "    <tr>\n",
       "      <th>4</th>\n",
       "      <td>[[0.0, 0.29472286, 0.057843618, 0.0045933938, ...</td>\n",
       "      <td>2</td>\n",
       "      <td>21379</td>\n",
       "    </tr>\n",
       "  </tbody>\n",
       "</table>\n",
       "</div>"
      ],
      "text/plain": [
       "                                                 emb  label   host\n",
       "0  [[0.0, 0.0, 0.20849456, 0.0, 0.0, 0.0, 0.18497...      5  13528\n",
       "1  [[0.0, 0.28112385, 0.2828143, 0.0, 0.0, 0.1521...      2   3604\n",
       "2  [[0.0, 0.0, 0.33721521, 0.0, 0.0, 0.0, 0.56106...      0   5169\n",
       "3  [[0.0, 0.0, 0.0, 0.0, 0.0, 0.0, 0.0, 0.0108520...      0  16968\n",
       "4  [[0.0, 0.29472286, 0.057843618, 0.0045933938, ...      2  21379"
      ]
     },
     "execution_count": 88,
     "metadata": {},
     "output_type": "execute_result"
    }
   ],
   "source": [
    "aux = -1\n",
    "len_l = 0\n",
    "val_x = {}\n",
    "\n",
    "for l, emb in zip(val_index_l, val_emb):\n",
    "    if l in val_x.keys():\n",
    "        val_x[l]  =np.vstack([val_x[l], emb])\n",
    "    else:\n",
    "        val_x[l] = [emb]\n",
    "\n",
    "\n",
    "val_l_final = []\n",
    "vlabel_l_final = []\n",
    "val_host_final = []\n",
    "for k in val_x.keys():\n",
    "    val_l_final.append(val_x[k])\n",
    "    vlabel_l_final.append(val.loc[k]['label'])\n",
    "    val_host_final.append(val.loc[k]['host'])\n",
    "\n",
    "df_val = pd.DataFrame({'emb': val_l_final, 'label': vlabel_l_final,'host':val_host_final })\n",
    "df_val.head()"
   ]
  },
  {
   "cell_type": "code",
   "execution_count": 89,
   "metadata": {},
   "outputs": [],
   "source": [
    "df_val.to_pickle('val_emb_final')"
   ]
  },
  {
   "cell_type": "code",
   "execution_count": 70,
   "metadata": {
    "colab": {},
    "colab_type": "code",
    "id": "VMDe3KvcIM5q"
   },
   "outputs": [
    {
     "data": {
      "text/html": [
       "<div>\n",
       "<style scoped>\n",
       "    .dataframe tbody tr th:only-of-type {\n",
       "        vertical-align: middle;\n",
       "    }\n",
       "\n",
       "    .dataframe tbody tr th {\n",
       "        vertical-align: top;\n",
       "    }\n",
       "\n",
       "    .dataframe thead th {\n",
       "        text-align: right;\n",
       "    }\n",
       "</style>\n",
       "<table border=\"1\" class=\"dataframe\">\n",
       "  <thead>\n",
       "    <tr style=\"text-align: right;\">\n",
       "      <th></th>\n",
       "      <th>emb</th>\n",
       "      <th>host</th>\n",
       "    </tr>\n",
       "  </thead>\n",
       "  <tbody>\n",
       "    <tr>\n",
       "      <th>0</th>\n",
       "      <td>[[0.0, 0.0, 0.23700431, 0.0, 0.0, 0.0, 0.24596...</td>\n",
       "      <td>27997</td>\n",
       "    </tr>\n",
       "    <tr>\n",
       "      <th>1</th>\n",
       "      <td>[[0.23384675, 0.0, 0.5803098, 0.0, 0.0, 0.0, 0...</td>\n",
       "      <td>9316</td>\n",
       "    </tr>\n",
       "    <tr>\n",
       "      <th>2</th>\n",
       "      <td>[[0.0, 0.12591366, 0.19137713, 0.21386047, 0.0...</td>\n",
       "      <td>27045</td>\n",
       "    </tr>\n",
       "    <tr>\n",
       "      <th>3</th>\n",
       "      <td>[[0.0, 0.2413576, 0.3700843, 0.31157365, 0.131...</td>\n",
       "      <td>19805</td>\n",
       "    </tr>\n",
       "    <tr>\n",
       "      <th>4</th>\n",
       "      <td>[[0.0, 0.0, 0.0, 0.0, 0.16975042, 0.0, 0.0, 0....</td>\n",
       "      <td>26580</td>\n",
       "    </tr>\n",
       "  </tbody>\n",
       "</table>\n",
       "</div>"
      ],
      "text/plain": [
       "                                                 emb   host\n",
       "0  [[0.0, 0.0, 0.23700431, 0.0, 0.0, 0.0, 0.24596...  27997\n",
       "1  [[0.23384675, 0.0, 0.5803098, 0.0, 0.0, 0.0, 0...   9316\n",
       "2  [[0.0, 0.12591366, 0.19137713, 0.21386047, 0.0...  27045\n",
       "3  [[0.0, 0.2413576, 0.3700843, 0.31157365, 0.131...  19805\n",
       "4  [[0.0, 0.0, 0.0, 0.0, 0.16975042, 0.0, 0.0, 0....  26580"
      ]
     },
     "execution_count": 70,
     "metadata": {},
     "output_type": "execute_result"
    }
   ],
   "source": [
    "aux = -1\n",
    "len_l = 0\n",
    "test_x = {}\n",
    "\n",
    "for l, emb in zip(test_index_l, test_emb):\n",
    "    if l in test_x.keys():\n",
    "        test_x[l]  =np.vstack([test_x[l], emb])\n",
    "    else:\n",
    "        test_x[l] = [emb]\n",
    "\n",
    "\n",
    "test_l_final = []\n",
    "test_host_final = []\n",
    "\n",
    "for k in test_x.keys():\n",
    "    test_l_final.append(test_x[k])\n",
    "    test_host_final.append(test.loc[k]['host'])\n",
    "    \n",
    "\n",
    "df_test = pd.DataFrame({'emb': test_l_final,'host' : test_host_final })\n",
    "df_test.head()"
   ]
  },
  {
   "cell_type": "code",
   "execution_count": 71,
   "metadata": {},
   "outputs": [],
   "source": [
    "df_test.to_pickle('test_emb_final')"
   ]
  },
  {
   "cell_type": "code",
   "execution_count": null,
   "metadata": {},
   "outputs": [],
   "source": [
    "aux = -1\n",
    "len_l = 0\n",
    "train_raw_x = {}\n",
    "for l, emb in zip(index_raw_l, train_raw_emb):\n",
    "  if l in train_raw_x.keys():\n",
    "    train_x[l]  =np.vstack([train_raw_x[l], emb])\n",
    "  else:\n",
    "    train_x[l] = [emb]\n",
    "\n",
    "len(train_raw_x.keys())\n",
    "\n",
    "train_raw_l_final = []\n",
    "label_raw_l_final = []\n",
    "train_raw_host_final = []\n",
    "\n",
    "for k in train_raw_x.keys():\n",
    "    train_raw_l_final.append(train_raw_x[k])\n",
    "    label_raw_l_final.append(train_raw.loc[k]['label'])\n",
    "    train_raw_host_final.append(train_raw.loc[k]['host'])\n",
    "\n",
    "\n",
    "df_train_raw = pd.DataFrame({'emb': train_raw_l_final, 'label': label_raw_l_final,'host' : train_raw_host_final })\n",
    "df_train_raw.head()"
   ]
  },
  {
   "cell_type": "code",
   "execution_count": null,
   "metadata": {},
   "outputs": [],
   "source": [
    "df_train_raw.to_pickle('train_raw_emb_final')"
   ]
  },
  {
   "cell_type": "markdown",
   "metadata": {
    "colab_type": "text",
    "id": "rzIznwgQiD6x"
   },
   "source": [
    "# LSTM: Creating the Final Model"
   ]
  },
  {
   "cell_type": "code",
   "execution_count": 44,
   "metadata": {
    "colab": {
     "base_uri": "https://localhost:8080/",
     "height": 323
    },
    "colab_type": "code",
    "id": "260A5YvElD2D",
    "outputId": "f57ea208-93e2-460f-c40f-eff2cddf84a9"
   },
   "outputs": [
    {
     "name": "stdout",
     "output_type": "stream",
     "text": [
      "Model: \"model_12\"\n",
      "_________________________________________________________________\n",
      "Layer (type)                 Output Shape              Param #   \n",
      "=================================================================\n",
      "text (InputLayer)            [(None, None, 768)]       0         \n",
      "_________________________________________________________________\n",
      "masking_13 (Masking)         (None, None, 768)         0         \n",
      "_________________________________________________________________\n",
      "lstm_13 (LSTM)               (None, 1500)              13614000  \n",
      "_________________________________________________________________\n",
      "pre_features (Dense)         (None, 5000)              7505000   \n",
      "_________________________________________________________________\n",
      "dex_features (Dense)         (None, 100)               500100    \n",
      "_________________________________________________________________\n",
      "dropout_19 (Dropout)         (None, 100)               0         \n",
      "_________________________________________________________________\n",
      "dense_12 (Dense)             (None, 8)                 808       \n",
      "=================================================================\n",
      "Total params: 21,619,908\n",
      "Trainable params: 21,619,908\n",
      "Non-trainable params: 0\n",
      "_________________________________________________________________\n"
     ]
    }
   ],
   "source": [
    "from tensorflow.keras import layers\n",
    "from tensorflow.keras.models import Model\n",
    "import numpy as np\n",
    "import pandas as pd\n",
    "\n",
    "label_list = ['business/finance','education/research','entertainment','health/medical','news/press','politics/government/law','sports','tech/science']\n",
    "\n",
    "text_input = layers.Input(shape=(None,768,), dtype='float32', name='text')\n",
    "\n",
    "l_mask = layers.Masking(mask_value=-99.)(text_input)\n",
    "# Which we encoded in a single vector via a LSTM\n",
    "encoded_text = layers.LSTM(1500,)(l_mask)\n",
    "drop_lstm = layers.Dropout(0.5)(encoded_text)\n",
    "out_dense1 = layers.Dense(2000, activation='relu',name = 'pre_features')(drop_lstm)\n",
    "drop1 = layers.Dropout(0.5)(out_dense1)\n",
    "out_dense2 = layers.Dense(100, activation='relu',name = 'dex_features')(out_dense1)\n",
    "drop2 = layers.Dropout(0.5)(out_dense2)\n",
    "# And we add a softmax classifier on top\n",
    "out = layers.Dense(len(label_list), activation='softmax')(drop2)\n",
    "# At model instantiation, we specify the input and the output:\n",
    "model = Model(text_input, out)\n",
    "model.compile(optimizer='adam',\n",
    "              loss='sparse_categorical_crossentropy',\n",
    "              metrics=['acc'])\n",
    "model.summary()"
   ]
  },
  {
   "cell_type": "code",
   "execution_count": 45,
   "metadata": {},
   "outputs": [
    {
     "name": "stdout",
     "output_type": "stream",
     "text": [
      "WARNING:tensorflow:Layer masking_13 is casting an input tensor from dtype float64 to the layer's dtype of float32, which is new behavior in TensorFlow 2.  The layer has dtype float32 because it's dtype defaults to floatx.\n",
      "\n",
      "If you intended to run this layer in float32, you can safely ignore this warning. If in doubt, this warning is likely only an issue if you are porting a TensorFlow 1.X model to TensorFlow 2.\n",
      "\n",
      "To change all layers to have dtype float64 by default, call `tf.keras.backend.set_floatx('float64')`. To change just this layer, pass dtype='float64' to the layer constructor. If you are the author of this layer, you can disable autocasting by passing autocast=False to the base Layer constructor.\n",
      "\n"
     ]
    },
    {
     "data": {
      "text/plain": [
       "<tf.Tensor: shape=(1, 8), dtype=float32, numpy=\n",
       "array([[0.125, 0.125, 0.125, 0.125, 0.125, 0.125, 0.125, 0.125]],\n",
       "      dtype=float32)>"
      ]
     },
     "execution_count": 45,
     "metadata": {},
     "output_type": "execute_result"
    }
   ],
   "source": [
    "model(np.zeros((1,3,768)))"
   ]
  },
  {
   "cell_type": "code",
   "execution_count": 46,
   "metadata": {
    "colab": {
     "base_uri": "https://localhost:8080/",
     "height": 34
    },
    "colab_type": "code",
    "id": "_SR7cUPRlvNg",
    "outputId": "da689c92-5825-4297-9448-051def60e82b"
   },
   "outputs": [
    {
     "data": {
      "text/plain": [
       "((1912, 3), (213, 3), (560, 2))"
      ]
     },
     "execution_count": 46,
     "metadata": {},
     "output_type": "execute_result"
    }
   ],
   "source": [
    "\n",
    "df_train = pd.read_pickle('train_emb_final')\n",
    "df_val  = pd.read_pickle('val_emb_final')\n",
    "df_test = pd.read_pickle('test_emb_final')\n",
    "\n",
    "df_train.shape, df_val.shape, df_test.shape"
   ]
  },
  {
   "cell_type": "code",
   "execution_count": null,
   "metadata": {},
   "outputs": [],
   "source": []
  },
  {
   "cell_type": "code",
   "execution_count": 47,
   "metadata": {},
   "outputs": [
    {
     "data": {
      "text/html": [
       "<div>\n",
       "<style scoped>\n",
       "    .dataframe tbody tr th:only-of-type {\n",
       "        vertical-align: middle;\n",
       "    }\n",
       "\n",
       "    .dataframe tbody tr th {\n",
       "        vertical-align: top;\n",
       "    }\n",
       "\n",
       "    .dataframe thead th {\n",
       "        text-align: right;\n",
       "    }\n",
       "</style>\n",
       "<table border=\"1\" class=\"dataframe\">\n",
       "  <thead>\n",
       "    <tr style=\"text-align: right;\">\n",
       "      <th></th>\n",
       "      <th>emb</th>\n",
       "      <th>label</th>\n",
       "      <th>host</th>\n",
       "    </tr>\n",
       "  </thead>\n",
       "  <tbody>\n",
       "    <tr>\n",
       "      <th>0</th>\n",
       "      <td>[[0.0, 0.0, 0.20849456, 0.0, 0.0, 0.0, 0.18497...</td>\n",
       "      <td>5</td>\n",
       "      <td>13528</td>\n",
       "    </tr>\n",
       "    <tr>\n",
       "      <th>1</th>\n",
       "      <td>[[0.0, 0.28112385, 0.2828143, 0.0, 0.0, 0.1521...</td>\n",
       "      <td>2</td>\n",
       "      <td>3604</td>\n",
       "    </tr>\n",
       "    <tr>\n",
       "      <th>2</th>\n",
       "      <td>[[0.0, 0.0, 0.33721521, 0.0, 0.0, 0.0, 0.56106...</td>\n",
       "      <td>0</td>\n",
       "      <td>5169</td>\n",
       "    </tr>\n",
       "    <tr>\n",
       "      <th>3</th>\n",
       "      <td>[[0.0, 0.0, 0.0, 0.0, 0.0, 0.0, 0.0, 0.0108520...</td>\n",
       "      <td>0</td>\n",
       "      <td>16968</td>\n",
       "    </tr>\n",
       "    <tr>\n",
       "      <th>4</th>\n",
       "      <td>[[0.0, 0.29472286, 0.057843618, 0.0045933938, ...</td>\n",
       "      <td>2</td>\n",
       "      <td>21379</td>\n",
       "    </tr>\n",
       "    <tr>\n",
       "      <th>...</th>\n",
       "      <td>...</td>\n",
       "      <td>...</td>\n",
       "      <td>...</td>\n",
       "    </tr>\n",
       "    <tr>\n",
       "      <th>208</th>\n",
       "      <td>[[0.0, 0.28122097, 0.13629724, 0.0, 0.45092356...</td>\n",
       "      <td>2</td>\n",
       "      <td>23548</td>\n",
       "    </tr>\n",
       "    <tr>\n",
       "      <th>209</th>\n",
       "      <td>[[0.0, 0.35453957, 0.32633296, 0.16686332, 0.2...</td>\n",
       "      <td>5</td>\n",
       "      <td>4866</td>\n",
       "    </tr>\n",
       "    <tr>\n",
       "      <th>210</th>\n",
       "      <td>[[0.0, 0.0, 0.014657969, 0.0, 0.0, 0.0, 0.0, 0...</td>\n",
       "      <td>3</td>\n",
       "      <td>11223</td>\n",
       "    </tr>\n",
       "    <tr>\n",
       "      <th>211</th>\n",
       "      <td>[[0.0, 0.40367895, 0.050384857, 0.0, 0.4689541...</td>\n",
       "      <td>7</td>\n",
       "      <td>17199</td>\n",
       "    </tr>\n",
       "    <tr>\n",
       "      <th>212</th>\n",
       "      <td>[[0.0, 0.0, 0.0, 0.0, 0.45541915, 0.0, 0.0, 0....</td>\n",
       "      <td>2</td>\n",
       "      <td>4257</td>\n",
       "    </tr>\n",
       "  </tbody>\n",
       "</table>\n",
       "<p>213 rows × 3 columns</p>\n",
       "</div>"
      ],
      "text/plain": [
       "                                                   emb  label   host\n",
       "0    [[0.0, 0.0, 0.20849456, 0.0, 0.0, 0.0, 0.18497...      5  13528\n",
       "1    [[0.0, 0.28112385, 0.2828143, 0.0, 0.0, 0.1521...      2   3604\n",
       "2    [[0.0, 0.0, 0.33721521, 0.0, 0.0, 0.0, 0.56106...      0   5169\n",
       "3    [[0.0, 0.0, 0.0, 0.0, 0.0, 0.0, 0.0, 0.0108520...      0  16968\n",
       "4    [[0.0, 0.29472286, 0.057843618, 0.0045933938, ...      2  21379\n",
       "..                                                 ...    ...    ...\n",
       "208  [[0.0, 0.28122097, 0.13629724, 0.0, 0.45092356...      2  23548\n",
       "209  [[0.0, 0.35453957, 0.32633296, 0.16686332, 0.2...      5   4866\n",
       "210  [[0.0, 0.0, 0.014657969, 0.0, 0.0, 0.0, 0.0, 0...      3  11223\n",
       "211  [[0.0, 0.40367895, 0.050384857, 0.0, 0.4689541...      7  17199\n",
       "212  [[0.0, 0.0, 0.0, 0.0, 0.45541915, 0.0, 0.0, 0....      2   4257\n",
       "\n",
       "[213 rows x 3 columns]"
      ]
     },
     "execution_count": 47,
     "metadata": {},
     "output_type": "execute_result"
    }
   ],
   "source": [
    "df_val"
   ]
  },
  {
   "cell_type": "markdown",
   "metadata": {
    "colab_type": "text",
    "id": "3z6awGncq9wB"
   },
   "source": [
    "The generator functions:"
   ]
  },
  {
   "cell_type": "code",
   "execution_count": 48,
   "metadata": {
    "colab": {},
    "colab_type": "code",
    "id": "5vAf9GmGlSnm"
   },
   "outputs": [],
   "source": [
    "num_sequences = len(df_train['emb'].to_list())\n",
    "batch_size = 4\n",
    "batches_per_epoch =  478\n",
    "#assert batch_size * batches_per_epoch == num_sequences\n",
    "num_features= 768\n",
    "def train_generator(df):\n",
    "    x_list= df['emb'].to_list()\n",
    "    y_list =  df.label.to_list()\n",
    "    # Generate batches\n",
    "    while True:\n",
    "        for b in range(batches_per_epoch):\n",
    "            longest_index = (b + 1) * batch_size - 1\n",
    "            timesteps = len(max(df['emb'].to_list()[:(b + 1) * batch_size][-batch_size:], key=len))\n",
    "            x_train = np.full((batch_size, timesteps, num_features), -99.)\n",
    "            y_train = np.zeros((batch_size,  1))\n",
    "            for i in range(batch_size):\n",
    "                li = b * batch_size + i\n",
    "                x_train[i, 0:len(x_list[li]), :] = x_list[li]\n",
    "                y_train[i] = y_list[li]\n",
    "            yield x_train, y_train"
   ]
  },
  {
   "cell_type": "code",
   "execution_count": 49,
   "metadata": {
    "colab": {},
    "colab_type": "code",
    "id": "ezFSiXl_meEo"
   },
   "outputs": [],
   "source": [
    "num_sequences_val = len(df_val['emb'].to_list())\n",
    "batch_size_val = 3\n",
    "batches_per_epoch_val = 71\n",
    "assert batch_size_val * batches_per_epoch_val == num_sequences_val\n",
    "num_features= 768\n",
    "def val_generator(df):\n",
    "    x_list= df['emb'].to_list()\n",
    "    y_list =  df.label.to_list()\n",
    "    # Generate batches\n",
    "    while True:\n",
    "        for b in range(batches_per_epoch_val):\n",
    "            longest_index = (b + 1) * batch_size_val - 1\n",
    "            timesteps = len(max(df['emb'].to_list()[:(b + 1) * batch_size_val][-31:], key=len))\n",
    "            # print(len(df_train['emb'].to_list()[:b+batch_size][-7:]))\n",
    "            x_train = np.full((batch_size_val, timesteps, num_features), -99.)\n",
    "            y_train = np.zeros((batch_size_val,  1))\n",
    "            for i in range(batch_size_val):\n",
    "                li = b * batch_size_val + i\n",
    "                # print(\"li\", li)\n",
    "                # print(x_train[i, 0:len(x_list[li]), :].shape, len(x_list[li]))\n",
    "                x_train[i, 0:len(x_list[li]), :] = x_list[li]\n",
    "                y_train[i] = y_list[li]\n",
    "            yield x_train, y_train"
   ]
  },
  {
   "cell_type": "markdown",
   "metadata": {
    "colab_type": "text",
    "id": "jVw-FcrrjEMW"
   },
   "source": [
    "# LSTM Final Model: Training"
   ]
  },
  {
   "cell_type": "code",
   "execution_count": 50,
   "metadata": {
    "colab": {},
    "colab_type": "code",
    "id": "FsT12SSbmzAl"
   },
   "outputs": [],
   "source": [
    "from keras.callbacks import ReduceLROnPlateau\n",
    "call_reduce = ReduceLROnPlateau(monitor='val_acc', factor=0.95, patience=3, verbose=2,\n",
    "                                mode='auto', min_delta=0.01, cooldown=0, min_lr=0)"
   ]
  },
  {
   "cell_type": "code",
   "execution_count": null,
   "metadata": {
    "colab": {
     "base_uri": "https://localhost:8080/",
     "height": 476
    },
    "colab_type": "code",
    "id": "bDysNyfIm7Em",
    "outputId": "8b4e9e52-ff19-44a7-b2dc-e7a2bafd681f"
   },
   "outputs": [
    {
     "name": "stdout",
     "output_type": "stream",
     "text": [
      "WARNING:tensorflow:sample_weight modes were coerced from\n",
      "  ...\n",
      "    to  \n",
      "  ['...']\n",
      "WARNING:tensorflow:sample_weight modes were coerced from\n",
      "  ...\n",
      "    to  \n",
      "  ['...']\n",
      "Train for 478 steps, validate for 71 steps\n",
      "Epoch 1/100\n",
      "478/478 [==============================] - 41s 85ms/step - loss: 1.7548 - acc: 0.3436 - val_loss: 1.4629 - val_acc: 0.4695\n",
      "Epoch 2/100\n",
      "478/478 [==============================] - 37s 77ms/step - loss: 1.5452 - acc: 0.4404 - val_loss: 1.3003 - val_acc: 0.5446\n",
      "Epoch 3/100\n",
      "478/478 [==============================] - 37s 76ms/step - loss: 1.4140 - acc: 0.4911 - val_loss: 1.2838 - val_acc: 0.5681\n",
      "Epoch 4/100\n",
      " 11/478 [..............................] - ETA: 24s - loss: 1.4067 - acc: 0.3864"
     ]
    }
   ],
   "source": [
    "\n",
    "\n",
    "model.fit_generator(train_generator(df_train), steps_per_epoch=batches_per_epoch, epochs=100,\n",
    "                    validation_data=val_generator(df_val), validation_steps=batches_per_epoch_val, callbacks =[call_reduce],workers=1, use_multiprocessing=False )"
   ]
  },
  {
   "cell_type": "markdown",
   "metadata": {
    "colab_type": "text",
    "id": "6h_RWqTXjMZX"
   },
   "source": [
    "# LSTM Final Model: Evaluation\n",
    "\n"
   ]
  },
  {
   "cell_type": "code",
   "execution_count": 85,
   "metadata": {
    "colab": {
     "base_uri": "https://localhost:8080/",
     "height": 34
    },
    "colab_type": "code",
    "id": "UfXOHliiNzDT",
    "outputId": "b88421b2-936a-45cc-c472-23d0154a16fa"
   },
   "outputs": [
    {
     "data": {
      "text/plain": [
       "[0.41612950315069047, 0.8731778425655977]"
      ]
     },
     "execution_count": 85,
     "metadata": {
      "tags": []
     },
     "output_type": "execute_result"
    }
   ],
   "source": [
    "num_sequences_val = len(df_test['emb'].to_list())\n",
    "batch_size_val = 4\n",
    "batches_per_epoch_val = 343\n",
    "assert batch_size_val * batches_per_epoch_val == num_sequences_val\n",
    "num_features= 768\n",
    "model.evaluate_generator(val_generator(df_test), steps= batches_per_epoch_val)"
   ]
  }
 ],
 "metadata": {
  "accelerator": "GPU",
  "colab": {
   "collapsed_sections": [],
   "include_colab_link": true,
   "machine_shape": "hm",
   "name": "final_bert_long_docs.ipynb",
   "provenance": []
  },
  "kernelspec": {
   "display_name": "nlp",
   "language": "python",
   "name": "nlp"
  },
  "language_info": {
   "codemirror_mode": {
    "name": "ipython",
    "version": 3
   },
   "file_extension": ".py",
   "mimetype": "text/x-python",
   "name": "python",
   "nbconvert_exporter": "python",
   "pygments_lexer": "ipython3",
   "version": "3.7.6"
  },
  "latex_envs": {
   "LaTeX_envs_menu_present": true,
   "autoclose": false,
   "autocomplete": true,
   "bibliofile": "biblio.bib",
   "cite_by": "apalike",
   "current_citInitial": 1,
   "eqLabelWithNumbers": true,
   "eqNumInitial": 1,
   "hotkeys": {
    "equation": "Ctrl-E",
    "itemize": "Ctrl-I"
   },
   "labels_anchors": false,
   "latex_user_defs": false,
   "report_style_numbering": false,
   "user_envs_cfg": false
  }
 },
 "nbformat": 4,
 "nbformat_minor": 1
}
