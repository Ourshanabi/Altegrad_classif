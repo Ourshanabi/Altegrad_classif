{
 "cells": [
  {
   "cell_type": "code",
   "execution_count": 27,
   "metadata": {},
   "outputs": [],
   "source": [
    "import os\n",
    "import csv\n",
    "from sklearn.feature_extraction.text import TfidfVectorizer\n",
    "from sklearn.linear_model import LogisticRegression\n",
    "from sklearn.model_selection import train_test_split\n",
    "import codecs\n",
    "from os import path\n",
    "\n",
    "import ktrain\n",
    "from ktrain import text\n",
    "import pickle\n",
    "import pandas as pd\n",
    "import string"
   ]
  },
  {
   "cell_type": "markdown",
   "metadata": {},
   "source": [
    "# Preprocessing\n",
    "\n",
    "Preprocessing data in a dataframe file with host,text,text_label,num_label"
   ]
  },
  {
   "cell_type": "code",
   "execution_count": 19,
   "metadata": {},
   "outputs": [],
   "source": [
    "Train_data = pd.DataFrame()\n",
    "# Read training data\n",
    "with open(\"train.csv\", 'r') as f:\n",
    "    train_data = f.read().splitlines()\n",
    "\n",
    "train_hosts = list()\n",
    "y_train = list()\n",
    "for row in train_data:\n",
    "    host, label = row.split(\",\")\n",
    "    train_hosts.append(host)\n",
    "    y_train.append(label.lower())\n",
    "\n",
    "\n",
    "\n",
    "# Load the textual content of a set of webpages for each host into the dictionary \"text\". \n",
    "# The encoding parameter is required since the majority of our text is french.\n",
    "texts = dict()\n",
    "filenames = os.listdir('text/text')\n",
    "for filename in filenames:\n",
    "    with codecs.open(path.join('text/text/', filename),'r', encoding=\"utf8\", errors = 'ignore') as f: \n",
    "        texts[filename] = f.read().replace(\"\\n\", \"\").lower()\n",
    "        #print(f.read().replace(\"\\n\", \"\").lower())\n",
    "    \n",
    "\n",
    "train_data = list()\n",
    "for host in train_hosts:\n",
    "    if host in texts:\n",
    "        train_data.append(texts[host])\n",
    "    else:\n",
    "        train_data.append('')\n",
    "\n",
    "Model_Name = 'distilbert-base-multilingual-cased'\n",
    "classes = ['business/finance','education/research','entertainment','health/medical','news/press','politics/government/law','sports','tech/science']\n",
    "\n",
    "classes_to_label = {'business/finance' : 0,'education/research':1,'entertainment':2,'health/medical':3,'news/press':4,\n",
    "'politics/government/law':5,'sports':6,'tech/science' : 7}\n",
    "y_train_num = [classes_to_label[i] for i in y_train]"
   ]
  },
  {
   "cell_type": "code",
   "execution_count": 20,
   "metadata": {},
   "outputs": [],
   "source": [
    "Train_data['host'] = train_hosts\n",
    "Train_data['text'] = train_data\n",
    "Train_data['label_text'] = y_train\n",
    "Train_data['label_num'] = y_train_num\n"
   ]
  },
  {
   "cell_type": "code",
   "execution_count": 21,
   "metadata": {},
   "outputs": [
    {
     "data": {
      "text/plain": [
       "'   #polepharma » flux polepharma » flux des commentaires alternate   alternate   polepharma   polepharma \\ufeff recherche_________ submit   (button) toggle navigation   polepharma     * polepharma          + qui sommes-nous ?          + organigramme          + les chiffres clés          + un réseau     * territoires          + région centre-val de loire          + région normandie          + conseil départemental d’eure&loir          + chartres metropole          + metropole de rouen          + agglo du pays de dreux          + agglo evreux portes de normandie          + agglo seine&eure          + agglo de tours plus     * performance industrielle          + excellence opérationnelle          + maintenance          + packaging          + supply chain          + usine du futur     * talents     * relations publiques     * innovation          + biomédicaments          + fédérer          + collaborer          + promouvoir   adhérer à polepharma   espace adhérent   rechercher un adhérent   je découvre les métiers de la filière pharmaceutique   polepharma   médiathèque   espace presse   polepharma polepharma   \\ufeff recherche_________ submit   polepharma polepharma     * polepharma          + qui sommes-nous ?          + organigramme          + les chiffres clés          + un réseau     * territoires          + région centre-val de loire          + région normandie          + conseil départemental d’eure&loir          + chartres metropole          + metropole de rouen          + agglo du pays de dreux          + agglo evreux portes de normandie          + agglo seine&eure          + agglo de tours plus     * performance industrielle          + excellence opérationnelle          + maintenance          + packaging          + supply chain          + usine du futur     * talents     * relations publiques     * innovation          + biomédicaments          + fédérer          + collaborer          + promouvoir     * lancement d’un ami national pour l’émergence de projets       collaboratifs d’innovationlancement d’un ami national pour l’émergence de projets collaboratifsd’innovation       afin de répondre à la priorité « technologies de ruptures       en bioproduction (trbp) » identifiée dans le contrat de filière du       csf « industries et technologies de...       > lire la suite     * polepharma, partenaire du colloque international adebiotechpolepharma, partenaire du colloque international adebiotech       polepharma est partenaire du colloque international adebiotech «       advanced analytical technologies for proteins »  (aatp),  2-3       octobre 2019 à biocitech (romainville-grand paris) qui couvrira       les...       > lire la suite     * agro-bio lance son nouveau site internet !agro-bio lance son nouveau site internet !       agro-bio lance son nouveau site internet ! les nouveautés       principales de cette version 2019 sont : la mise en cohérence avec       notre nouvelle offre de prestations...       > lire la suite     * soirées 18/21 polepharma réseau : toutes les datessoirées 18/21 polepharma réseau : toutes les dates          le réseau s’enrichit   participer aux soirées 18/21 réseau       polepharma c’est : rencontrer les acteurs du développement et de la       production pharmaceutique développer et entretenir votre réseau...       > lire la suite     * save the date : congrès polepharma bioproduction – 12 & 13 décembre       2019save the date : congrès polepharma bioproduction – 12 & 13 décembre 2019       congrès polepharma bioproduction – 4ème édition les 12 &       13 décembre 2019 au palais des congrès de tours sous la présidence       de thierry ziegler, head of manufacturing de cellectis. dans un...       > lire la suite     * save the date : colloque polepharma industrie du futur – 28       novembre 2019save the date : colloque polepharma industrie du futur – 28 novembre 2019       colloque polepharma industrie du futur – 3ème édition le 28       novembre 2019 au kindarena de rouen sous la présidence de yann       gharfourzadeh, vice president sales & operation emea pharma du       groupe...       > lire la suite     * polepharma recrute !polepharma recrute !       portée par son dynamisme, l’équipe s’agrandit !  polepharma recrute       :   un chef de projet affaires pharmaceutiques           un chef de       projet innovations...       > lire la suite     * comprendre en 1mn50 les métiers de la production pharmaceutiquecomprendre en 1mn50 les métiers de la production pharmaceutique       lancer la vidéo vous recherchez un emploi ? avez-vous pensé aux       métiers de la production de l’industrie pharmaceutique ? la france       est l’un des premiers producteurs européens...       > lire la suite     * comprendre les biomédicaments en 2 minutes, c’est possible !comprendre les biomédicaments en 2 minutes, c’est possible !       les biomédicaments en vidéo cliquez ici...       > lire la suiteinscriptionaux événements   12 au 13 décembre 2019   > centre international de congrès de tours   colloque polepharma bioproduction - 4éme ed.   inscription   10 décembre 2019   > oril   workshop 2 digitalisation et culture qualité / 10 décembre 2019   inscription   03 décembre 2019   > sanofi   séminaire spécial inspections   inscription   28 novembre 2019   > kindarena   colloque polepharma industrie du futur - 3ème edition   inscription   19 au 20 novembre 2019   > centre international de congrès de tours   tips 2019   inscription   31 octobre 2019   > hotel de région normandie rouen   les assises polepharma de l\\'innovation en normandie 2nd edition   inscription   23 octobre 2019   > golf du bois d\\'o   soirée polepharma réseau - dreux (28)   inscription   17 octobre 2019   > uimm   workshop 1 digitalisation et culture qualité / 17 octobre 2019   inscription   10 octobre 2019   > evreux   rencontres polepharma de l\\'amélioration continue - 3e édition   inscription   25 septembre 2019   > le paganica   soirée polepharma réseau - evreux (27)   inscription   04 juillet 2019   > dreux - (28)   la fabrh polepharma #1   inscription   28 juin 2019   > golf parc robert hersant   polepharma business tour   inscription   26 juin 2019   > golf de caen la mer,   soirée polepharma réseau - caen (14)   inscription   23 mai 2019   > golf du bois d\\'o   soirée polepharma réseau - dreux (28)   inscription   16 mai 2019   > château royal de blois   assemblée générale polepharma 2019   inscription   14 mai 2019   > hôtel national des invalides   colloque souveraineté medicaments & api   inscription   14 mai 2019   >   tec\\'lab: realité virtuelle appliquée   inscription   09 au 10 avril 2019   > ufr sante rouen   les journées polepharma de microbiomique   inscription   28 mars 2019   > synchrotron soleil   soirée polepharma réseau - paris saclay (91)   inscription   07 mars 2019   > novotel rouen sud   mat\\'inno polepharma \"développer son business à l\\'international\"   inscription   05 mars au 23 avril 2019   > le hangar   9ème afterwork biomédicament   inscription   28 février 2019   > golf de léry-poses   soirée polepharma réseau - louviers (27)   inscription   07 février 2019   > cotton club   atelier propriété industrielle / 07 fev 2019   inscription   07 février 2019   > cotton club   atelier propriété industrielle - 7 février 2019   inscription   04 février 2019   > delpharm evreux   invitation : visite delpharm evreux   inscription   02 février 2019   > caen   phinder de la pharma : forum national des facultés de pharmacie   inscription   31 janvier 2019   > golf de chartres fontenay   soirée polepharma réseau - chartres (28)   inscription   15 janvier 2019   > novotel rouen sud   les mat\\'inno polepharma \"financement européen des projets r&d\"   inscription   20 décembre 2018   > centre international de congrès de tours   colloque polepharma bioproduction - 3éme ed.   inscription   12 décembre 2018   > le paganica   soirée polepharma réseau - evreux (27)   inscription   04 décembre 2018   > la filature   rencontres polepharma amélioration continue – 2e édition   inscription   29 novembre 2018   > hôtel dupanloup   8ème afterwork biomédicaments   inscription   22 novembre 2018   > cotton club   atelier polepharma propriété industrielle   inscription   15 novembre 2018   > cenexis hsc   soirée réseau 18/21 polepharma & nucleopolis - caen   inscription   08 novembre 2018   > centre de congrès d\\'orléans   colloque polepharma industrie du futur - 2e edition   inscriptioninscriptionaux événements   10 octobre 2019   > evreux   rencontres polepharma de l\\'amélioration continue - 3e édition   inscription   17 octobre 2019   > uimm   workshop 1 digitalisation et culture qualité / 17 octobre 2019   inscription   23 octobre 2019   > golf du bois d\\'o   soirée polepharma réseau - dreux (28)   inscription   31 octobre 2019   > hotel de région normandie rouen   les assises polepharma de l\\'innovation en normandie 2nd edition   inscription   19 au 20 novembre 2019   > centre international de congrès de tours   tips 2019   inscription   28 novembre 2019   > kindarena   colloque polepharma industrie du futur - 3ème edition   inscription   03 décembre 2019   > sanofi   séminaire spécial inspections   inscription   10 décembre 2019   > oril   workshop 2 digitalisation et culture qualité / 10 décembre 2019   inscription   12 au 13 décembre 2019   > centre international de congrès de tours   colloque polepharma bioproduction - 4éme ed.   inscription   événements precedents   adhérer à polepharma   espace adhérent   rechercher un adhérentun réseau performant,      un territoire cohérent   carte polepharma   job-box   archives newsletter   médiathèque   espace pressepolepharma en vidéo   iframe:   //www.youtube.com/embed/k_icgpnj9wu?&autohide=1&color=red&controls=1&di   sablekb=0&fs=1&iv_load_policy=1&modestbranding=0&rel=0&showinfo=0&theme   =dark&vq=medium   tweets de @polepharma   polepharma   11 rue du cardinal pie   28000 chartres   tél. : +33 (0)2 37 20 99 90   mail : contact@polepharma.compartenaires territoires   centre val de loire région normandie agglo pays dreux evreux métropole   rouen normandie communauté seine et eure tours metropole eure et loir   chartrespartenaires officiels 2019   pharma dec caisse d\\'epargne altran biotech quality group   copyright © 2019 polepharma - mentions légales - politique de   confidentialité   en poursuivant votre navigation sur le site, vous acceptez   l\\'utilisation de cookies à des fins de mesure d\\'audience.   fermer   x   (button) ×   iframe: https://player.vimeo.com/video/151642050?autoplay=1   #polepharma » flux polepharma » flux des commentaires 3ème colloque   polepharma rh : demandez le programme ! les jeudis de polepharma   alternate alternate   polepharma   polepharma \\ufeff recherche_________ submit   (button) toggle navigation   polepharma     * polepharma          + qui sommes-nous ?          + organigramme          + les chiffres clés          + un réseau     * territoires          + région centre-val de loire          + région normandie          + conseil départemental d’eure&loir          + chartres metropole          + metropole de rouen          + agglo du pays de dreux          + agglo evreux portes de normandie          + agglo seine&eure          + agglo de tours plus     * performance industrielle          + excellence opérationnelle          + maintenance          + packaging          + supply chain          + usine du futur     * talents     * relations publiques     * innovation          + biomédicaments          + fédérer          + collaborer          + promouvoir   adhérer à polepharma   espace adhérent   rechercher un adhérent   je découvre les métiers de la filière pharmaceutique   polepharma   médiathèque   espace presse   polepharma polepharma   \\ufeff recherche_________ submit   polepharma polepharma     * polepharma          + qui sommes-nous ?          + organigramme          + les chiffres clés          + un réseau     * territoires          + région centre-val de loire          + région normandie          + conseil départemental d’eure&loir          + chartres metropole          + metropole de rouen          + agglo du pays de dreux          + agglo evreux portes de normandie          + agglo seine&eure          + agglo de tours plus     * performance industrielle          + excellence opérationnelle          + maintenance          + packaging          + supply chain          + usine du futur     * talents     * relations publiques     * innovation          + biomédicaments          + fédérer          + collaborer          + promouvoira la rencontre des futurs pharmaciens industriels !   7 mars 2017   la 2api est la réunion annuelle de toutes les associations   industrielles en pharmacie. c’est un week-end de formation et   d’insertion professionnelle destiné aux étudiants souhaitant se   renseigner et s’orienter vers le monde de l’industrie pharmaceutique.   il concerne tous les étudiants de la 2^ème à la 6^ème  année des 24   facultés de pharmacie, soit 300 étudiants présents les 3 au 5 mars   2017.   l’anepi caen-rouen (association normande des etudiants en pharmacie   industrielle) a été élue pour organiser l’édition 2017, dont le thème a   été : «s’adapter au monde de demain, l’évolution de la pharmacie   industrielle»   polepharma a souhaité montrer la forte présence industrielle locale   ainsi que les nombreuses possibilités de recrutements sur son bassin   (centre- val de loire; normandie; ile-de-france)   une forte mobilisation de la part de la filière :     * participation d’une dizaine de professionnels pharmaciens lors du       dîner de gala,     * animation d’une conférence de présentation du territoire,     * conduite d’un atelier pour aider lors de recherches de stage et       d’emploi     * animation d’un stand polepharma au cœur des entreprises du bassin   une rencontre aussi intéressante pour les entreprises que pour les   étudiants ravis de rencontrer les professionnels et de pouvoir échanger   sur les spécificités d’orientation dans le secteur de l’industrie du   médicament.   voir la vidéo   job-box   archives newsletter   médiathèque   espace pressepolepharma en vidéo   iframe:   //www.youtube.com/embed/k_icgpnj9wu?&autohide=1&color=red&controls=1&di   sablekb=0&fs=1&iv_load_policy=1&modestbranding=0&rel=0&showinfo=0&theme   =dark&vq=medium   tweets de @polepharma   polepharma   11 rue du cardinal pie   28000 chartres   tél. : +33 (0)2 37 20 99 90   mail : contact@polepharma.compartenaires territoires   centre val de loire région normandie agglo pays dreux evreux métropole   rouen normandie communauté seine et eure tours metropole eure et loir   chartrespartenaires officiels 2019   pharma dec caisse d\\'epargne altran biotech quality group   copyright © 2019 polepharma - mentions légales - politique de   confidentialité   en poursuivant votre navigation sur le site, vous acceptez   l\\'utilisation de cookies à des fins de mesure d\\'audience.   fermer   x   (button) ×   iframe: https://player.vimeo.com/video/151642050?autoplay=1   #polepharma » flux polepharma » flux des commentaires alternate   alternate   polepharma   polepharma \\ufeff recherche_________ submit   (button) toggle navigation   polepharma     * polepharma          + qui sommes-nous ?          + organigramme          + les chiffres clés          + un réseau     * territoires          + région centre-val de loire          + région normandie          + conseil départemental d’eure&loir          + chartres metropole          + metropole de rouen          + agglo du pays de dreux          + agglo evreux portes de normandie          + agglo seine&eure          + agglo de tours plus     * performance industrielle          + excellence opérationnelle          + maintenance          + packaging          + supply chain          + usine du futur     * talents     * relations publiques     * innovation          + biomédicaments          + fédérer          + collaborer          + promouvoir   adhérer à polepharma   espace adhérent   rechercher un adhérent   je découvre les métiers de la filière pharmaceutique   polepharma   médiathèque   espace presse   polepharma polepharma   \\ufeff recherche_________ submit   polepharma polepharma     * polepharma          + qui sommes-nous ?          + organigramme          + les chiffres clés          + un réseau     * territoires          + région centre-val de loire          + région normandie          + conseil départemental d’eure&loir          + chartres metropole          + metropole de rouen          + agglo du pays de dreux          + agglo evreux portes de normandie          + agglo seine&eure          + agglo de tours plus     * performance industrielle          + excellence opérationnelle          + maintenance          + packaging          + supply chain          + usine du futur     * talents     * relations publiques     * innovation          + biomédicaments          + fédérer          + collaborer          + promouvoirfiche adhérent   page générée par le plugin polepharma. ne pas éditer   job-box   archives newsletter   médiathèque   espace pressepolepharma en vidéo   iframe:   //www.youtube.com/embed/k_icgpnj9wu?&autohide=1&color=red&controls=1&di   sablekb=0&fs=1&iv_load_policy=1&modestbranding=0&rel=0&showinfo=0&theme   =dark&vq=medium   tweets de @polepharma   polepharma   11 rue du cardinal pie   28000 chartres   tél. : +33 (0)2 37 20 99 90   mail : contact@polepharma.compartenaires territoires   centre val de loire région normandie agglo pays dreux evreux métropole   rouen normandie communauté seine et eure tours metropole eure et loir   chartrespartenaires officiels 2019   pharma dec caisse d\\'epargne altran biotech quality group   copyright © 2019 polepharma - mentions légales - politique de   confidentialité   en poursuivant votre navigation sur le site, vous acceptez   l\\'utilisation de cookies à des fins de mesure d\\'audience.   fermer   x   (button) ×   iframe: https://player.vimeo.com/video/151642050?autoplay=1   #polepharma » flux polepharma » flux des commentaires polepharma » flux   des articles écrits par gregory monaca   polepharma   polepharma \\ufeff recherche_________ submit   (button) toggle navigation   polepharma     * polepharma          + qui sommes-nous ?          + organigramme          + les chiffres clés          + un réseau     * territoires          + région centre-val de loire          + région normandie          + conseil départemental d’eure&loir          + chartres metropole          + metropole de rouen          + agglo du pays de dreux          + agglo evreux portes de normandie          + agglo seine&eure          + agglo de tours plus     * performance industrielle          + excellence opérationnelle          + maintenance          + packaging          + supply chain          + usine du futur     * talents     * relations publiques     * innovation          + biomédicaments          + fédérer          + collaborer          + promouvoir   adhérer à polepharma   espace adhérent   rechercher un adhérent   je découvre les métiers de la filière pharmaceutique   polepharma   médiathèque   espace presse   polepharma polepharma   \\ufeff recherche_________ submit   polepharma polepharma     * polepharma          + qui sommes-nous ?          + organigramme          + les chiffres clés          + un réseau     * territoires          + région centre-val de loire          + région normandie          + conseil départemental d’eure&loir          + chartres metropole          + metropole de rouen          + agglo du pays de dreux          + agglo evreux portes de normandie          + agglo seine&eure          + agglo de tours plus     * performance industrielle          + excellence opérationnelle          + maintenance          + packaging          + supply chain          + usine du futur     * talents     * relations publiques     * innovation          + biomédicaments          + fédérer          + collaborer          + promouvoirgregory monaca   rss feedgregory monaca\\'s latest posts   cynbiose respiratory, nouvelle société de services précliniques   spécialisée dans les maladies respiratoires et l’aérosolthérapie,   annonce le début des ses opérationscynbiose respiratory, nouvelle société de services précliniques spécialiséedans les maladies respiratoires et l’aérosolthérapie, annonce le début desses opérations   24 janvier 2018   cynbiose respiratory (tours, france) est une société de recherche   clinique hyperspécialisée créée sur la base des savoir-faire de ses   co-fondateurs : la société cynbiose (marcy l’étoile, france),   spécialisée dans les modèles précliniques innovants et le centre de   recherche scientifique pour les maladies respiratoires – inserm umr1100   (tours, france) qui contribue à la découverte et au […]   lire la suite   polepharma, le cluster français de production pharmaceutiquepolepharma, le cluster français de production pharmaceutique   16 mai 2014   la filière santé et le territoire ont réfléchi sur les points forts,   les arguments et les propositions qui seront portés au niveau des   décideurs nationaux. lors des derniers polepharma meetings, lieu de   rencontre, d’e?change et de construction communs a? l’ensemble des   acteurs de la chai?ne de sante?, polepharma a favorisé une prise de   conscience des grands enjeux […]   lire la suite   polepharma packagingpolepharma packaging   7 mai 2014   a l’initiative de ses adhe?rents, et en s’appuyant sur leur expertise,   polepharma a organisé « les rencontres du packaging pharmaceutique »   2e?me edition. qu’ils soient primaires ou secondaires, tous les   emballages contribuent a? leur niveau a? la mise a? disposition de   me?dicaments aupre?s de patients. soumis a? des re?glementations tre?s   strictes, ces emballages ne font […]   lire la suite   job-box   archives newsletter   médiathèque   espace pressepolepharma en vidéo   iframe:   //www.youtube.com/embed/k_icgpnj9wu?&autohide=1&color=red&controls=1&di   sablekb=0&fs=1&iv_load_policy=1&modestbranding=0&rel=0&showinfo=0&theme   =dark&vq=medium   tweets de @polepharma   polepharma   11 rue du cardinal pie   28000 chartres   tél. : +33 (0)2 37 20 99 90   mail : contact@polepharma.compartenaires territoires   centre val de loire région normandie agglo pays dreux evreux métropole   rouen normandie communauté seine et eure tours metropole eure et loir   chartrespartenaires officiels 2019   pharma dec caisse d\\'epargne altran biotech quality group   copyright © 2019 polepharma - mentions légales - politique de   confidentialité   en poursuivant votre navigation sur le site, vous acceptez   l\\'utilisation de cookies à des fins de mesure d\\'audience.   fermer   x   (button) ×   iframe: https://player.vimeo.com/video/151642050?autoplay=1   #polepharma » flux polepharma » flux des commentaires alternate   alternate   polepharma   polepharma \\ufeff recherche_________ submit   (button) toggle navigation   polepharma     * polepharma          + qui sommes-nous ?          + organigramme          + les chiffres clés          + un réseau     * territoires          + région centre-val de loire          + région normandie          + conseil départemental d’eure&loir          + chartres metropole          + metropole de rouen          + agglo du pays de dreux          + agglo evreux portes de normandie          + agglo seine&eure          + agglo de tours plus     * performance industrielle          + excellence opérationnelle          + maintenance          + packaging          + supply chain          + usine du futur     * talents     * relations publiques     * innovation          + biomédicaments          + fédérer          + collaborer          + promouvoir   adhérer à polepharma   espace adhérent   rechercher un adhérent   je découvre les métiers de la filière pharmaceutique   polepharma   médiathèque   espace presse   polepharma polepharma   \\ufeff recherche_________ submit   polepharma polepharma     * polepharma          + qui sommes-nous ?          + organigramme          + les chiffres clés          + un réseau     * territoires          + région centre-val de loire          + région normandie          + conseil départemental d’eure&loir          + chartres metropole          + metropole de rouen          + agglo du pays de dreux          + agglo evreux portes de normandie          + agglo seine&eure          + agglo de tours plus     * performance industrielle          + excellence opérationnelle          + maintenance          + packaging          + supply chain          + usine du futur     * talents     * relations publiques     * innovation          + biomédicaments          + fédérer          + collaborer          + promouvoir     * lancement d’un ami national pour l’émergence de projets       collaboratifs d’innovationlancement d’un ami national pour l’émergence de projets collaboratifsd’innovation       afin de répondre à la priorité « technologies de ruptures       en bioproduction (trbp) » identifiée dans le contrat de filière du       csf « industries et technologies de...       > lire la suite     * polepharma, partenaire du colloque international adebiotechpolepharma, partenaire du colloque international adebiotech       polepharma est partenaire du colloque international adebiotech «       advanced analytical technologies for proteins »  (aatp),  2-3       octobre 2019 à biocitech (romainville-grand paris) qui couvrira       les...       > lire la suite     * agro-bio lance son nouveau site internet !agro-bio lance son nouveau site internet !       agro-bio lance son nouveau site internet ! les nouveautés       principales de cette version 2019 sont : la mise en cohérence avec       notre nouvelle offre de prestations...       > lire la suite     * soirées 18/21 polepharma réseau : toutes les datessoirées 18/21 polepharma réseau : toutes les dates          le réseau s’enrichit   participer aux soirées 18/21 réseau       polepharma c’est : rencontrer les acteurs du développement et de la       production pharmaceutique développer et entretenir votre réseau...       > lire la suite     * save the date : congrès polepharma bioproduction – 12 & 13 décembre       2019save the date : congrès polepharma bioproduction – 12 & 13 décembre 2019       congrès polepharma bioproduction – 4ème édition les 12 &       13 décembre 2019 au palais des congrès de tours sous la présidence       de thierry ziegler, head of manufacturing de cellectis. dans un...       > lire la suite     * save the date : colloque polepharma industrie du futur – 28       novembre 2019save the date : colloque polepharma industrie du futur – 28 novembre 2019       colloque polepharma industrie du futur – 3ème édition le 28       novembre 2019 au kindarena de rouen sous la présidence de yann       gharfourzadeh, vice president sales & operation emea pharma du       groupe...       > lire la suite     * polepharma recrute !polepharma recrute !       portée par son dynamisme, l’équipe s’agrandit !  polepharma recrute       :   un chef de projet affaires pharmaceutiques           un chef de       projet innovations...       > lire la suite     * comprendre en 1mn50 les métiers de la production pharmaceutiquecomprendre en 1mn50 les métiers de la production pharmaceutique       lancer la vidéo vous recherchez un emploi ? avez-vous pensé aux       métiers de la production de l’industrie pharmaceutique ? la france       est l’un des premiers producteurs européens...       > lire la suite     * comprendre les biomédicaments en 2 minutes, c’est possible !comprendre les biomédicaments en 2 minutes, c’est possible !       les biomédicaments en vidéo cliquez ici...       > lire la suiteinscriptionaux événements   12 au 13 décembre 2019   > centre international de congrès de tours   colloque polepharma bioproduction - 4éme ed.   inscription   10 décembre 2019   > oril   workshop 2 digitalisation et culture qualité / 10 décembre 2019   inscription   03 décembre 2019   > sanofi   séminaire spécial inspections   inscription   28 novembre 2019   > kindarena   colloque polepharma industrie du futur - 3ème edition   inscription   19 au 20 novembre 2019   > centre international de congrès de tours   tips 2019   inscription   31 octobre 2019   > hotel de région normandie rouen   les assises polepharma de l\\'innovation en normandie 2nd edition   inscription   23 octobre 2019   > golf du bois d\\'o   soirée polepharma réseau - dreux (28)   inscription   17 octobre 2019   > uimm   workshop 1 digitalisation et culture qualité / 17 octobre 2019   inscription   10 octobre 2019   > evreux   rencontres polepharma de l\\'amélioration continue - 3e édition   inscription   25 septembre 2019   > le paganica   soirée polepharma réseau - evreux (27)   inscription   04 juillet 2019   > dreux - (28)   la fabrh polepharma #1   inscription   28 juin 2019   > golf parc robert hersant   polepharma business tour   inscription   26 juin 2019   > golf de caen la mer,   soirée polepharma réseau - caen (14)   inscription   23 mai 2019   > golf du bois d\\'o   soirée polepharma réseau - dreux (28)   inscription   16 mai 2019   > château royal de blois   assemblée générale polepharma 2019   inscription   14 mai 2019   > hôtel national des invalides   colloque souveraineté medicaments & api   inscription   14 mai 2019   >   tec\\'lab: realité virtuelle appliquée   inscription   09 au 10 avril 2019   > ufr sante rouen   les journées polepharma de microbiomique   inscription   28 mars 2019   > synchrotron soleil   soirée polepharma réseau - paris saclay (91)   inscription   07 mars 2019   > novotel rouen sud   mat\\'inno polepharma \"développer son business à l\\'international\"   inscription   05 mars au 23 avril 2019   > le hangar   9ème afterwork biomédicament   inscription   28 février 2019   > golf de léry-poses   soirée polepharma réseau - louviers (27)   inscription   07 février 2019   > cotton club   atelier propriété industrielle / 07 fev 2019   inscription   07 février 2019   > cotton club   atelier propriété industrielle - 7 février 2019   inscription   04 février 2019   > delpharm evreux   invitation : visite delpharm evreux   inscription   02 février 2019   > caen   phinder de la pharma : forum national des facultés de pharmacie   inscription   31 janvier 2019   > golf de chartres fontenay   soirée polepharma réseau - chartres (28)   inscription   15 janvier 2019   > novotel rouen sud   les mat\\'inno polepharma \"financement européen des projets r&d\"   inscription   20 décembre 2018   > centre international de congrès de tours   colloque polepharma bioproduction - 3éme ed.   inscription   12 décembre 2018   > le paganica   soirée polepharma réseau - evreux (27)   inscription   04 décembre 2018   > la filature   rencontres polepharma amélioration continue – 2e édition   inscription   29 novembre 2018   > hôtel dupanloup   8ème afterwork biomédicaments   inscription   22 novembre 2018   > cotton club   atelier polepharma propriété industrielle   inscription   15 novembre 2018   > cenexis hsc   soirée réseau 18/21 polepharma & nucleopolis - caen   inscription   08 novembre 2018   > centre de congrès d\\'orléans   colloque polepharma industrie du futur - 2e edition   inscriptioninscriptionaux événements   10 octobre 2019   > evreux   rencontres polepharma de l\\'amélioration continue - 3e édition   inscription   17 octobre 2019   > uimm   workshop 1 digitalisation et culture qualité / 17 octobre 2019   inscription   23 octobre 2019   > golf du bois d\\'o   soirée polepharma réseau - dreux (28)   inscription   31 octobre 2019   > hotel de région normandie rouen   les assises polepharma de l\\'innovation en normandie 2nd edition   inscription   19 au 20 novembre 2019   > centre international de congrès de tours   tips 2019   inscription   28 novembre 2019   > kindarena   colloque polepharma industrie du futur - 3ème edition   inscription   03 décembre 2019   > sanofi   séminaire spécial inspections   inscription   10 décembre 2019   > oril   workshop 2 digitalisation et culture qualité / 10 décembre 2019   inscription   12 au 13 décembre 2019   > centre international de congrès de tours   colloque polepharma bioproduction - 4éme ed.   inscription   événements precedents   adhérer à polepharma   espace adhérent   rechercher un adhérentun réseau performant,      un territoire cohérent   carte polepharma   job-box   archives newsletter   médiathèque   espace pressepolepharma en vidéo   iframe:   //www.youtube.com/embed/k_icgpnj9wu?&autohide=1&color=red&controls=1&di   sablekb=0&fs=1&iv_load_policy=1&modestbranding=0&rel=0&showinfo=0&theme   =dark&vq=medium   tweets de @polepharma   polepharma   11 rue du cardinal pie   28000 chartres   tél. : +33 (0)2 37 20 99 90   mail : contact@polepharma.compartenaires territoires   centre val de loire région normandie agglo pays dreux evreux métropole   rouen normandie communauté seine et eure tours metropole eure et loir   chartrespartenaires officiels 2019   pharma dec caisse d\\'epargne altran biotech quality group   copyright © 2019 polepharma - mentions légales - politique de   confidentialité   en poursuivant votre navigation sur le site, vous acceptez   l\\'utilisation de cookies à des fins de mesure d\\'audience.   fermer   x   (button) ×   iframe: https://player.vimeo.com/video/151642050?autoplay=1   #polepharma » flux polepharma » flux des commentaires 3ème colloque   polepharma rh : demandez le programme ! les jeudis de polepharma   alternate alternate   polepharma   polepharma \\ufeff recherche_________ submit   (button) toggle navigation   polepharma     * polepharma          + qui sommes-nous ?          + organigramme          + les chiffres clés          + un réseau     * territoires          + région centre-val de loire          + région normandie          + conseil départemental d’eure&loir          + chartres metropole          + metropole de rouen          + agglo du pays de dreux          + agglo evreux portes de normandie          + agglo seine&eure          + agglo de tours plus     * performance industrielle          + excellence opérationnelle          + maintenance          + packaging          + supply chain          + usine du futur     * talents     * relations publiques     * innovation          + biomédicaments          + fédérer          + collaborer          + promouvoir   adhérer à polepharma   espace adhérent   rechercher un adhérent   je découvre les métiers de la filière pharmaceutique   polepharma   médiathèque   espace presse   polepharma polepharma   \\ufeff recherche_________ submit   polepharma polepharma     * polepharma          + qui sommes-nous ?          + organigramme          + les chiffres clés          + un réseau     * territoires          + région centre-val de loire          + région normandie          + conseil départemental d’eure&loir          + chartres metropole          + metropole de rouen          + agglo du pays de dreux          + agglo evreux portes de normandie          + agglo seine&eure          + agglo de tours plus     * performance industrielle          + excellence opérationnelle          + maintenance          + packaging          + supply chain          + usine du futur     * talents     * relations publiques     * innovation          + biomédicaments          + fédérer          + collaborer          + promouvoira la rencontre des futurs pharmaciens industriels !   7 mars 2017   la 2api est la réunion annuelle de toutes les associations   industrielles en pharmacie. c’est un week-end de formation et   d’insertion professionnelle destiné aux étudiants souhaitant se   renseigner et s’orienter vers le monde de l’industrie pharmaceutique.   il concerne tous les étudiants de la 2^ème à la 6^ème  année des 24   facultés de pharmacie, soit 300 étudiants présents les 3 au 5 mars   2017.   l’anepi caen-rouen (association normande des etudiants en pharmacie   industrielle) a été élue pour organiser l’édition 2017, dont le thème a   été : «s’adapter au monde de demain, l’évolution de la pharmacie   industrielle»   polepharma a souhaité montrer la forte présence industrielle locale   ainsi que les nombreuses possibilités de recrutements sur son bassin   (centre- val de loire; normandie; ile-de-france)   une forte mobilisation de la part de la filière :     * participation d’une dizaine de professionnels pharmaciens lors du       dîner de gala,     * animation d’une conférence de présentation du territoire,     * conduite d’un atelier pour aider lors de recherches de stage et       d’emploi     * animation d’un stand polepharma au cœur des entreprises du bassin   une rencontre aussi intéressante pour les entreprises que pour les   étudiants ravis de rencontrer les professionnels et de pouvoir échanger   sur les spécificités d’orientation dans le secteur de l’industrie du   médicament.   voir la vidéo   job-box   archives newsletter   médiathèque   espace pressepolepharma en vidéo   iframe:   //www.youtube.com/embed/k_icgpnj9wu?&autohide=1&color=red&controls=1&di   sablekb=0&fs=1&iv_load_policy=1&modestbranding=0&rel=0&showinfo=0&theme   =dark&vq=medium   tweets de @polepharma   polepharma   11 rue du cardinal pie   28000 chartres   tél. : +33 (0)2 37 20 99 90   mail : contact@polepharma.compartenaires territoires   centre val de loire région normandie agglo pays dreux evreux métropole   rouen normandie communauté seine et eure tours metropole eure et loir   chartrespartenaires officiels 2019   pharma dec caisse d\\'epargne altran biotech quality group   copyright © 2019 polepharma - mentions légales - politique de   confidentialité   en poursuivant votre navigation sur le site, vous acceptez   l\\'utilisation de cookies à des fins de mesure d\\'audience.   fermer   x   (button) ×   iframe: https://player.vimeo.com/video/151642050?autoplay=1   #polepharma » flux polepharma » flux des commentaires alternate   alternate   polepharma   polepharma \\ufeff recherche_________ submit   (button) toggle navigation   polepharma     * polepharma          + qui sommes-nous ?          + organigramme          + les chiffres clés          + un réseau     * territoires          + région centre-val de loire          + région normandie          + conseil départemental d’eure&loir          + chartres metropole          + metropole de rouen          + agglo du pays de dreux          + agglo evreux portes de normandie          + agglo seine&eure          + agglo de tours plus     * performance industrielle          + excellence opérationnelle          + maintenance          + packaging          + supply chain          + usine du futur     * talents     * relations publiques     * innovation          + biomédicaments          + fédérer          + collaborer          + promouvoir   adhérer à polepharma   espace adhérent   rechercher un adhérent   je découvre les métiers de la filière pharmaceutique   polepharma   médiathèque   espace presse   polepharma polepharma   \\ufeff recherche_________ submit   polepharma polepharma     * polepharma          + qui sommes-nous ?          + organigramme          + les chiffres clés          + un réseau     * territoires          + région centre-val de loire          + région normandie          + conseil départemental d’eure&loir          + chartres metropole          + metropole de rouen          + agglo du pays de dreux          + agglo evreux portes de normandie          + agglo seine&eure          + agglo de tours plus     * performance industrielle          + excellence opérationnelle          + maintenance          + packaging          + supply chain          + usine du futur     * talents     * relations publiques     * innovation          + biomédicaments          + fédérer          + collaborer          + promouvoirfiche adhérent   page générée par le plugin polepharma. ne pas éditer   job-box   archives newsletter   médiathèque   espace pressepolepharma en vidéo   iframe:   //www.youtube.com/embed/k_icgpnj9wu?&autohide=1&color=red&controls=1&di   sablekb=0&fs=1&iv_load_policy=1&modestbranding=0&rel=0&showinfo=0&theme   =dark&vq=medium   tweets de @polepharma   polepharma   11 rue du cardinal pie   28000 chartres   tél. : +33 (0)2 37 20 99 90   mail : contact@polepharma.compartenaires territoires   centre val de loire région normandie agglo pays dreux evreux métropole   rouen normandie communauté seine et eure tours metropole eure et loir   chartrespartenaires officiels 2019   pharma dec caisse d\\'epargne altran biotech quality group   copyright © 2019 polepharma - mentions légales - politique de   confidentialité   en poursuivant votre navigation sur le site, vous acceptez   l\\'utilisation de cookies à des fins de mesure d\\'audience.   fermer   x   (button) ×   iframe: https://player.vimeo.com/video/151642050?autoplay=1   #polepharma » flux polepharma » flux des commentaires polepharma » flux   des articles écrits par gregory monaca   polepharma   polepharma \\ufeff recherche_________ submit   (button) toggle navigation   polepharma     * polepharma          + qui sommes-nous ?          + organigramme          + les chiffres clés          + un réseau     * territoires          + région centre-val de loire          + région normandie          + conseil départemental d’eure&loir          + chartres metropole          + metropole de rouen          + agglo du pays de dreux          + agglo evreux portes de normandie          + agglo seine&eure          + agglo de tours plus     * performance industrielle          + excellence opérationnelle          + maintenance          + packaging          + supply chain          + usine du futur     * talents     * relations publiques     * innovation          + biomédicaments          + fédérer          + collaborer          + promouvoir   adhérer à polepharma   espace adhérent   rechercher un adhérent   je découvre les métiers de la filière pharmaceutique   polepharma   médiathèque   espace presse   polepharma polepharma   \\ufeff recherche_________ submit   polepharma polepharma     * polepharma          + qui sommes-nous ?          + organigramme          + les chiffres clés          + un réseau     * territoires          + région centre-val de loire          + région normandie          + conseil départemental d’eure&loir          + chartres metropole          + metropole de rouen          + agglo du pays de dreux          + agglo evreux portes de normandie          + agglo seine&eure          + agglo de tours plus     * performance industrielle          + excellence opérationnelle          + maintenance          + packaging          + supply chain          + usine du futur     * talents     * relations publiques     * innovation          + biomédicaments          + fédérer          + collaborer          + promouvoirgregory monaca   rss feedgregory monaca\\'s latest posts   cynbiose respiratory, nouvelle société de services précliniques   spécialisée dans les maladies respiratoires et l’aérosolthérapie,   annonce le début des ses opérationscynbiose respiratory, nouvelle société de services précliniques spécialiséedans les maladies respiratoires et l’aérosolthérapie, annonce le début desses opérations   24 janvier 2018   cynbiose respiratory (tours, france) est une société de recherche   clinique hyperspécialisée créée sur la base des savoir-faire de ses   co-fondateurs : la société cynbiose (marcy l’étoile, france),   spécialisée dans les modèles précliniques innovants et le centre de   recherche scientifique pour les maladies respiratoires – inserm umr1100   (tours, france) qui contribue à la découverte et au […]   lire la suite   polepharma, le cluster français de production pharmaceutiquepolepharma, le cluster français de production pharmaceutique   16 mai 2014   la filière santé et le territoire ont réfléchi sur les points forts,   les arguments et les propositions qui seront portés au niveau des   décideurs nationaux. lors des derniers polepharma meetings, lieu de   rencontre, d’e?change et de construction communs a? l’ensemble des   acteurs de la chai?ne de sante?, polepharma a favorisé une prise de   conscience des grands enjeux […]   lire la suite   polepharma packagingpolepharma packaging   7 mai 2014   a l’initiative de ses adhe?rents, et en s’appuyant sur leur expertise,   polepharma a organisé « les rencontres du packaging pharmaceutique »   2e?me edition. qu’ils soient primaires ou secondaires, tous les   emballages contribuent a? leur niveau a? la mise a? disposition de   me?dicaments aupre?s de patients. soumis a? des re?glementations tre?s   strictes, ces emballages ne font […]   lire la suite   job-box   archives newsletter   médiathèque   espace pressepolepharma en vidéo   iframe:   //www.youtube.com/embed/k_icgpnj9wu?&autohide=1&color=red&controls=1&di   sablekb=0&fs=1&iv_load_policy=1&modestbranding=0&rel=0&showinfo=0&theme   =dark&vq=medium   tweets de @polepharma   polepharma   11 rue du cardinal pie   28000 chartres   tél. : +33 (0)2 37 20 99 90   mail : contact@polepharma.compartenaires territoires   centre val de loire région normandie agglo pays dreux evreux métropole   rouen normandie communauté seine et eure tours metropole eure et loir   chartrespartenaires officiels 2019   pharma dec caisse d\\'epargne altran biotech quality group   copyright © 2019 polepharma - mentions légales - politique de   confidentialité   en poursuivant votre navigation sur le site, vous acceptez   l\\'utilisation de cookies à des fins de mesure d\\'audience.   fermer   x   (button) ×   iframe: https://player.vimeo.com/video/151642050?autoplay=1'"
      ]
     },
     "execution_count": 21,
     "metadata": {},
     "output_type": "execute_result"
    }
   ],
   "source": [
    "train_data[0]"
   ]
  },
  {
   "cell_type": "code",
   "execution_count": 22,
   "metadata": {},
   "outputs": [
    {
     "data": {
      "text/html": [
       "<div>\n",
       "<style scoped>\n",
       "    .dataframe tbody tr th:only-of-type {\n",
       "        vertical-align: middle;\n",
       "    }\n",
       "\n",
       "    .dataframe tbody tr th {\n",
       "        vertical-align: top;\n",
       "    }\n",
       "\n",
       "    .dataframe thead th {\n",
       "        text-align: right;\n",
       "    }\n",
       "</style>\n",
       "<table border=\"1\" class=\"dataframe\">\n",
       "  <thead>\n",
       "    <tr style=\"text-align: right;\">\n",
       "      <th></th>\n",
       "      <th>host</th>\n",
       "      <th>text</th>\n",
       "      <th>label_text</th>\n",
       "      <th>label_num</th>\n",
       "    </tr>\n",
       "  </thead>\n",
       "  <tbody>\n",
       "    <tr>\n",
       "      <th>0</th>\n",
       "      <td>9032</td>\n",
       "      <td>#polepharma » flux polepharma » flux des co...</td>\n",
       "      <td>health/medical</td>\n",
       "      <td>3</td>\n",
       "    </tr>\n",
       "    <tr>\n",
       "      <th>1</th>\n",
       "      <td>5346</td>\n",
       "      <td>301 moved permanen...</td>\n",
       "      <td>entertainment</td>\n",
       "      <td>2</td>\n",
       "    </tr>\n",
       "    <tr>\n",
       "      <th>2</th>\n",
       "      <td>18778</td>\n",
       "      <td>(button) fermer   en poursuivant votre navi...</td>\n",
       "      <td>entertainment</td>\n",
       "      <td>2</td>\n",
       "    </tr>\n",
       "    <tr>\n",
       "      <th>3</th>\n",
       "      <td>11939</td>\n",
       "      <td>#hal   (button) toggle navigation   ccsd   ...</td>\n",
       "      <td>education/research</td>\n",
       "      <td>1</td>\n",
       "    </tr>\n",
       "    <tr>\n",
       "      <th>4</th>\n",
       "      <td>17502</td>\n",
       "      <td>user-agent: * disallow: disallow: /publishe...</td>\n",
       "      <td>tech/science</td>\n",
       "      <td>7</td>\n",
       "    </tr>\n",
       "    <tr>\n",
       "      <th>...</th>\n",
       "      <td>...</td>\n",
       "      <td>...</td>\n",
       "      <td>...</td>\n",
       "      <td>...</td>\n",
       "    </tr>\n",
       "    <tr>\n",
       "      <th>2120</th>\n",
       "      <td>957</td>\n",
       "      <td>iframe: //www.googletagmanager.com/ns.html?...</td>\n",
       "      <td>business/finance</td>\n",
       "      <td>0</td>\n",
       "    </tr>\n",
       "    <tr>\n",
       "      <th>2121</th>\n",
       "      <td>26416</td>\n",
       "      <td>(button) (button) [pictoprivateaserweb-smal...</td>\n",
       "      <td>business/finance</td>\n",
       "      <td>0</td>\n",
       "    </tr>\n",
       "    <tr>\n",
       "      <th>2122</th>\n",
       "      <td>10643</td>\n",
       "      <td>[tr?id=1507986696178555&amp;ev=pageview&amp;noscrip...</td>\n",
       "      <td>business/finance</td>\n",
       "      <td>0</td>\n",
       "    </tr>\n",
       "    <tr>\n",
       "      <th>2123</th>\n",
       "      <td>17307</td>\n",
       "      <td>accéder au contenu principal   logo ebay lo...</td>\n",
       "      <td>business/finance</td>\n",
       "      <td>0</td>\n",
       "    </tr>\n",
       "    <tr>\n",
       "      <th>2124</th>\n",
       "      <td>19307</td>\n",
       "      <td>[usemap:new-2229.j...</td>\n",
       "      <td>business/finance</td>\n",
       "      <td>0</td>\n",
       "    </tr>\n",
       "  </tbody>\n",
       "</table>\n",
       "<p>2125 rows × 4 columns</p>\n",
       "</div>"
      ],
      "text/plain": [
       "       host                                               text  \\\n",
       "0      9032     #polepharma » flux polepharma » flux des co...   \n",
       "1      5346                              301 moved permanen...   \n",
       "2     18778     (button) fermer   en poursuivant votre navi...   \n",
       "3     11939     #hal   (button) toggle navigation   ccsd   ...   \n",
       "4     17502     user-agent: * disallow: disallow: /publishe...   \n",
       "...     ...                                                ...   \n",
       "2120    957     iframe: //www.googletagmanager.com/ns.html?...   \n",
       "2121  26416     (button) (button) [pictoprivateaserweb-smal...   \n",
       "2122  10643     [tr?id=1507986696178555&ev=pageview&noscrip...   \n",
       "2123  17307     accéder au contenu principal   logo ebay lo...   \n",
       "2124  19307                              [usemap:new-2229.j...   \n",
       "\n",
       "              label_text  label_num  \n",
       "0         health/medical          3  \n",
       "1          entertainment          2  \n",
       "2          entertainment          2  \n",
       "3     education/research          1  \n",
       "4           tech/science          7  \n",
       "...                  ...        ...  \n",
       "2120    business/finance          0  \n",
       "2121    business/finance          0  \n",
       "2122    business/finance          0  \n",
       "2123    business/finance          0  \n",
       "2124    business/finance          0  \n",
       "\n",
       "[2125 rows x 4 columns]"
      ]
     },
     "execution_count": 22,
     "metadata": {},
     "output_type": "execute_result"
    }
   ],
   "source": [
    "Train_data"
   ]
  },
  {
   "cell_type": "code",
   "execution_count": 23,
   "metadata": {},
   "outputs": [],
   "source": [
    "Train_data.to_pickle('Train_data')\n",
    "Train_data.to_csv('Train_data.csv')"
   ]
  },
  {
   "cell_type": "code",
   "execution_count": 24,
   "metadata": {},
   "outputs": [],
   "source": [
    "Test_data = pd.DataFrame()\n",
    "# Read test data\n",
    "with open(\"test.csv\", 'r') as f:\n",
    "    test_hosts = f.read().splitlines()\n",
    "    \n",
    "# Get textual content of web hosts of the test set\n",
    "test_data = list()\n",
    "for host in test_hosts:\n",
    "    if host in texts:\n",
    "        test_data.append(texts[host])\n",
    "    else:\n",
    "        test_data.append('')"
   ]
  },
  {
   "cell_type": "code",
   "execution_count": 25,
   "metadata": {},
   "outputs": [],
   "source": [
    "Test_data['host'] = test_hosts\n",
    "Test_data['text'] = test_data\n",
    "\n",
    "Test_data.to_pickle('test_data')\n",
    "Test_data.to_csv('test_data.csv')"
   ]
  },
  {
   "cell_type": "code",
   "execution_count": 26,
   "metadata": {},
   "outputs": [
    {
     "data": {
      "text/html": [
       "<div>\n",
       "<style scoped>\n",
       "    .dataframe tbody tr th:only-of-type {\n",
       "        vertical-align: middle;\n",
       "    }\n",
       "\n",
       "    .dataframe tbody tr th {\n",
       "        vertical-align: top;\n",
       "    }\n",
       "\n",
       "    .dataframe thead th {\n",
       "        text-align: right;\n",
       "    }\n",
       "</style>\n",
       "<table border=\"1\" class=\"dataframe\">\n",
       "  <thead>\n",
       "    <tr style=\"text-align: right;\">\n",
       "      <th></th>\n",
       "      <th>host</th>\n",
       "      <th>text</th>\n",
       "    </tr>\n",
       "  </thead>\n",
       "  <tbody>\n",
       "    <tr>\n",
       "      <th>0</th>\n",
       "      <td>27997</td>\n",
       "      <td>iframe: //www.googletagmanager.com/ns.html?...</td>\n",
       "    </tr>\n",
       "    <tr>\n",
       "      <th>1</th>\n",
       "      <td>9316</td>\n",
       "      <td>iframe: https://www.googletagmanager.com/ns...</td>\n",
       "    </tr>\n",
       "    <tr>\n",
       "      <th>2</th>\n",
       "      <td>27045</td>\n",
       "      <td>#toutes les astuces beauté ⋅ astuces beauté...</td>\n",
       "    </tr>\n",
       "    <tr>\n",
       "      <th>3</th>\n",
       "      <td>19805</td>\n",
       "      <td>[logodefault.jpg]   [etab_juvisy-sur-orge.p...</td>\n",
       "    </tr>\n",
       "    <tr>\n",
       "      <th>4</th>\n",
       "      <td>26580</td>\n",
       "      <td>#l'école de demain » flux l'école de demain...</td>\n",
       "    </tr>\n",
       "    <tr>\n",
       "      <th>...</th>\n",
       "      <td>...</td>\n",
       "      <td>...</td>\n",
       "    </tr>\n",
       "    <tr>\n",
       "      <th>555</th>\n",
       "      <td>23783</td>\n",
       "      <td>#agenda glénat livres nouveautés glénat jeu...</td>\n",
       "    </tr>\n",
       "    <tr>\n",
       "      <th>556</th>\n",
       "      <td>16792</td>\n",
       "      <td>user-agent: * disallow: /catalog/admin disa...</td>\n",
       "    </tr>\n",
       "    <tr>\n",
       "      <th>557</th>\n",
       "      <td>6584</td>\n",
       "      <td>#crock pot recipes, slow cooker recipes, pa...</td>\n",
       "    </tr>\n",
       "    <tr>\n",
       "      <th>558</th>\n",
       "      <td>13527</td>\n",
       "      <td>nous utilisons des cookies pour personnalis...</td>\n",
       "    </tr>\n",
       "    <tr>\n",
       "      <th>559</th>\n",
       "      <td>434</td>\n",
       "      <td>user-agent: * disallow: disallow: /publishe...</td>\n",
       "    </tr>\n",
       "  </tbody>\n",
       "</table>\n",
       "<p>560 rows × 2 columns</p>\n",
       "</div>"
      ],
      "text/plain": [
       "      host                                               text\n",
       "0    27997     iframe: //www.googletagmanager.com/ns.html?...\n",
       "1     9316     iframe: https://www.googletagmanager.com/ns...\n",
       "2    27045     #toutes les astuces beauté ⋅ astuces beauté...\n",
       "3    19805     [logodefault.jpg]   [etab_juvisy-sur-orge.p...\n",
       "4    26580     #l'école de demain » flux l'école de demain...\n",
       "..     ...                                                ...\n",
       "555  23783     #agenda glénat livres nouveautés glénat jeu...\n",
       "556  16792     user-agent: * disallow: /catalog/admin disa...\n",
       "557   6584     #crock pot recipes, slow cooker recipes, pa...\n",
       "558  13527     nous utilisons des cookies pour personnalis...\n",
       "559    434     user-agent: * disallow: disallow: /publishe...\n",
       "\n",
       "[560 rows x 2 columns]"
      ]
     },
     "execution_count": 26,
     "metadata": {},
     "output_type": "execute_result"
    }
   ],
   "source": [
    "Test_data"
   ]
  },
  {
   "cell_type": "markdown",
   "metadata": {},
   "source": [
    "# Bert 500\n"
   ]
  },
  {
   "cell_type": "markdown",
   "metadata": {},
   "source": [
    "## Load data"
   ]
  },
  {
   "cell_type": "code",
   "execution_count": 21,
   "metadata": {},
   "outputs": [],
   "source": [
    "Train_data = pd.read_pickle('Train_data')\n",
    "X = Train_data['text']\n",
    "y = Train_data['label_num']\n",
    "classes = ['business/finance','education/research','entertainment','health/medical','news/press','politics/government/law','sports','tech/science']"
   ]
  },
  {
   "cell_type": "code",
   "execution_count": 22,
   "metadata": {},
   "outputs": [],
   "source": [
    "X_train, X_test, y_train, y_test = train_test_split(X, y, test_size=0.1, random_state=42)\n",
    "Model_Name = 'distilbert-base-multilingual-cased'\n"
   ]
  },
  {
   "cell_type": "code",
   "execution_count": 23,
   "metadata": {},
   "outputs": [],
   "source": [
    "t = text.Transformer(Model_Name, maxlen = 500, classes = classes)\n"
   ]
  },
  {
   "cell_type": "markdown",
   "metadata": {},
   "source": [
    "## If you already have the preprocess data pass"
   ]
  },
  {
   "cell_type": "code",
   "execution_count": 24,
   "metadata": {},
   "outputs": [
    {
     "name": "stdout",
     "output_type": "stream",
     "text": [
      "preprocessing train...\n",
      "language: fr\n",
      "train sequence lengths:\n",
      "\tmean : 7826\n",
      "\t95percentile : 29492\n",
      "\t99percentile : 72969\n"
     ]
    },
    {
     "data": {
      "text/html": [],
      "text/plain": [
       "<IPython.core.display.HTML object>"
      ]
     },
     "metadata": {},
     "output_type": "display_data"
    },
    {
     "name": "stdout",
     "output_type": "stream",
     "text": [
      "preprocessing test...\n",
      "language: fr\n",
      "test sequence lengths:\n",
      "\tmean : 7602\n",
      "\t95percentile : 25914\n",
      "\t99percentile : 54023\n"
     ]
    },
    {
     "data": {
      "text/html": [],
      "text/plain": [
       "<IPython.core.display.HTML object>"
      ]
     },
     "metadata": {},
     "output_type": "display_data"
    }
   ],
   "source": [
    "trn = t.preprocess_train(X_train, y_train) \n",
    "val = t.preprocess_test(X_test, y_test)"
   ]
  },
  {
   "cell_type": "code",
   "execution_count": 25,
   "metadata": {},
   "outputs": [],
   "source": [
    "pickle.dump( trn, open( 'train.p', \"wb\" ) )\n",
    "pickle.dump( val, open( 'validation.p', \"wb\" ) )"
   ]
  },
  {
   "cell_type": "markdown",
   "metadata": {
    "heading_collapsed": true
   },
   "source": [
    "## Fit with a classifier"
   ]
  },
  {
   "cell_type": "code",
   "execution_count": null,
   "metadata": {
    "hidden": true
   },
   "outputs": [],
   "source": []
  },
  {
   "cell_type": "code",
   "execution_count": 32,
   "metadata": {
    "hidden": true
   },
   "outputs": [],
   "source": [
    "trn = pickle.load(open( \"train.p\", \"rb\" )) \n",
    "val = pickle.load(open(\"validation.p\", \"rb\" ))"
   ]
  },
  {
   "cell_type": "code",
   "execution_count": 39,
   "metadata": {
    "hidden": true
   },
   "outputs": [],
   "source": [
    "model = t.get_classifier()\n",
    "model.layers[0].trainable = False\n",
    "model.layers[3].rate = 0.2\n",
    "\n"
   ]
  },
  {
   "cell_type": "code",
   "execution_count": 48,
   "metadata": {
    "hidden": true
   },
   "outputs": [],
   "source": [
    "learner = ktrain.get_learner(model,train_data=trn, val_data = val, batch_size=6)"
   ]
  },
  {
   "cell_type": "markdown",
   "metadata": {
    "hidden": true
   },
   "source": [
    "Optimal lerning rate find for 10-4"
   ]
  },
  {
   "cell_type": "code",
   "execution_count": 40,
   "metadata": {
    "hidden": true
   },
   "outputs": [
    {
     "name": "stdout",
     "output_type": "stream",
     "text": [
      "simulating training for different learning rates... this may take a few moments...\n",
      "Train for 318 steps\n",
      "Epoch 1/1024\n",
      "318/318 [==============================] - 57s 180ms/step - loss: 2.0807 - accuracy: 0.1137\n",
      "Epoch 2/1024\n",
      "318/318 [==============================] - 51s 159ms/step - loss: 1.9466 - accuracy: 0.2775\n",
      "Epoch 3/1024\n",
      "318/318 [==============================] - 51s 159ms/step - loss: 1.7905 - accuracy: 0.2970\n",
      "Epoch 4/1024\n",
      "318/318 [==============================] - 50s 156ms/step - loss: 1.9391 - accuracy: 0.2702\n",
      "Epoch 5/1024\n",
      "318/318 [==============================] - 50s 156ms/step - loss: 2.0483 - accuracy: 0.2933\n",
      "Epoch 6/1024\n",
      "162/318 [==============>...............] - ETA: 24s - loss: 21.1330 - accuracy: 0.2423\n",
      "\n",
      "done.\n",
      "Please invoke the Learner.lr_plot() method to visually inspect the loss plot to help identify the maximal learning rate associated with falling loss.\n"
     ]
    },
    {
     "data": {
      "image/png": "[encoded data removed]",
      "text/plain": [
       "<Figure size 432x288 with 1 Axes>"
      ]
     },
     "metadata": {
      "needs_background": "light"
     },
     "output_type": "display_data"
    }
   ],
   "source": [
    "learner.lr_find()             # briefly simulate training to find good learning rate\n",
    "learner.lr_plot()             # visually identify best learning rate"
   ]
  },
  {
   "cell_type": "code",
   "execution_count": 49,
   "metadata": {
    "hidden": true
   },
   "outputs": [
    {
     "name": "stderr",
     "output_type": "stream",
     "text": [
      "C:\\Users\\Rzhang\\Anaconda3\\envs\\nlp\\lib\\site-packages\\ktrain\\core.py:792: UserWarning: cyclical momentum has been disabled because optimizer is not \"Adam-like\" with beta_1 param\n",
      "  warnings.warn('cyclical momentum has been disabled because '+\\\n"
     ]
    },
    {
     "name": "stdout",
     "output_type": "stream",
     "text": [
      "\n",
      "\n",
      "begin training using triangular learning rate policy with max lr of 0.0001...\n",
      "Train for 319 steps, validate for 36 steps\n",
      "Epoch 1/1000\n",
      "  1/319 [..............................] - ETA: 45:17"
     ]
    },
    {
     "ename": "TypeError",
     "evalue": "Cannot convert value 0 to a TensorFlow DType.",
     "output_type": "error",
     "traceback": [
      "\u001b[1;31m---------------------------------------------------------------------------\u001b[0m",
      "\u001b[1;31mTypeError\u001b[0m                                 Traceback (most recent call last)",
      "\u001b[1;32m<ipython-input-49-72855049334a>\u001b[0m in \u001b[0;36m<module>\u001b[1;34m\u001b[0m\n\u001b[1;32m----> 1\u001b[1;33m \u001b[0mlearner\u001b[0m\u001b[1;33m.\u001b[0m\u001b[0mautofit\u001b[0m\u001b[1;33m(\u001b[0m\u001b[1;36m0.0001\u001b[0m\u001b[1;33m,\u001b[0m \u001b[1;36m1000\u001b[0m\u001b[1;33m,\u001b[0m\u001b[0mcheckpoint_folder\u001b[0m\u001b[1;33m=\u001b[0m\u001b[1;34m'save'\u001b[0m\u001b[1;33m)\u001b[0m\u001b[1;33m\u001b[0m\u001b[1;33m\u001b[0m\u001b[0m\n\u001b[0m",
      "\u001b[1;32m~\\Anaconda3\\envs\\nlp\\lib\\site-packages\\ktrain\\core.py\u001b[0m in \u001b[0;36mautofit\u001b[1;34m(self, lr, epochs, early_stopping, reduce_on_plateau, reduce_factor, cycle_momentum, monitor, checkpoint_folder, verbose, class_weight, callbacks)\u001b[0m\n\u001b[0;32m    858\u001b[0m         hist = self.fit(lr, epochs, early_stopping=early_stopping,\n\u001b[0;32m    859\u001b[0m                         \u001b[0mcheckpoint_folder\u001b[0m\u001b[1;33m=\u001b[0m\u001b[0mcheckpoint_folder\u001b[0m\u001b[1;33m,\u001b[0m\u001b[1;33m\u001b[0m\u001b[1;33m\u001b[0m\u001b[0m\n\u001b[1;32m--> 860\u001b[1;33m                         verbose=verbose, class_weight=class_weight, callbacks=kcallbacks)\n\u001b[0m\u001b[0;32m    861\u001b[0m         \u001b[0mhist\u001b[0m\u001b[1;33m.\u001b[0m\u001b[0mhistory\u001b[0m\u001b[1;33m[\u001b[0m\u001b[1;34m'lr'\u001b[0m\u001b[1;33m]\u001b[0m \u001b[1;33m=\u001b[0m \u001b[0mclr\u001b[0m\u001b[1;33m.\u001b[0m\u001b[0mhistory\u001b[0m\u001b[1;33m[\u001b[0m\u001b[1;34m'lr'\u001b[0m\u001b[1;33m]\u001b[0m\u001b[1;33m\u001b[0m\u001b[1;33m\u001b[0m\u001b[0m\n\u001b[0;32m    862\u001b[0m         \u001b[0mhist\u001b[0m\u001b[1;33m.\u001b[0m\u001b[0mhistory\u001b[0m\u001b[1;33m[\u001b[0m\u001b[1;34m'iterations'\u001b[0m\u001b[1;33m]\u001b[0m \u001b[1;33m=\u001b[0m \u001b[0mclr\u001b[0m\u001b[1;33m.\u001b[0m\u001b[0mhistory\u001b[0m\u001b[1;33m[\u001b[0m\u001b[1;34m'iterations'\u001b[0m\u001b[1;33m]\u001b[0m\u001b[1;33m\u001b[0m\u001b[1;33m\u001b[0m\u001b[0m\n",
      "\u001b[1;32m~\\Anaconda3\\envs\\nlp\\lib\\site-packages\\ktrain\\core.py\u001b[0m in \u001b[0;36mfit\u001b[1;34m(self, lr, n_cycles, cycle_len, cycle_mult, lr_decay, checkpoint_folder, early_stopping, class_weight, callbacks, verbose)\u001b[0m\n\u001b[0;32m   1183\u001b[0m                                         \u001b[0mshuffle\u001b[0m\u001b[1;33m=\u001b[0m\u001b[1;32mTrue\u001b[0m\u001b[1;33m,\u001b[0m\u001b[1;33m\u001b[0m\u001b[1;33m\u001b[0m\u001b[0m\n\u001b[0;32m   1184\u001b[0m                                         \u001b[0mclass_weight\u001b[0m\u001b[1;33m=\u001b[0m\u001b[0mclass_weight\u001b[0m\u001b[1;33m,\u001b[0m\u001b[1;33m\u001b[0m\u001b[1;33m\u001b[0m\u001b[0m\n\u001b[1;32m-> 1185\u001b[1;33m                                         callbacks=kcallbacks)\n\u001b[0m\u001b[0;32m   1186\u001b[0m         \u001b[1;32mif\u001b[0m \u001b[0msgdr\u001b[0m \u001b[1;32mis\u001b[0m \u001b[1;32mnot\u001b[0m \u001b[1;32mNone\u001b[0m\u001b[1;33m:\u001b[0m \u001b[0mhist\u001b[0m\u001b[1;33m.\u001b[0m\u001b[0mhistory\u001b[0m\u001b[1;33m[\u001b[0m\u001b[1;34m'lr'\u001b[0m\u001b[1;33m]\u001b[0m \u001b[1;33m=\u001b[0m \u001b[0msgdr\u001b[0m\u001b[1;33m.\u001b[0m\u001b[0mhistory\u001b[0m\u001b[1;33m[\u001b[0m\u001b[1;34m'lr'\u001b[0m\u001b[1;33m]\u001b[0m\u001b[1;33m\u001b[0m\u001b[1;33m\u001b[0m\u001b[0m\n\u001b[0;32m   1187\u001b[0m         \u001b[0mself\u001b[0m\u001b[1;33m.\u001b[0m\u001b[0mhistory\u001b[0m \u001b[1;33m=\u001b[0m \u001b[0mhist\u001b[0m\u001b[1;33m\u001b[0m\u001b[1;33m\u001b[0m\u001b[0m\n",
      "\u001b[1;32m~\\Anaconda3\\envs\\nlp\\lib\\site-packages\\tensorflow_core\\python\\keras\\engine\\training.py\u001b[0m in \u001b[0;36mfit\u001b[1;34m(self, x, y, batch_size, epochs, verbose, callbacks, validation_split, validation_data, shuffle, class_weight, sample_weight, initial_epoch, steps_per_epoch, validation_steps, validation_freq, max_queue_size, workers, use_multiprocessing, **kwargs)\u001b[0m\n\u001b[0;32m    817\u001b[0m         \u001b[0mmax_queue_size\u001b[0m\u001b[1;33m=\u001b[0m\u001b[0mmax_queue_size\u001b[0m\u001b[1;33m,\u001b[0m\u001b[1;33m\u001b[0m\u001b[1;33m\u001b[0m\u001b[0m\n\u001b[0;32m    818\u001b[0m         \u001b[0mworkers\u001b[0m\u001b[1;33m=\u001b[0m\u001b[0mworkers\u001b[0m\u001b[1;33m,\u001b[0m\u001b[1;33m\u001b[0m\u001b[1;33m\u001b[0m\u001b[0m\n\u001b[1;32m--> 819\u001b[1;33m         use_multiprocessing=use_multiprocessing)\n\u001b[0m\u001b[0;32m    820\u001b[0m \u001b[1;33m\u001b[0m\u001b[0m\n\u001b[0;32m    821\u001b[0m   def evaluate(self,\n",
      "\u001b[1;32m~\\Anaconda3\\envs\\nlp\\lib\\site-packages\\tensorflow_core\\python\\keras\\engine\\training_v2.py\u001b[0m in \u001b[0;36mfit\u001b[1;34m(self, model, x, y, batch_size, epochs, verbose, callbacks, validation_split, validation_data, shuffle, class_weight, sample_weight, initial_epoch, steps_per_epoch, validation_steps, validation_freq, max_queue_size, workers, use_multiprocessing, **kwargs)\u001b[0m\n\u001b[0;32m    340\u001b[0m                 \u001b[0mmode\u001b[0m\u001b[1;33m=\u001b[0m\u001b[0mModeKeys\u001b[0m\u001b[1;33m.\u001b[0m\u001b[0mTRAIN\u001b[0m\u001b[1;33m,\u001b[0m\u001b[1;33m\u001b[0m\u001b[1;33m\u001b[0m\u001b[0m\n\u001b[0;32m    341\u001b[0m                 \u001b[0mtraining_context\u001b[0m\u001b[1;33m=\u001b[0m\u001b[0mtraining_context\u001b[0m\u001b[1;33m,\u001b[0m\u001b[1;33m\u001b[0m\u001b[1;33m\u001b[0m\u001b[0m\n\u001b[1;32m--> 342\u001b[1;33m                 total_epochs=epochs)\n\u001b[0m\u001b[0;32m    343\u001b[0m             \u001b[0mcbks\u001b[0m\u001b[1;33m.\u001b[0m\u001b[0mmake_logs\u001b[0m\u001b[1;33m(\u001b[0m\u001b[0mmodel\u001b[0m\u001b[1;33m,\u001b[0m \u001b[0mepoch_logs\u001b[0m\u001b[1;33m,\u001b[0m \u001b[0mtraining_result\u001b[0m\u001b[1;33m,\u001b[0m \u001b[0mModeKeys\u001b[0m\u001b[1;33m.\u001b[0m\u001b[0mTRAIN\u001b[0m\u001b[1;33m)\u001b[0m\u001b[1;33m\u001b[0m\u001b[1;33m\u001b[0m\u001b[0m\n\u001b[0;32m    344\u001b[0m \u001b[1;33m\u001b[0m\u001b[0m\n",
      "\u001b[1;32m~\\Anaconda3\\envs\\nlp\\lib\\site-packages\\tensorflow_core\\python\\keras\\engine\\training_v2.py\u001b[0m in \u001b[0;36mrun_one_epoch\u001b[1;34m(model, iterator, execution_function, dataset_size, batch_size, strategy, steps_per_epoch, num_samples, mode, training_context, total_epochs)\u001b[0m\n\u001b[0;32m    126\u001b[0m         step=step, mode=mode, size=current_batch_size) as batch_logs:\n\u001b[0;32m    127\u001b[0m       \u001b[1;32mtry\u001b[0m\u001b[1;33m:\u001b[0m\u001b[1;33m\u001b[0m\u001b[1;33m\u001b[0m\u001b[0m\n\u001b[1;32m--> 128\u001b[1;33m         \u001b[0mbatch_outs\u001b[0m \u001b[1;33m=\u001b[0m \u001b[0mexecution_function\u001b[0m\u001b[1;33m(\u001b[0m\u001b[0miterator\u001b[0m\u001b[1;33m)\u001b[0m\u001b[1;33m\u001b[0m\u001b[1;33m\u001b[0m\u001b[0m\n\u001b[0m\u001b[0;32m    129\u001b[0m       \u001b[1;32mexcept\u001b[0m \u001b[1;33m(\u001b[0m\u001b[0mStopIteration\u001b[0m\u001b[1;33m,\u001b[0m \u001b[0merrors\u001b[0m\u001b[1;33m.\u001b[0m\u001b[0mOutOfRangeError\u001b[0m\u001b[1;33m)\u001b[0m\u001b[1;33m:\u001b[0m\u001b[1;33m\u001b[0m\u001b[1;33m\u001b[0m\u001b[0m\n\u001b[0;32m    130\u001b[0m         \u001b[1;31m# TODO(kaftan): File bug about tf function and errors.OutOfRangeError?\u001b[0m\u001b[1;33m\u001b[0m\u001b[1;33m\u001b[0m\u001b[1;33m\u001b[0m\u001b[0m\n",
      "\u001b[1;32m~\\Anaconda3\\envs\\nlp\\lib\\site-packages\\tensorflow_core\\python\\keras\\engine\\training_v2_utils.py\u001b[0m in \u001b[0;36mexecution_function\u001b[1;34m(input_fn)\u001b[0m\n\u001b[0;32m     96\u001b[0m     \u001b[1;31m# `numpy` translates Tensors to values in Eager mode.\u001b[0m\u001b[1;33m\u001b[0m\u001b[1;33m\u001b[0m\u001b[1;33m\u001b[0m\u001b[0m\n\u001b[0;32m     97\u001b[0m     return nest.map_structure(_non_none_constant_value,\n\u001b[1;32m---> 98\u001b[1;33m                               distributed_function(input_fn))\n\u001b[0m\u001b[0;32m     99\u001b[0m \u001b[1;33m\u001b[0m\u001b[0m\n\u001b[0;32m    100\u001b[0m   \u001b[1;32mreturn\u001b[0m \u001b[0mexecution_function\u001b[0m\u001b[1;33m\u001b[0m\u001b[1;33m\u001b[0m\u001b[0m\n",
      "\u001b[1;32m~\\Anaconda3\\envs\\nlp\\lib\\site-packages\\tensorflow_core\\python\\eager\\def_function.py\u001b[0m in \u001b[0;36m__call__\u001b[1;34m(self, *args, **kwds)\u001b[0m\n\u001b[0;32m    566\u001b[0m         \u001b[0mxla_context\u001b[0m\u001b[1;33m.\u001b[0m\u001b[0mExit\u001b[0m\u001b[1;33m(\u001b[0m\u001b[1;33m)\u001b[0m\u001b[1;33m\u001b[0m\u001b[1;33m\u001b[0m\u001b[0m\n\u001b[0;32m    567\u001b[0m     \u001b[1;32melse\u001b[0m\u001b[1;33m:\u001b[0m\u001b[1;33m\u001b[0m\u001b[1;33m\u001b[0m\u001b[0m\n\u001b[1;32m--> 568\u001b[1;33m       \u001b[0mresult\u001b[0m \u001b[1;33m=\u001b[0m \u001b[0mself\u001b[0m\u001b[1;33m.\u001b[0m\u001b[0m_call\u001b[0m\u001b[1;33m(\u001b[0m\u001b[1;33m*\u001b[0m\u001b[0margs\u001b[0m\u001b[1;33m,\u001b[0m \u001b[1;33m**\u001b[0m\u001b[0mkwds\u001b[0m\u001b[1;33m)\u001b[0m\u001b[1;33m\u001b[0m\u001b[1;33m\u001b[0m\u001b[0m\n\u001b[0m\u001b[0;32m    569\u001b[0m \u001b[1;33m\u001b[0m\u001b[0m\n\u001b[0;32m    570\u001b[0m     \u001b[1;32mif\u001b[0m \u001b[0mtracing_count\u001b[0m \u001b[1;33m==\u001b[0m \u001b[0mself\u001b[0m\u001b[1;33m.\u001b[0m\u001b[0m_get_tracing_count\u001b[0m\u001b[1;33m(\u001b[0m\u001b[1;33m)\u001b[0m\u001b[1;33m:\u001b[0m\u001b[1;33m\u001b[0m\u001b[1;33m\u001b[0m\u001b[0m\n",
      "\u001b[1;32m~\\Anaconda3\\envs\\nlp\\lib\\site-packages\\tensorflow_core\\python\\eager\\def_function.py\u001b[0m in \u001b[0;36m_call\u001b[1;34m(self, *args, **kwds)\u001b[0m\n\u001b[0;32m    604\u001b[0m       \u001b[1;31m# In this case we have not created variables on the first call. So we can\u001b[0m\u001b[1;33m\u001b[0m\u001b[1;33m\u001b[0m\u001b[1;33m\u001b[0m\u001b[0m\n\u001b[0;32m    605\u001b[0m       \u001b[1;31m# run the first trace but we should fail if variables are created.\u001b[0m\u001b[1;33m\u001b[0m\u001b[1;33m\u001b[0m\u001b[1;33m\u001b[0m\u001b[0m\n\u001b[1;32m--> 606\u001b[1;33m       \u001b[0mresults\u001b[0m \u001b[1;33m=\u001b[0m \u001b[0mself\u001b[0m\u001b[1;33m.\u001b[0m\u001b[0m_stateful_fn\u001b[0m\u001b[1;33m(\u001b[0m\u001b[1;33m*\u001b[0m\u001b[0margs\u001b[0m\u001b[1;33m,\u001b[0m \u001b[1;33m**\u001b[0m\u001b[0mkwds\u001b[0m\u001b[1;33m)\u001b[0m\u001b[1;33m\u001b[0m\u001b[1;33m\u001b[0m\u001b[0m\n\u001b[0m\u001b[0;32m    607\u001b[0m       \u001b[1;32mif\u001b[0m \u001b[0mself\u001b[0m\u001b[1;33m.\u001b[0m\u001b[0m_created_variables\u001b[0m\u001b[1;33m:\u001b[0m\u001b[1;33m\u001b[0m\u001b[1;33m\u001b[0m\u001b[0m\n\u001b[0;32m    608\u001b[0m         raise ValueError(\"Creating variables on a non-first call to a function\"\n",
      "\u001b[1;32m~\\Anaconda3\\envs\\nlp\\lib\\site-packages\\tensorflow_core\\python\\eager\\function.py\u001b[0m in \u001b[0;36m__call__\u001b[1;34m(self, *args, **kwargs)\u001b[0m\n\u001b[0;32m   2360\u001b[0m     \u001b[1;34m\"\"\"Calls a graph function specialized to the inputs.\"\"\"\u001b[0m\u001b[1;33m\u001b[0m\u001b[1;33m\u001b[0m\u001b[0m\n\u001b[0;32m   2361\u001b[0m     \u001b[1;32mwith\u001b[0m \u001b[0mself\u001b[0m\u001b[1;33m.\u001b[0m\u001b[0m_lock\u001b[0m\u001b[1;33m:\u001b[0m\u001b[1;33m\u001b[0m\u001b[1;33m\u001b[0m\u001b[0m\n\u001b[1;32m-> 2362\u001b[1;33m       \u001b[0mgraph_function\u001b[0m\u001b[1;33m,\u001b[0m \u001b[0margs\u001b[0m\u001b[1;33m,\u001b[0m \u001b[0mkwargs\u001b[0m \u001b[1;33m=\u001b[0m \u001b[0mself\u001b[0m\u001b[1;33m.\u001b[0m\u001b[0m_maybe_define_function\u001b[0m\u001b[1;33m(\u001b[0m\u001b[0margs\u001b[0m\u001b[1;33m,\u001b[0m \u001b[0mkwargs\u001b[0m\u001b[1;33m)\u001b[0m\u001b[1;33m\u001b[0m\u001b[1;33m\u001b[0m\u001b[0m\n\u001b[0m\u001b[0;32m   2363\u001b[0m     \u001b[1;32mreturn\u001b[0m \u001b[0mgraph_function\u001b[0m\u001b[1;33m.\u001b[0m\u001b[0m_filtered_call\u001b[0m\u001b[1;33m(\u001b[0m\u001b[0margs\u001b[0m\u001b[1;33m,\u001b[0m \u001b[0mkwargs\u001b[0m\u001b[1;33m)\u001b[0m  \u001b[1;31m# pylint: disable=protected-access\u001b[0m\u001b[1;33m\u001b[0m\u001b[1;33m\u001b[0m\u001b[0m\n\u001b[0;32m   2364\u001b[0m \u001b[1;33m\u001b[0m\u001b[0m\n",
      "\u001b[1;32m~\\Anaconda3\\envs\\nlp\\lib\\site-packages\\tensorflow_core\\python\\eager\\function.py\u001b[0m in \u001b[0;36m_maybe_define_function\u001b[1;34m(self, args, kwargs)\u001b[0m\n\u001b[0;32m   2701\u001b[0m \u001b[1;33m\u001b[0m\u001b[0m\n\u001b[0;32m   2702\u001b[0m       \u001b[0mself\u001b[0m\u001b[1;33m.\u001b[0m\u001b[0m_function_cache\u001b[0m\u001b[1;33m.\u001b[0m\u001b[0mmissed\u001b[0m\u001b[1;33m.\u001b[0m\u001b[0madd\u001b[0m\u001b[1;33m(\u001b[0m\u001b[0mcall_context_key\u001b[0m\u001b[1;33m)\u001b[0m\u001b[1;33m\u001b[0m\u001b[1;33m\u001b[0m\u001b[0m\n\u001b[1;32m-> 2703\u001b[1;33m       \u001b[0mgraph_function\u001b[0m \u001b[1;33m=\u001b[0m \u001b[0mself\u001b[0m\u001b[1;33m.\u001b[0m\u001b[0m_create_graph_function\u001b[0m\u001b[1;33m(\u001b[0m\u001b[0margs\u001b[0m\u001b[1;33m,\u001b[0m \u001b[0mkwargs\u001b[0m\u001b[1;33m)\u001b[0m\u001b[1;33m\u001b[0m\u001b[1;33m\u001b[0m\u001b[0m\n\u001b[0m\u001b[0;32m   2704\u001b[0m       \u001b[0mself\u001b[0m\u001b[1;33m.\u001b[0m\u001b[0m_function_cache\u001b[0m\u001b[1;33m.\u001b[0m\u001b[0mprimary\u001b[0m\u001b[1;33m[\u001b[0m\u001b[0mcache_key\u001b[0m\u001b[1;33m]\u001b[0m \u001b[1;33m=\u001b[0m \u001b[0mgraph_function\u001b[0m\u001b[1;33m\u001b[0m\u001b[1;33m\u001b[0m\u001b[0m\n\u001b[0;32m   2705\u001b[0m       \u001b[1;32mreturn\u001b[0m \u001b[0mgraph_function\u001b[0m\u001b[1;33m,\u001b[0m \u001b[0margs\u001b[0m\u001b[1;33m,\u001b[0m \u001b[0mkwargs\u001b[0m\u001b[1;33m\u001b[0m\u001b[1;33m\u001b[0m\u001b[0m\n",
      "\u001b[1;32m~\\Anaconda3\\envs\\nlp\\lib\\site-packages\\tensorflow_core\\python\\eager\\function.py\u001b[0m in \u001b[0;36m_create_graph_function\u001b[1;34m(self, args, kwargs, override_flat_arg_shapes)\u001b[0m\n\u001b[0;32m   2591\u001b[0m             \u001b[0marg_names\u001b[0m\u001b[1;33m=\u001b[0m\u001b[0marg_names\u001b[0m\u001b[1;33m,\u001b[0m\u001b[1;33m\u001b[0m\u001b[1;33m\u001b[0m\u001b[0m\n\u001b[0;32m   2592\u001b[0m             \u001b[0moverride_flat_arg_shapes\u001b[0m\u001b[1;33m=\u001b[0m\u001b[0moverride_flat_arg_shapes\u001b[0m\u001b[1;33m,\u001b[0m\u001b[1;33m\u001b[0m\u001b[1;33m\u001b[0m\u001b[0m\n\u001b[1;32m-> 2593\u001b[1;33m             capture_by_value=self._capture_by_value),\n\u001b[0m\u001b[0;32m   2594\u001b[0m         \u001b[0mself\u001b[0m\u001b[1;33m.\u001b[0m\u001b[0m_function_attributes\u001b[0m\u001b[1;33m,\u001b[0m\u001b[1;33m\u001b[0m\u001b[1;33m\u001b[0m\u001b[0m\n\u001b[0;32m   2595\u001b[0m         \u001b[1;31m# Tell the ConcreteFunction to clean up its graph once it goes out of\u001b[0m\u001b[1;33m\u001b[0m\u001b[1;33m\u001b[0m\u001b[1;33m\u001b[0m\u001b[0m\n",
      "\u001b[1;32m~\\Anaconda3\\envs\\nlp\\lib\\site-packages\\tensorflow_core\\python\\framework\\func_graph.py\u001b[0m in \u001b[0;36mfunc_graph_from_py_func\u001b[1;34m(name, python_func, args, kwargs, signature, func_graph, autograph, autograph_options, add_control_dependencies, arg_names, op_return_value, collections, capture_by_value, override_flat_arg_shapes)\u001b[0m\n\u001b[0;32m    976\u001b[0m                                           converted_func)\n\u001b[0;32m    977\u001b[0m \u001b[1;33m\u001b[0m\u001b[0m\n\u001b[1;32m--> 978\u001b[1;33m       \u001b[0mfunc_outputs\u001b[0m \u001b[1;33m=\u001b[0m \u001b[0mpython_func\u001b[0m\u001b[1;33m(\u001b[0m\u001b[1;33m*\u001b[0m\u001b[0mfunc_args\u001b[0m\u001b[1;33m,\u001b[0m \u001b[1;33m**\u001b[0m\u001b[0mfunc_kwargs\u001b[0m\u001b[1;33m)\u001b[0m\u001b[1;33m\u001b[0m\u001b[1;33m\u001b[0m\u001b[0m\n\u001b[0m\u001b[0;32m    979\u001b[0m \u001b[1;33m\u001b[0m\u001b[0m\n\u001b[0;32m    980\u001b[0m       \u001b[1;31m# invariant: `func_outputs` contains only Tensors, CompositeTensors,\u001b[0m\u001b[1;33m\u001b[0m\u001b[1;33m\u001b[0m\u001b[1;33m\u001b[0m\u001b[0m\n",
      "\u001b[1;32m~\\Anaconda3\\envs\\nlp\\lib\\site-packages\\tensorflow_core\\python\\eager\\def_function.py\u001b[0m in \u001b[0;36mwrapped_fn\u001b[1;34m(*args, **kwds)\u001b[0m\n\u001b[0;32m    437\u001b[0m         \u001b[1;31m# __wrapped__ allows AutoGraph to swap in a converted function. We give\u001b[0m\u001b[1;33m\u001b[0m\u001b[1;33m\u001b[0m\u001b[1;33m\u001b[0m\u001b[0m\n\u001b[0;32m    438\u001b[0m         \u001b[1;31m# the function a weak reference to itself to avoid a reference cycle.\u001b[0m\u001b[1;33m\u001b[0m\u001b[1;33m\u001b[0m\u001b[1;33m\u001b[0m\u001b[0m\n\u001b[1;32m--> 439\u001b[1;33m         \u001b[1;32mreturn\u001b[0m \u001b[0mweak_wrapped_fn\u001b[0m\u001b[1;33m(\u001b[0m\u001b[1;33m)\u001b[0m\u001b[1;33m.\u001b[0m\u001b[0m__wrapped__\u001b[0m\u001b[1;33m(\u001b[0m\u001b[1;33m*\u001b[0m\u001b[0margs\u001b[0m\u001b[1;33m,\u001b[0m \u001b[1;33m**\u001b[0m\u001b[0mkwds\u001b[0m\u001b[1;33m)\u001b[0m\u001b[1;33m\u001b[0m\u001b[1;33m\u001b[0m\u001b[0m\n\u001b[0m\u001b[0;32m    440\u001b[0m     \u001b[0mweak_wrapped_fn\u001b[0m \u001b[1;33m=\u001b[0m \u001b[0mweakref\u001b[0m\u001b[1;33m.\u001b[0m\u001b[0mref\u001b[0m\u001b[1;33m(\u001b[0m\u001b[0mwrapped_fn\u001b[0m\u001b[1;33m)\u001b[0m\u001b[1;33m\u001b[0m\u001b[1;33m\u001b[0m\u001b[0m\n\u001b[0;32m    441\u001b[0m \u001b[1;33m\u001b[0m\u001b[0m\n",
      "\u001b[1;32m~\\Anaconda3\\envs\\nlp\\lib\\site-packages\\tensorflow_core\\python\\keras\\engine\\training_v2_utils.py\u001b[0m in \u001b[0;36mdistributed_function\u001b[1;34m(input_iterator)\u001b[0m\n\u001b[0;32m     83\u001b[0m     \u001b[0margs\u001b[0m \u001b[1;33m=\u001b[0m \u001b[0m_prepare_feed_values\u001b[0m\u001b[1;33m(\u001b[0m\u001b[0mmodel\u001b[0m\u001b[1;33m,\u001b[0m \u001b[0minput_iterator\u001b[0m\u001b[1;33m,\u001b[0m \u001b[0mmode\u001b[0m\u001b[1;33m,\u001b[0m \u001b[0mstrategy\u001b[0m\u001b[1;33m)\u001b[0m\u001b[1;33m\u001b[0m\u001b[1;33m\u001b[0m\u001b[0m\n\u001b[0;32m     84\u001b[0m     outputs = strategy.experimental_run_v2(\n\u001b[1;32m---> 85\u001b[1;33m         per_replica_function, args=args)\n\u001b[0m\u001b[0;32m     86\u001b[0m     \u001b[1;31m# Out of PerReplica outputs reduce or pick values to return.\u001b[0m\u001b[1;33m\u001b[0m\u001b[1;33m\u001b[0m\u001b[1;33m\u001b[0m\u001b[0m\n\u001b[0;32m     87\u001b[0m     all_outputs = dist_utils.unwrap_output_dict(\n",
      "\u001b[1;32m~\\Anaconda3\\envs\\nlp\\lib\\site-packages\\tensorflow_core\\python\\distribute\\distribute_lib.py\u001b[0m in \u001b[0;36mexperimental_run_v2\u001b[1;34m(self, fn, args, kwargs)\u001b[0m\n\u001b[0;32m    761\u001b[0m       fn = autograph.tf_convert(fn, ag_ctx.control_status_ctx(),\n\u001b[0;32m    762\u001b[0m                                 convert_by_default=False)\n\u001b[1;32m--> 763\u001b[1;33m       \u001b[1;32mreturn\u001b[0m \u001b[0mself\u001b[0m\u001b[1;33m.\u001b[0m\u001b[0m_extended\u001b[0m\u001b[1;33m.\u001b[0m\u001b[0mcall_for_each_replica\u001b[0m\u001b[1;33m(\u001b[0m\u001b[0mfn\u001b[0m\u001b[1;33m,\u001b[0m \u001b[0margs\u001b[0m\u001b[1;33m=\u001b[0m\u001b[0margs\u001b[0m\u001b[1;33m,\u001b[0m \u001b[0mkwargs\u001b[0m\u001b[1;33m=\u001b[0m\u001b[0mkwargs\u001b[0m\u001b[1;33m)\u001b[0m\u001b[1;33m\u001b[0m\u001b[1;33m\u001b[0m\u001b[0m\n\u001b[0m\u001b[0;32m    764\u001b[0m \u001b[1;33m\u001b[0m\u001b[0m\n\u001b[0;32m    765\u001b[0m   \u001b[1;32mdef\u001b[0m \u001b[0mreduce\u001b[0m\u001b[1;33m(\u001b[0m\u001b[0mself\u001b[0m\u001b[1;33m,\u001b[0m \u001b[0mreduce_op\u001b[0m\u001b[1;33m,\u001b[0m \u001b[0mvalue\u001b[0m\u001b[1;33m,\u001b[0m \u001b[0maxis\u001b[0m\u001b[1;33m)\u001b[0m\u001b[1;33m:\u001b[0m\u001b[1;33m\u001b[0m\u001b[1;33m\u001b[0m\u001b[0m\n",
      "\u001b[1;32m~\\Anaconda3\\envs\\nlp\\lib\\site-packages\\tensorflow_core\\python\\distribute\\distribute_lib.py\u001b[0m in \u001b[0;36mcall_for_each_replica\u001b[1;34m(self, fn, args, kwargs)\u001b[0m\n\u001b[0;32m   1817\u001b[0m       \u001b[0mkwargs\u001b[0m \u001b[1;33m=\u001b[0m \u001b[1;33m{\u001b[0m\u001b[1;33m}\u001b[0m\u001b[1;33m\u001b[0m\u001b[1;33m\u001b[0m\u001b[0m\n\u001b[0;32m   1818\u001b[0m     \u001b[1;32mwith\u001b[0m \u001b[0mself\u001b[0m\u001b[1;33m.\u001b[0m\u001b[0m_container_strategy\u001b[0m\u001b[1;33m(\u001b[0m\u001b[1;33m)\u001b[0m\u001b[1;33m.\u001b[0m\u001b[0mscope\u001b[0m\u001b[1;33m(\u001b[0m\u001b[1;33m)\u001b[0m\u001b[1;33m:\u001b[0m\u001b[1;33m\u001b[0m\u001b[1;33m\u001b[0m\u001b[0m\n\u001b[1;32m-> 1819\u001b[1;33m       \u001b[1;32mreturn\u001b[0m \u001b[0mself\u001b[0m\u001b[1;33m.\u001b[0m\u001b[0m_call_for_each_replica\u001b[0m\u001b[1;33m(\u001b[0m\u001b[0mfn\u001b[0m\u001b[1;33m,\u001b[0m \u001b[0margs\u001b[0m\u001b[1;33m,\u001b[0m \u001b[0mkwargs\u001b[0m\u001b[1;33m)\u001b[0m\u001b[1;33m\u001b[0m\u001b[1;33m\u001b[0m\u001b[0m\n\u001b[0m\u001b[0;32m   1820\u001b[0m \u001b[1;33m\u001b[0m\u001b[0m\n\u001b[0;32m   1821\u001b[0m   \u001b[1;32mdef\u001b[0m \u001b[0m_call_for_each_replica\u001b[0m\u001b[1;33m(\u001b[0m\u001b[0mself\u001b[0m\u001b[1;33m,\u001b[0m \u001b[0mfn\u001b[0m\u001b[1;33m,\u001b[0m \u001b[0margs\u001b[0m\u001b[1;33m,\u001b[0m \u001b[0mkwargs\u001b[0m\u001b[1;33m)\u001b[0m\u001b[1;33m:\u001b[0m\u001b[1;33m\u001b[0m\u001b[1;33m\u001b[0m\u001b[0m\n",
      "\u001b[1;32m~\\Anaconda3\\envs\\nlp\\lib\\site-packages\\tensorflow_core\\python\\distribute\\distribute_lib.py\u001b[0m in \u001b[0;36m_call_for_each_replica\u001b[1;34m(self, fn, args, kwargs)\u001b[0m\n\u001b[0;32m   2162\u001b[0m         \u001b[0mself\u001b[0m\u001b[1;33m.\u001b[0m\u001b[0m_container_strategy\u001b[0m\u001b[1;33m(\u001b[0m\u001b[1;33m)\u001b[0m\u001b[1;33m,\u001b[0m\u001b[1;33m\u001b[0m\u001b[1;33m\u001b[0m\u001b[0m\n\u001b[0;32m   2163\u001b[0m         replica_id_in_sync_group=constant_op.constant(0, dtypes.int32)):\n\u001b[1;32m-> 2164\u001b[1;33m       \u001b[1;32mreturn\u001b[0m \u001b[0mfn\u001b[0m\u001b[1;33m(\u001b[0m\u001b[1;33m*\u001b[0m\u001b[0margs\u001b[0m\u001b[1;33m,\u001b[0m \u001b[1;33m**\u001b[0m\u001b[0mkwargs\u001b[0m\u001b[1;33m)\u001b[0m\u001b[1;33m\u001b[0m\u001b[1;33m\u001b[0m\u001b[0m\n\u001b[0m\u001b[0;32m   2165\u001b[0m \u001b[1;33m\u001b[0m\u001b[0m\n\u001b[0;32m   2166\u001b[0m   \u001b[1;32mdef\u001b[0m \u001b[0m_reduce_to\u001b[0m\u001b[1;33m(\u001b[0m\u001b[0mself\u001b[0m\u001b[1;33m,\u001b[0m \u001b[0mreduce_op\u001b[0m\u001b[1;33m,\u001b[0m \u001b[0mvalue\u001b[0m\u001b[1;33m,\u001b[0m \u001b[0mdestinations\u001b[0m\u001b[1;33m)\u001b[0m\u001b[1;33m:\u001b[0m\u001b[1;33m\u001b[0m\u001b[1;33m\u001b[0m\u001b[0m\n",
      "\u001b[1;32m~\\Anaconda3\\envs\\nlp\\lib\\site-packages\\tensorflow_core\\python\\autograph\\impl\\api.py\u001b[0m in \u001b[0;36mwrapper\u001b[1;34m(*args, **kwargs)\u001b[0m\n\u001b[0;32m    290\u001b[0m   \u001b[1;32mdef\u001b[0m \u001b[0mwrapper\u001b[0m\u001b[1;33m(\u001b[0m\u001b[1;33m*\u001b[0m\u001b[0margs\u001b[0m\u001b[1;33m,\u001b[0m \u001b[1;33m**\u001b[0m\u001b[0mkwargs\u001b[0m\u001b[1;33m)\u001b[0m\u001b[1;33m:\u001b[0m\u001b[1;33m\u001b[0m\u001b[1;33m\u001b[0m\u001b[0m\n\u001b[0;32m    291\u001b[0m     \u001b[1;32mwith\u001b[0m \u001b[0mag_ctx\u001b[0m\u001b[1;33m.\u001b[0m\u001b[0mControlStatusCtx\u001b[0m\u001b[1;33m(\u001b[0m\u001b[0mstatus\u001b[0m\u001b[1;33m=\u001b[0m\u001b[0mag_ctx\u001b[0m\u001b[1;33m.\u001b[0m\u001b[0mStatus\u001b[0m\u001b[1;33m.\u001b[0m\u001b[0mDISABLED\u001b[0m\u001b[1;33m)\u001b[0m\u001b[1;33m:\u001b[0m\u001b[1;33m\u001b[0m\u001b[1;33m\u001b[0m\u001b[0m\n\u001b[1;32m--> 292\u001b[1;33m       \u001b[1;32mreturn\u001b[0m \u001b[0mfunc\u001b[0m\u001b[1;33m(\u001b[0m\u001b[1;33m*\u001b[0m\u001b[0margs\u001b[0m\u001b[1;33m,\u001b[0m \u001b[1;33m**\u001b[0m\u001b[0mkwargs\u001b[0m\u001b[1;33m)\u001b[0m\u001b[1;33m\u001b[0m\u001b[1;33m\u001b[0m\u001b[0m\n\u001b[0m\u001b[0;32m    293\u001b[0m \u001b[1;33m\u001b[0m\u001b[0m\n\u001b[0;32m    294\u001b[0m   \u001b[1;32mif\u001b[0m \u001b[0minspect\u001b[0m\u001b[1;33m.\u001b[0m\u001b[0misfunction\u001b[0m\u001b[1;33m(\u001b[0m\u001b[0mfunc\u001b[0m\u001b[1;33m)\u001b[0m \u001b[1;32mor\u001b[0m \u001b[0minspect\u001b[0m\u001b[1;33m.\u001b[0m\u001b[0mismethod\u001b[0m\u001b[1;33m(\u001b[0m\u001b[0mfunc\u001b[0m\u001b[1;33m)\u001b[0m\u001b[1;33m:\u001b[0m\u001b[1;33m\u001b[0m\u001b[1;33m\u001b[0m\u001b[0m\n",
      "\u001b[1;32m~\\Anaconda3\\envs\\nlp\\lib\\site-packages\\tensorflow_core\\python\\keras\\engine\\training_v2_utils.py\u001b[0m in \u001b[0;36mtrain_on_batch\u001b[1;34m(model, x, y, sample_weight, class_weight, reset_metrics, standalone)\u001b[0m\n\u001b[0;32m    431\u001b[0m       \u001b[0my\u001b[0m\u001b[1;33m,\u001b[0m\u001b[1;33m\u001b[0m\u001b[1;33m\u001b[0m\u001b[0m\n\u001b[0;32m    432\u001b[0m       \u001b[0msample_weights\u001b[0m\u001b[1;33m=\u001b[0m\u001b[0msample_weights\u001b[0m\u001b[1;33m,\u001b[0m\u001b[1;33m\u001b[0m\u001b[1;33m\u001b[0m\u001b[0m\n\u001b[1;32m--> 433\u001b[1;33m       output_loss_metrics=model._output_loss_metrics)\n\u001b[0m\u001b[0;32m    434\u001b[0m \u001b[1;33m\u001b[0m\u001b[0m\n\u001b[0;32m    435\u001b[0m   \u001b[1;32mif\u001b[0m \u001b[0mreset_metrics\u001b[0m\u001b[1;33m:\u001b[0m\u001b[1;33m\u001b[0m\u001b[1;33m\u001b[0m\u001b[0m\n",
      "\u001b[1;32m~\\Anaconda3\\envs\\nlp\\lib\\site-packages\\tensorflow_core\\python\\keras\\engine\\training_eager.py\u001b[0m in \u001b[0;36mtrain_on_batch\u001b[1;34m(model, inputs, targets, sample_weights, output_loss_metrics)\u001b[0m\n\u001b[0;32m    310\u001b[0m           \u001b[0msample_weights\u001b[0m\u001b[1;33m=\u001b[0m\u001b[0msample_weights\u001b[0m\u001b[1;33m,\u001b[0m\u001b[1;33m\u001b[0m\u001b[1;33m\u001b[0m\u001b[0m\n\u001b[0;32m    311\u001b[0m           \u001b[0mtraining\u001b[0m\u001b[1;33m=\u001b[0m\u001b[1;32mTrue\u001b[0m\u001b[1;33m,\u001b[0m\u001b[1;33m\u001b[0m\u001b[1;33m\u001b[0m\u001b[0m\n\u001b[1;32m--> 312\u001b[1;33m           output_loss_metrics=output_loss_metrics))\n\u001b[0m\u001b[0;32m    313\u001b[0m   \u001b[1;32mif\u001b[0m \u001b[1;32mnot\u001b[0m \u001b[0misinstance\u001b[0m\u001b[1;33m(\u001b[0m\u001b[0mouts\u001b[0m\u001b[1;33m,\u001b[0m \u001b[0mlist\u001b[0m\u001b[1;33m)\u001b[0m\u001b[1;33m:\u001b[0m\u001b[1;33m\u001b[0m\u001b[1;33m\u001b[0m\u001b[0m\n\u001b[0;32m    314\u001b[0m     \u001b[0mouts\u001b[0m \u001b[1;33m=\u001b[0m \u001b[1;33m[\u001b[0m\u001b[0mouts\u001b[0m\u001b[1;33m]\u001b[0m\u001b[1;33m\u001b[0m\u001b[1;33m\u001b[0m\u001b[0m\n",
      "\u001b[1;32m~\\Anaconda3\\envs\\nlp\\lib\\site-packages\\tensorflow_core\\python\\keras\\engine\\training_eager.py\u001b[0m in \u001b[0;36m_process_single_batch\u001b[1;34m(model, inputs, targets, output_loss_metrics, sample_weights, training)\u001b[0m\n\u001b[0;32m    267\u001b[0m           \u001b[0mmodel\u001b[0m\u001b[1;33m.\u001b[0m\u001b[0m_backwards\u001b[0m\u001b[1;33m(\u001b[0m\u001b[0mtape\u001b[0m\u001b[1;33m,\u001b[0m \u001b[0mscaled_total_loss\u001b[0m\u001b[1;33m)\u001b[0m\u001b[1;33m\u001b[0m\u001b[1;33m\u001b[0m\u001b[0m\n\u001b[0;32m    268\u001b[0m         \u001b[1;32melse\u001b[0m\u001b[1;33m:\u001b[0m\u001b[1;33m\u001b[0m\u001b[1;33m\u001b[0m\u001b[0m\n\u001b[1;32m--> 269\u001b[1;33m           \u001b[0mgrads\u001b[0m \u001b[1;33m=\u001b[0m \u001b[0mtape\u001b[0m\u001b[1;33m.\u001b[0m\u001b[0mgradient\u001b[0m\u001b[1;33m(\u001b[0m\u001b[0mscaled_total_loss\u001b[0m\u001b[1;33m,\u001b[0m \u001b[0mtrainable_weights\u001b[0m\u001b[1;33m)\u001b[0m\u001b[1;33m\u001b[0m\u001b[1;33m\u001b[0m\u001b[0m\n\u001b[0m\u001b[0;32m    270\u001b[0m           if isinstance(model.optimizer,\n\u001b[0;32m    271\u001b[0m                         loss_scale_optimizer.LossScaleOptimizer):\n",
      "\u001b[1;32m~\\Anaconda3\\envs\\nlp\\lib\\site-packages\\tensorflow_core\\python\\eager\\backprop.py\u001b[0m in \u001b[0;36mgradient\u001b[1;34m(self, target, sources, output_gradients, unconnected_gradients)\u001b[0m\n\u001b[0;32m    997\u001b[0m     \u001b[0mflat_targets\u001b[0m \u001b[1;33m=\u001b[0m \u001b[1;33m[\u001b[0m\u001b[1;33m]\u001b[0m\u001b[1;33m\u001b[0m\u001b[1;33m\u001b[0m\u001b[0m\n\u001b[0;32m    998\u001b[0m     \u001b[1;32mfor\u001b[0m \u001b[0mt\u001b[0m \u001b[1;32min\u001b[0m \u001b[0mnest\u001b[0m\u001b[1;33m.\u001b[0m\u001b[0mflatten\u001b[0m\u001b[1;33m(\u001b[0m\u001b[0mtarget\u001b[0m\u001b[1;33m)\u001b[0m\u001b[1;33m:\u001b[0m\u001b[1;33m\u001b[0m\u001b[1;33m\u001b[0m\u001b[0m\n\u001b[1;32m--> 999\u001b[1;33m       \u001b[1;32mif\u001b[0m \u001b[1;32mnot\u001b[0m \u001b[0mbackprop_util\u001b[0m\u001b[1;33m.\u001b[0m\u001b[0mIsTrainable\u001b[0m\u001b[1;33m(\u001b[0m\u001b[0mt\u001b[0m\u001b[1;33m)\u001b[0m\u001b[1;33m:\u001b[0m\u001b[1;33m\u001b[0m\u001b[1;33m\u001b[0m\u001b[0m\n\u001b[0m\u001b[0;32m   1000\u001b[0m         logging.vlog(\n\u001b[0;32m   1001\u001b[0m             \u001b[0mlogging\u001b[0m\u001b[1;33m.\u001b[0m\u001b[0mWARN\u001b[0m\u001b[1;33m,\u001b[0m \u001b[1;34m\"The dtype of the target tensor must be \"\u001b[0m\u001b[1;33m\u001b[0m\u001b[1;33m\u001b[0m\u001b[0m\n",
      "\u001b[1;32m~\\Anaconda3\\envs\\nlp\\lib\\site-packages\\tensorflow_core\\python\\eager\\backprop_util.py\u001b[0m in \u001b[0;36mIsTrainable\u001b[1;34m(tensor_or_dtype)\u001b[0m\n\u001b[0;32m     28\u001b[0m   \u001b[1;32melse\u001b[0m\u001b[1;33m:\u001b[0m\u001b[1;33m\u001b[0m\u001b[1;33m\u001b[0m\u001b[0m\n\u001b[0;32m     29\u001b[0m     \u001b[0mdtype\u001b[0m \u001b[1;33m=\u001b[0m \u001b[0mtensor_or_dtype\u001b[0m\u001b[1;33m\u001b[0m\u001b[1;33m\u001b[0m\u001b[0m\n\u001b[1;32m---> 30\u001b[1;33m   \u001b[0mdtype\u001b[0m \u001b[1;33m=\u001b[0m \u001b[0mdtypes\u001b[0m\u001b[1;33m.\u001b[0m\u001b[0mas_dtype\u001b[0m\u001b[1;33m(\u001b[0m\u001b[0mdtype\u001b[0m\u001b[1;33m)\u001b[0m\u001b[1;33m\u001b[0m\u001b[1;33m\u001b[0m\u001b[0m\n\u001b[0m\u001b[0;32m     31\u001b[0m   return dtype.base_dtype in (dtypes.float16, dtypes.float32, dtypes.float64,\n\u001b[0;32m     32\u001b[0m                               \u001b[0mdtypes\u001b[0m\u001b[1;33m.\u001b[0m\u001b[0mcomplex64\u001b[0m\u001b[1;33m,\u001b[0m \u001b[0mdtypes\u001b[0m\u001b[1;33m.\u001b[0m\u001b[0mcomplex128\u001b[0m\u001b[1;33m,\u001b[0m\u001b[1;33m\u001b[0m\u001b[1;33m\u001b[0m\u001b[0m\n",
      "\u001b[1;32m~\\Anaconda3\\envs\\nlp\\lib\\site-packages\\tensorflow_core\\python\\framework\\dtypes.py\u001b[0m in \u001b[0;36mas_dtype\u001b[1;34m(type_value)\u001b[0m\n\u001b[0;32m    723\u001b[0m \u001b[1;33m\u001b[0m\u001b[0m\n\u001b[0;32m    724\u001b[0m   raise TypeError(\"Cannot convert value %r to a TensorFlow DType.\" %\n\u001b[1;32m--> 725\u001b[1;33m                   (type_value,))\n\u001b[0m",
      "\u001b[1;31mTypeError\u001b[0m: Cannot convert value 0 to a TensorFlow DType."
     ]
    }
   ],
   "source": [
    "\n",
    "learner.autofit(0.0001, 1000,checkpoint_folder='./save/')"
   ]
  },
  {
   "cell_type": "code",
   "execution_count": 28,
   "metadata": {
    "hidden": true
   },
   "outputs": [
    {
     "name": "stdout",
     "output_type": "stream",
     "text": [
      "Model: \"tf_distil_bert_for_sequence_classification\"\n",
      "_________________________________________________________________\n",
      "Layer (type)                 Output Shape              Param #   \n",
      "=================================================================\n",
      "distilbert (TFDistilBertMain multiple                  134734080 \n",
      "_________________________________________________________________\n",
      "pre_classifier (Dense)       multiple                  590592    \n",
      "_________________________________________________________________\n",
      "classifier (Dense)           multiple                  6152      \n",
      "_________________________________________________________________\n",
      "dropout_19 (Dropout)         multiple                  0         \n",
      "=================================================================\n",
      "Total params: 135,330,824\n",
      "Trainable params: 135,330,824\n",
      "Non-trainable params: 0\n",
      "_________________________________________________________________\n"
     ]
    }
   ],
   "source": [
    "model.summary()"
   ]
  },
  {
   "cell_type": "code",
   "execution_count": 44,
   "metadata": {
    "hidden": true
   },
   "outputs": [],
   "source": [
    "model.layers[0].trainable = True"
   ]
  },
  {
   "cell_type": "code",
   "execution_count": 20,
   "metadata": {
    "hidden": true
   },
   "outputs": [
    {
     "name": "stdout",
     "output_type": "stream",
     "text": [
      "WARNING:tensorflow:Skipping full serialization of Keras layer <tensorflow.python.keras.layers.core.Dropout object at 0x000001999BE2A1C8>, because it is not built.\n",
      "WARNING:tensorflow:Skipping full serialization of Keras layer <tensorflow.python.keras.layers.core.Dropout object at 0x000001999B5B4988>, because it is not built.\n",
      "WARNING:tensorflow:Skipping full serialization of Keras layer <tensorflow.python.keras.layers.core.Dropout object at 0x000001999979E288>, because it is not built.\n",
      "WARNING:tensorflow:Skipping full serialization of Keras layer <tensorflow.python.keras.layers.core.Dropout object at 0x00000199998267C8>, because it is not built.\n",
      "WARNING:tensorflow:Skipping full serialization of Keras layer <tensorflow.python.keras.layers.core.Dropout object at 0x000001999C2E6C48>, because it is not built.\n",
      "WARNING:tensorflow:Skipping full serialization of Keras layer <tensorflow.python.keras.layers.core.Dropout object at 0x00000199996B8788>, because it is not built.\n",
      "INFO:tensorflow:Assets written to: /save/assets\n"
     ]
    }
   ],
   "source": [
    "model.save('/save/')"
   ]
  },
  {
   "cell_type": "code",
   "execution_count": 43,
   "metadata": {
    "hidden": true
   },
   "outputs": [],
   "source": [
    "model.save_pretrained('./save/')"
   ]
  },
  {
   "cell_type": "code",
   "execution_count": 51,
   "metadata": {
    "hidden": true
   },
   "outputs": [
    {
     "ename": "AttributeError",
     "evalue": "'TFDistilBertForSequenceClassification' object has no attribute 'load'",
     "output_type": "error",
     "traceback": [
      "\u001b[1;31m---------------------------------------------------------------------------\u001b[0m",
      "\u001b[1;31mAttributeError\u001b[0m                            Traceback (most recent call last)",
      "\u001b[1;32m<ipython-input-51-ab316099962a>\u001b[0m in \u001b[0;36m<module>\u001b[1;34m\u001b[0m\n\u001b[1;32m----> 1\u001b[1;33m \u001b[0mmodel\u001b[0m\u001b[1;33m.\u001b[0m\u001b[0mload\u001b[0m\u001b[1;33m(\u001b[0m\u001b[1;34m'./save/'\u001b[0m\u001b[1;33m)\u001b[0m\u001b[1;33m\u001b[0m\u001b[1;33m\u001b[0m\u001b[0m\n\u001b[0m",
      "\u001b[1;31mAttributeError\u001b[0m: 'TFDistilBertForSequenceClassification' object has no attribute 'load'"
     ]
    }
   ],
   "source": [
    "model.load_weights('./save/')"
   ]
  },
  {
   "cell_type": "markdown",
   "metadata": {},
   "source": [
    "# Long Bert"
   ]
  },
  {
   "cell_type": "code",
   "execution_count": null,
   "metadata": {},
   "outputs": [],
   "source": []
  }
 ],
 "metadata": {
  "kernelspec": {
   "display_name": "nlp",
   "language": "python",
   "name": "nlp"
  },
  "language_info": {
   "codemirror_mode": {
    "name": "ipython",
    "version": 3
   },
   "file_extension": ".py",
   "mimetype": "text/x-python",
   "name": "python",
   "nbconvert_exporter": "python",
   "pygments_lexer": "ipython3",
   "version": "3.7.6"
  },
  "latex_envs": {
   "LaTeX_envs_menu_present": true,
   "autoclose": false,
   "autocomplete": true,
   "bibliofile": "biblio.bib",
   "cite_by": "apalike",
   "current_citInitial": 1,
   "eqLabelWithNumbers": true,
   "eqNumInitial": 1,
   "hotkeys": {
    "equation": "Ctrl-E",
    "itemize": "Ctrl-I"
   },
   "labels_anchors": false,
   "latex_user_defs": false,
   "report_style_numbering": false,
   "user_envs_cfg": false
  }
 },
 "nbformat": 4,
 "nbformat_minor": 4
}
